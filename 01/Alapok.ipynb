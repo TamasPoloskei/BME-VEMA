{
 "cells": [
  {
   "cell_type": "markdown",
   "metadata": {},
   "source": [
    "# Bevezetés\n",
    "\n",
    "### Python programozási nyelv\n",
    "\n",
    "A Python egy open-source (OS), interpretált, általános célú programozási nyelv (vagy script-nyelv).\n",
    "\n",
    "**Tulajdonságai:**\n",
    "- Objektum orientált\n",
    "- Interpretált\n",
    "    - Nem szükséges fordítani (mint a pl a *C++*-t), elég csak beírni a parancsot, és már futtatható is a kód\n",
    "    - Alkalmas teszi számítások gyors-prototipizálására\n",
    "    - Cserébe lassú\n",
    "- Open-source:\n",
    "    - Ingyenes\n",
    "    - Folyamatosan karban tartott \n",
    "    - Széles körben felhasznált iparban és akadémiában is\n",
    "    - Nagy \"Community\", sok segédlettel, fórummal (pl.: [stackoverflow](https://stackoverflow.com/questions/tagged/python)) \n",
    "- Moduláris:\n",
    "    - Rengetek feladatra létezik \"*package*\" (pl.: numerikus számításokra *numpy*, szimbolikus számításokra *sympy*, táblázatfájl-kezelésre *CSV*)\n",
    "    - Csak azt kell behívni, amire szükségünk van\n",
    "    - Ismerni kell a *package* ekoszisztémát, mik léteznek, mi mire jó, stb...\n",
    "- Sok IDE (*Integrated Development Environment*) létezik:\n",
    "    - Alapvetően shell (terminál) alapú\n",
    "    - Notebook: **_jupyter notebook_**, *jupyter lab*\n",
    "    - Szövegszerkesztő: *Spyder*, *VS Code* (ingyenes/open source - ezek tartalmaznak *Debugger*-t is)\n",
    "    - Fizetős szövegszerkeszők (lista nem teljes): *Visual Studio*, *PyCharm*, stb...\n",
    "    \n",
    "### Jupyter notebook működése (+ Python kernel):\n",
    "\n",
    "Legfontosabb tudnivalók:\n",
    "\n",
    "- Csak egy *front-end*, ami kommunikál egy *kernel*-lel (ez a kernel menüben választható).\n",
    "- Két mód létezik:\n",
    "    - Command mode (cellaműveleteket lehet végezni)\n",
    "    - Edit mode (szövegbevitel cellába)\n",
    "- Command mode (`ESC` billentyű lenyomásával érhető el, kék csík a cella kijelölése esetén):\n",
    "    - Notebook mentése: `s`\n",
    "    - Cellák hozzáadása: `b` az aktuális cella alá, `a` az aktuális cella fölé\n",
    "    - Cella törlése: kétszer egymás után a `d` billentyű lenyomása\n",
    "    - Cella törlésének visszavonása: `z`\n",
    "    - Cella másolás: `c`, kivágás: `x`, beillesztés az aktuális cella alá: `v`\n",
    "    - Számozás bekapcsolása a cella soraira: `l` (kis L), vagy `Shift + l` az összes cellára\n",
    "    - Cellamódok: futtatandó kód: `y`, nyers kód (nem futtatható): `r`, markdown (formázott szöveg): `m` \n",
    "- Edit mode (`Enter` billenytű lenyomásával érhető el, zöld szín):\n",
    "    - Sor \"kikommentelése\"/\"visszaállítása\": `Ctrl + /`\n",
    "    - Több kurzor lehelyezése: `Ctrl + Bal egérgomb` \n",
    "    - Téglalap-szerű kijelölés (rectangular selection): `Alt + Bal egérgomb` \"húzása\" (dragging)\n",
    "- Közös\n",
    "    - Cella futtatása, majd cellaléptetés: `Shift + Enter` (ez létrehoz egy új cellát, ha nincs hova lépnie)\n",
    "    - Cella futtatása cellaléptetés nélkül: `Ctrl + Enter` \n",
    "\n",
    "**Jupyter notebook help-jének előhozása**: *Edit mode*-ban `h` lenyomásával  \n",
    "**Python help**: Kurzorral a függvény nevén állva `Shift + Tab` vagy egy cellába `?\"fv_név\"` beírása és futtatása"
   ]
  },
  {
   "cell_type": "markdown",
   "metadata": {},
   "source": [
    "# Python bevezető"
   ]
  },
  {
   "cell_type": "markdown",
   "metadata": {},
   "source": [
    "## Alapműveletek (Shift/Ctrl + Enter-rel futtassuk)"
   ]
  },
  {
   "cell_type": "code",
   "execution_count": 1,
   "metadata": {},
   "outputs": [
    {
     "data": {
      "text/plain": [
       "24"
      ]
     },
     "execution_count": 1,
     "metadata": {},
     "output_type": "execute_result"
    }
   ],
   "source": [
    "17 + 7 #Összeadás"
   ]
  },
  {
   "cell_type": "code",
   "execution_count": 2,
   "metadata": {},
   "outputs": [
    {
     "data": {
      "text/plain": [
       "326"
      ]
     },
     "execution_count": 2,
     "metadata": {},
     "output_type": "execute_result"
    }
   ],
   "source": [
    "333 - 7 #Kivonás"
   ]
  },
  {
   "cell_type": "code",
   "execution_count": 3,
   "metadata": {
    "scrolled": false
   },
   "outputs": [
    {
     "data": {
      "text/plain": [
       "242"
      ]
     },
     "execution_count": 3,
     "metadata": {},
     "output_type": "execute_result"
    }
   ],
   "source": [
    "11 * 22 #Szorzás"
   ]
  },
  {
   "cell_type": "code",
   "execution_count": 4,
   "metadata": {},
   "outputs": [
    {
     "data": {
      "text/plain": [
       "0.7777777777777778"
      ]
     },
     "execution_count": 4,
     "metadata": {},
     "output_type": "execute_result"
    }
   ],
   "source": [
    "7/9 #Osztás (ez nem egész (int) lesz: külön típus float)"
   ]
  },
  {
   "cell_type": "code",
   "execution_count": 5,
   "metadata": {
    "scrolled": true
   },
   "outputs": [
    {
     "data": {
      "text/plain": [
       "-2.7755575615628914e-17"
      ]
     },
     "execution_count": 5,
     "metadata": {},
     "output_type": "execute_result"
    }
   ],
   "source": [
    "0.3-0.1-0.2 # float: számábrázolási hiba lehet!!"
   ]
  },
  {
   "cell_type": "code",
   "execution_count": 6,
   "metadata": {},
   "outputs": [
    {
     "data": {
      "text/plain": [
       "8"
      ]
     },
     "execution_count": 6,
     "metadata": {},
     "output_type": "execute_result"
    }
   ],
   "source": [
    "2**3 # Hatványozás (** és NEM ^!)"
   ]
  },
  {
   "cell_type": "code",
   "execution_count": 7,
   "metadata": {},
   "outputs": [
    {
     "data": {
      "text/plain": [
       "1.4142135623730951"
      ]
     },
     "execution_count": 7,
     "metadata": {},
     "output_type": "execute_result"
    }
   ],
   "source": [
    "2**(0.5) # Gyökvönás hatványozás segítségével"
   ]
  },
  {
   "cell_type": "code",
   "execution_count": 8,
   "metadata": {},
   "outputs": [
    {
     "data": {
      "text/plain": [
       "0.005"
      ]
     },
     "execution_count": 8,
     "metadata": {},
     "output_type": "execute_result"
    }
   ],
   "source": [
    "5e-3 #normálalak e segítségével (vagy 5E-3)"
   ]
  },
  {
   "cell_type": "markdown",
   "metadata": {},
   "source": [
    "Néhány alapművelet működik szövegre is"
   ]
  },
  {
   "cell_type": "code",
   "execution_count": 9,
   "metadata": {},
   "outputs": [
    {
     "data": {
      "text/plain": [
       "'str1_str2_'"
      ]
     },
     "execution_count": 9,
     "metadata": {},
     "output_type": "execute_result"
    }
   ],
   "source": [
    "'str1_' + 'str2_' #Összeadás"
   ]
  },
  {
   "cell_type": "code",
   "execution_count": 10,
   "metadata": {},
   "outputs": [
    {
     "data": {
      "text/plain": [
       "'str2_str2_'"
      ]
     },
     "execution_count": 10,
     "metadata": {},
     "output_type": "execute_result"
    }
   ],
   "source": [
    "2 * 'str2_' #Szorzás"
   ]
  },
  {
   "cell_type": "markdown",
   "metadata": {},
   "source": [
    "## Összetettebb függvények"
   ]
  },
  {
   "cell_type": "code",
   "execution_count": 1,
   "metadata": {},
   "outputs": [
    {
     "ename": "NameError",
     "evalue": "name 'sin' is not defined",
     "output_type": "error",
     "traceback": [
      "\u001b[1;31m---------------------------------------------------------------------------\u001b[0m",
      "\u001b[1;31mNameError\u001b[0m                                 Traceback (most recent call last)",
      "\u001b[1;32m<ipython-input-1-8317350a63ff>\u001b[0m in \u001b[0;36m<module>\u001b[1;34m()\u001b[0m\n\u001b[1;32m----> 1\u001b[1;33m \u001b[0msin\u001b[0m\u001b[1;33m(\u001b[0m\u001b[1;36m2\u001b[0m\u001b[1;33m)\u001b[0m \u001b[1;31m#szinusz\u001b[0m\u001b[1;33m\u001b[0m\u001b[0m\n\u001b[0m",
      "\u001b[1;31mNameError\u001b[0m: name 'sin' is not defined"
     ]
    }
   ],
   "source": [
    "sin(2) #szinusz"
   ]
  },
  {
   "cell_type": "markdown",
   "metadata": {},
   "source": [
    "Összetettebb függvények már nincsenek a python alapnyelvben - ilyenkor szükséges behívni külső csomagokat, pl a **math** csomagot"
   ]
  },
  {
   "cell_type": "code",
   "execution_count": 12,
   "metadata": {
    "collapsed": true
   },
   "outputs": [],
   "source": [
    "import math"
   ]
  },
  {
   "cell_type": "code",
   "execution_count": 13,
   "metadata": {},
   "outputs": [
    {
     "ename": "NameError",
     "evalue": "name 'sin' is not defined",
     "output_type": "error",
     "traceback": [
      "\u001b[0;31m---------------------------------------------------------------------------\u001b[0m",
      "\u001b[0;31mNameError\u001b[0m                                 Traceback (most recent call last)",
      "\u001b[0;32m<ipython-input-13-a0912eaca942>\u001b[0m in \u001b[0;36m<module>\u001b[0;34m()\u001b[0m\n\u001b[0;32m----> 1\u001b[0;31m \u001b[0msin\u001b[0m\u001b[0;34m(\u001b[0m\u001b[0;36m2\u001b[0m\u001b[0;34m)\u001b[0m \u001b[0;31m# ez így továbbra sem létezik\u001b[0m\u001b[0;34m\u001b[0m\u001b[0m\n\u001b[0m",
      "\u001b[0;31mNameError\u001b[0m: name 'sin' is not defined"
     ]
    }
   ],
   "source": [
    "sin(2) # ez így továbbra sem létezik"
   ]
  },
  {
   "cell_type": "code",
   "execution_count": 14,
   "metadata": {},
   "outputs": [
    {
     "data": {
      "text/plain": [
       "0.9092974268256817"
      ]
     },
     "execution_count": 14,
     "metadata": {},
     "output_type": "execute_result"
    }
   ],
   "source": [
    "math.sin(2)"
   ]
  },
  {
   "cell_type": "code",
   "execution_count": 15,
   "metadata": {},
   "outputs": [
    {
     "name": "stdout",
     "output_type": "stream",
     "text": [
      "1.4142135623730951\n",
      "-2.185039863261519\n",
      "1.1071487177940904\n"
     ]
    }
   ],
   "source": [
    "# Több parancs együttes beírásakor nem látszik, csak az utolsó sor kimenete: print függvény alkalmazása!\n",
    "print(math.sqrt(2))\n",
    "print(math.tan(2))\n",
    "print(math.atan(2))"
   ]
  },
  {
   "cell_type": "code",
   "execution_count": 16,
   "metadata": {
    "collapsed": true
   },
   "outputs": [],
   "source": [
    "# Kimenet el is rejthető a ; segítségével (\"suppress output\")\n",
    "1+1;"
   ]
  },
  {
   "cell_type": "markdown",
   "metadata": {},
   "source": [
    "Amennyiben szükséges, definiálhatunk mi is saját változókat az `=` jellel.  \n",
    "Megjegyzés: a `=` értékadó függvénynek nincs kimenete"
   ]
  },
  {
   "cell_type": "code",
   "execution_count": 17,
   "metadata": {
    "collapsed": true
   },
   "outputs": [],
   "source": [
    "a=2\n",
    "b=3\n",
    "c=4.0 # automatikus típusadás"
   ]
  },
  {
   "cell_type": "code",
   "execution_count": 18,
   "metadata": {
    "scrolled": true
   },
   "outputs": [
    {
     "data": {
      "text/plain": [
       "196.0"
      ]
     },
     "execution_count": 18,
     "metadata": {},
     "output_type": "execute_result"
    }
   ],
   "source": [
    "(a+b*c)**a # a legáltalánosabb típus lesz a kimenet (int < float)"
   ]
  },
  {
   "cell_type": "code",
   "execution_count": 19,
   "metadata": {},
   "outputs": [
    {
     "ename": "TypeError",
     "evalue": "'int' object is not callable",
     "output_type": "error",
     "traceback": [
      "\u001b[0;31m---------------------------------------------------------------------------\u001b[0m",
      "\u001b[0;31mTypeError\u001b[0m                                 Traceback (most recent call last)",
      "\u001b[0;32m<ipython-input-19-afb5f10120f0>\u001b[0m in \u001b[0;36m<module>\u001b[0;34m()\u001b[0m\n\u001b[1;32m      1\u001b[0m \u001b[0;31m# Fontos, hogy igyekezzük kerülni védett változó neveket! ILYET NE!!!4négy\u001b[0m\u001b[0;34m\u001b[0m\u001b[0;34m\u001b[0m\u001b[0m\n\u001b[1;32m      2\u001b[0m \u001b[0mmath\u001b[0m\u001b[0;34m.\u001b[0m\u001b[0msqrt\u001b[0m \u001b[0;34m=\u001b[0m \u001b[0;36m1\u001b[0m\u001b[0;34m\u001b[0m\u001b[0m\n\u001b[0;32m----> 3\u001b[0;31m \u001b[0mmath\u001b[0m\u001b[0;34m.\u001b[0m\u001b[0msqrt\u001b[0m\u001b[0;34m(\u001b[0m\u001b[0;36m2\u001b[0m\u001b[0;34m)\u001b[0m\u001b[0;34m\u001b[0m\u001b[0m\n\u001b[0m",
      "\u001b[0;31mTypeError\u001b[0m: 'int' object is not callable"
     ]
    }
   ],
   "source": [
    "# Fontos, hogy igyekezzük kerülni védett változó neveket! ILYET NE!!!4négy\n",
    "math.sqrt = 1\n",
    "math.sqrt(2)"
   ]
  },
  {
   "cell_type": "markdown",
   "metadata": {},
   "source": [
    "Ha véletlenül ilyet teszünk, akkor érdemes újraindítani a *kernel* a fent látható körkörös nyíllal, vagy a *Kernel* $\\rightarrow$ *Restart* segítségével"
   ]
  },
  {
   "cell_type": "markdown",
   "metadata": {},
   "source": [
    "## Függvények\n",
    "\n",
    "Szerkezet:\n",
    "```python\n",
    "def function(*arguments):\n",
    "    instruction1\n",
    "    instruction2\n",
    "    ...\n",
    "    return result\n",
    "```\n",
    "\n",
    "A függvény alá tartozó utasításokat tabulátoros behúzással (indent) kell beírni (nincs `{}` zárójel, vagy `end`). A függvény neve után jönnek az argumentumok majd kettősponttal `:` jelezzük, hogy hol kezdődik a függvény."
   ]
  },
  {
   "cell_type": "code",
   "execution_count": 20,
   "metadata": {
    "collapsed": true
   },
   "outputs": [],
   "source": [
    "def foo(x):\n",
    "    return 3*x\n",
    "\n",
    "def bar(x,y):\n",
    "    a = x+y**2\n",
    "    return 2*a + 4"
   ]
  },
  {
   "cell_type": "code",
   "execution_count": 21,
   "metadata": {},
   "outputs": [
    {
     "name": "stdout",
     "output_type": "stream",
     "text": [
      "9\n",
      "9.0\n",
      "szöveg_szöveg_szöveg_\n",
      "42.0\n"
     ]
    }
   ],
   "source": [
    "print(foo(3))\n",
    "print(foo(3.))\n",
    "print(foo('szöveg_'))\n",
    "\n",
    "print(bar(3,4.))"
   ]
  },
  {
   "cell_type": "markdown",
   "metadata": {},
   "source": [
    "Lehetséges úgynevezett anonim függvényeket (*anonymous function* vagy *lambda function*) is létrehozni, amely gyors módja az egyszerű, egysoros függvények létrehozására:\n",
    "\n",
    "```python\n",
    "lambda arguments: instruction\n",
    "```\n",
    "\n",
    "Ez akár egy változóhoz is hozzárendelhető, mint egy szám vagy string."
   ]
  },
  {
   "cell_type": "code",
   "execution_count": 22,
   "metadata": {
    "collapsed": true
   },
   "outputs": [],
   "source": [
    "double = lambda x : x*2\n",
    "multiply = lambda x,y : x*y"
   ]
  },
  {
   "cell_type": "code",
   "execution_count": 23,
   "metadata": {},
   "outputs": [
    {
     "name": "stdout",
     "output_type": "stream",
     "text": [
      "6\n",
      "30\n"
     ]
    }
   ],
   "source": [
    "print(double(3))\n",
    "print(multiply(10,3))"
   ]
  },
  {
   "cell_type": "markdown",
   "metadata": {},
   "source": [
    "## Listák\n",
    "\n",
    "Pythonban egyszerűen létrehozhatóak listák, amelyekbe bármilyen adattípust tárolhatunk. A lista indexelése 0-tól indul"
   ]
  },
  {
   "cell_type": "code",
   "execution_count": 24,
   "metadata": {
    "collapsed": true
   },
   "outputs": [],
   "source": [
    "lista = [1,2,3,4,\"valami\",[1.0,4]]"
   ]
  },
  {
   "cell_type": "code",
   "execution_count": 25,
   "metadata": {},
   "outputs": [
    {
     "name": "stdout",
     "output_type": "stream",
     "text": [
      "1\n",
      "4\n",
      "[1.0, 4]\n",
      "valami\n"
     ]
    }
   ],
   "source": [
    "print(lista[0]) # lista 1. eleme\n",
    "print(lista[3]) # lista 4. eleme\n",
    "print(lista[-1]) # negatív számokkal hátulról indexeljük a listát, és (-1)-től indul\n",
    "print(lista[-2]) # lista utolsó előtti eleme"
   ]
  },
  {
   "cell_type": "code",
   "execution_count": 26,
   "metadata": {},
   "outputs": [
    {
     "name": "stdout",
     "output_type": "stream",
     "text": [
      "[2, 3, 4, 'valami']\n",
      "[2]\n",
      "[3, 4, 'valami', [1.0, 4]]\n"
     ]
    }
   ],
   "source": [
    "print(lista[1:-1]) # egyszerre több elem [inkluzív:exklúzív módon]\n",
    "print(lista[1:2]) # egyszerre több elem [inkluzív:exklúzív módon]\n",
    "print(lista[2:]) # lista utolsó elemét is figyelembe vesszük"
   ]
  },
  {
   "cell_type": "markdown",
   "metadata": {},
   "source": [
    "## Vezérlési szerkezetek (Control Flow) - csak a legfontosabbak"
   ]
  },
  {
   "cell_type": "markdown",
   "metadata": {},
   "source": [
    "### if-then-else\n",
    "\n",
    "```python\n",
    "if condition:\n",
    "    instruction1\n",
    "elif condition2:\n",
    "    instruction2\n",
    "else:\n",
    "    intsturction3\n",
    "```"
   ]
  },
  {
   "cell_type": "code",
   "execution_count": 27,
   "metadata": {},
   "outputs": [
    {
     "name": "stdout",
     "output_type": "stream",
     "text": [
      "\"a\" nagyobb mint 3, de kisebb mint 10\n"
     ]
    }
   ],
   "source": [
    "a=4\n",
    "if a<=3:\n",
    "    print('\"a\" nem nagyobb, mint 3')\n",
    "elif a>=10:\n",
    "    print('\"a\" nem kisebb, mint 10')\n",
    "else:\n",
    "    print('\"a\" nagyobb mint 3, de kisebb mint 10')"
   ]
  },
  {
   "cell_type": "markdown",
   "metadata": {},
   "source": [
    "### for ciklus (for loop)\n",
    "```python\n",
    "for i in array:\n",
    "    instruction\n",
    "```"
   ]
  },
  {
   "cell_type": "code",
   "execution_count": 28,
   "metadata": {},
   "outputs": [
    {
     "name": "stdout",
     "output_type": "stream",
     "text": [
      "0\n",
      "1\n",
      "2\n",
      "\n",
      "lista 0. eleme: 1\n",
      "lista 1. eleme: 2\n",
      "lista 2. eleme: 3\n",
      "lista 3. eleme: 4\n",
      "lista 4. eleme: valami\n",
      "lista 5. eleme: [1.0, 4]\n"
     ]
    }
   ],
   "source": [
    "for i in range(3):\n",
    "    print(i)\n",
    "    \n",
    "print()\n",
    "\n",
    "for (i,elem) in enumerate(lista):\n",
    "    print('lista ',i,'. eleme: ',elem,sep='') # több elem printelése egyszerr, szeparátor = ''\n"
   ]
  },
  {
   "cell_type": "markdown",
   "metadata": {},
   "source": [
    "## Listák gyors létrehozása (List comprehension)"
   ]
  },
  {
   "cell_type": "code",
   "execution_count": 29,
   "metadata": {},
   "outputs": [
    {
     "data": {
      "text/plain": [
       "[12, 27, 48]"
      ]
     },
     "execution_count": 29,
     "metadata": {},
     "output_type": "execute_result"
    }
   ],
   "source": [
    "lista2 = [3*i**2 for i in range(2,5)] # range: 2,3,4\n",
    "lista2"
   ]
  },
  {
   "cell_type": "code",
   "execution_count": 30,
   "metadata": {},
   "outputs": [
    {
     "data": {
      "text/plain": [
       "[0, 1, 2, 3, 4, 5, 6, 7, 8, 9]"
      ]
     },
     "execution_count": 30,
     "metadata": {},
     "output_type": "execute_result"
    }
   ],
   "source": [
    "lista3 = list(range(10))\n",
    "lista3"
   ]
  },
  {
   "cell_type": "code",
   "execution_count": 31,
   "metadata": {},
   "outputs": [
    {
     "data": {
      "text/plain": [
       "[12, 48, 75, 147, 192]"
      ]
     },
     "execution_count": 31,
     "metadata": {},
     "output_type": "execute_result"
    }
   ],
   "source": [
    "myfun = lambda x: 3*x**2\n",
    "\n",
    "lista4 = [myfun(i) for i in range(2,10) if i%3 != 0] # ha i nem osztható 3-al\n",
    "lista4"
   ]
  }
 ],
 "metadata": {
  "kernelspec": {
   "display_name": "Python 3",
   "language": "python",
   "name": "python3"
  },
  "language_info": {
   "codemirror_mode": {
    "name": "ipython",
    "version": 3
   },
   "file_extension": ".py",
   "mimetype": "text/x-python",
   "name": "python",
   "nbconvert_exporter": "python",
   "pygments_lexer": "ipython3",
   "version": "3.6.3"
  }
 },
 "nbformat": 4,
 "nbformat_minor": 2
}
