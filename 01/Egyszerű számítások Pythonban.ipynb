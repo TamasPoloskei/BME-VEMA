{
 "cells": [
  {
   "cell_type": "markdown",
   "metadata": {},
   "source": [
    "# Egyszerű számítások Pythonban\n",
    "\n",
    "A mérnöki gyakorlatban előforduló alapszámításokhoz 2 fő csomag importálása ajánlott:\n",
    "- `sympy`: szimbolikus számításokhoz\n",
    "- `numerikus`: numerikus számításokhoz (pl mátrix algebra)\n",
    "A `module`-ok hívása az alábbi módokon történhet\n",
    "- `import `*`modulename`* : importálja az adott `module`-t. Ekkor a `module`-ban lévő függvények hívása a `module.functionname(arguments)` segítségével történik (Az *1_Alapok.ipynb*-ben láthattunk erre példát a `math` `module` esetében).  \n",
    "- `import `*`modulename`*`as `*`alias`* : hasonló az előzőhöz, de megválasztjuk, hogy milyen *alias*-ként hivatkozunk a `module`-unkra\n",
    "-  `from `*`modulename`*` import `*`function1, function2, ...`* : csak bizonyos függvények importálása (nem szükséges a `module`-ra hivatkozni a függvények hívása során)\n",
    "- `from `*`modulename`*` import *` : a `module` összes függvényének importálása (nem szükséges a `module`-ra hivatkozni a függvények hívása során)\n"
   ]
  },
  {
   "cell_type": "markdown",
   "metadata": {},
   "source": [
    "# Sympy"
   ]
  },
  {
   "cell_type": "code",
   "execution_count": 2,
   "metadata": {
    "collapsed": true,
    "scrolled": true
   },
   "outputs": [],
   "source": [
    "import sympy as sp # sympy module importálása sp-ként"
   ]
  },
  {
   "cell_type": "code",
   "execution_count": 3,
   "metadata": {},
   "outputs": [
    {
     "data": {
      "text/plain": [
       "2.23606797749979"
      ]
     },
     "execution_count": 3,
     "metadata": {},
     "output_type": "execute_result"
    }
   ],
   "source": [
    "sp.sqrt(5.0) # tartalmazza a főbb függvényeket"
   ]
  },
  {
   "cell_type": "code",
   "execution_count": 4,
   "metadata": {
    "scrolled": false
   },
   "outputs": [
    {
     "data": {
      "text/plain": [
       "sqrt(5)"
      ]
     },
     "execution_count": 4,
     "metadata": {},
     "output_type": "execute_result"
    }
   ],
   "source": [
    "sp.sqrt(5) # egész számra megtartja a pontos értéket (a lebegőpontos csak közelítés!)"
   ]
  },
  {
   "cell_type": "code",
   "execution_count": 5,
   "metadata": {
    "collapsed": true
   },
   "outputs": [],
   "source": [
    "sp.init_printing() # szép kimenet bekapcsolása"
   ]
  },
  {
   "cell_type": "code",
   "execution_count": 6,
   "metadata": {},
   "outputs": [
    {
     "data": {
      "image/png": "[encoded data removed]",
      "text/latex": [
       "$$\\sqrt{5}$$"
      ],
      "text/plain": [
       "√5"
      ]
     },
     "execution_count": 6,
     "metadata": {},
     "output_type": "execute_result"
    }
   ],
   "source": [
    "sp.sqrt(5)"
   ]
  },
  {
   "cell_type": "code",
   "execution_count": 7,
   "metadata": {},
   "outputs": [
    {
     "data": {
      "image/png": "[encoded data removed]",
      "text/latex": [
       "$$2.23606797749979$$"
      ],
      "text/plain": [
       "2.23606797749979"
      ]
     },
     "execution_count": 7,
     "metadata": {},
     "output_type": "execute_result"
    }
   ],
   "source": [
    "sp.N(sp.sqrt(5))# pontos érték kiszámításának erőltetése"
   ]
  },
  {
   "cell_type": "code",
   "execution_count": 8,
   "metadata": {},
   "outputs": [
    {
     "name": "stdout",
     "output_type": "stream",
     "text": [
      "sp.cos(sp.pi):\n"
     ]
    },
    {
     "data": {
      "image/png": "[encoded data removed]",
      "text/latex": [
       "$$-1$$"
      ],
      "text/plain": [
       "-1"
      ]
     },
     "metadata": {},
     "output_type": "display_data"
    },
    {
     "name": "stdout",
     "output_type": "stream",
     "text": [
      "sp.sin(sp.pi/2):\n"
     ]
    },
    {
     "data": {
      "image/png": "[encoded data removed]",
      "text/latex": [
       "$$1$$"
      ],
      "text/plain": [
       "1"
      ]
     },
     "metadata": {},
     "output_type": "display_data"
    },
    {
     "name": "stdout",
     "output_type": "stream",
     "text": [
      "sp.sin(sp.pi/6):\n"
     ]
    },
    {
     "data": {
      "image/png": "[encoded data removed]",
      "text/latex": [
       "$$\\frac{1}{2}$$"
      ],
      "text/plain": [
       "1/2"
      ]
     },
     "metadata": {},
     "output_type": "display_data"
    },
    {
     "name": "stdout",
     "output_type": "stream",
     "text": [
      "sp.tan(sp.pi/4):\n"
     ]
    },
    {
     "data": {
      "image/png": "[encoded data removed]",
      "text/latex": [
       "$$1$$"
      ],
      "text/plain": [
       "1"
      ]
     },
     "metadata": {},
     "output_type": "display_data"
    },
    {
     "name": "stdout",
     "output_type": "stream",
     "text": [
      "sp.atan(1):\n"
     ]
    },
    {
     "data": {
      "image/png": "[encoded data removed]",
      "text/latex": [
       "$$\\frac{\\pi}{4}$$"
      ],
      "text/plain": [
       "π\n",
       "─\n",
       "4"
      ]
     },
     "metadata": {},
     "output_type": "display_data"
    },
    {
     "name": "stdout",
     "output_type": "stream",
     "text": [
      "π/4:\n"
     ]
    },
    {
     "data": {
      "image/png": "[encoded data removed]",
      "text/latex": [
       "$$0.785398163397448$$"
      ],
      "text/plain": [
       "0.785398163397448"
      ]
     },
     "metadata": {},
     "output_type": "display_data"
    },
    {
     "data": {
      "image/png": "[encoded data removed]",
      "text/latex": [
       "$$0.785$$"
      ],
      "text/plain": [
       "0.785"
      ]
     },
     "metadata": {},
     "output_type": "display_data"
    }
   ],
   "source": [
    "# ez a többi függvényre is igaz\n",
    "print('sp.cos(sp.pi):')\n",
    "display( sp.cos(sp.pi) )\n",
    "\n",
    "print('sp.sin(sp.pi/2):')\n",
    "display( sp.sin(sp.pi/2) )\n",
    "\n",
    "print('sp.sin(sp.pi/6):')\n",
    "display( sp.sin(sp.pi/6) )\n",
    "\n",
    "print('sp.tan(sp.pi/4):')\n",
    "display( sp.tan(sp.pi/4) )\n",
    "\n",
    "print('sp.atan(1):')\n",
    "display( sp.atan(1) )\n",
    "\n",
    "print('π/4:')\n",
    "display( sp.N(sp.pi/4) )\n",
    "display( sp.N(sp.pi/4,3) ) # korlátozzuk a kiírandó tizedesjegyek számát\n"
   ]
  },
  {
   "cell_type": "markdown",
   "metadata": {},
   "source": [
    "[**Sympy constants**](http://docs.sympy.org/0.7.6/modules/mpmath/functions/constants.html)"
   ]
  },
  {
   "cell_type": "code",
   "execution_count": 9,
   "metadata": {},
   "outputs": [
    {
     "data": {
      "image/png": "[encoded data removed]",
      "text/latex": [
       "$$57.3$$"
      ],
      "text/plain": [
       "57.30"
      ]
     },
     "execution_count": 9,
     "metadata": {},
     "output_type": "execute_result"
    }
   ],
   "source": [
    "sp.N(sp.deg(1),4)# radiánból fok"
   ]
  },
  {
   "cell_type": "code",
   "execution_count": 10,
   "metadata": {},
   "outputs": [
    {
     "data": {
      "image/png": "[encoded data removed]",
      "text/latex": [
       "$$\\frac{\\pi}{18}$$"
      ],
      "text/plain": [
       "π \n",
       "──\n",
       "18"
      ]
     },
     "execution_count": 10,
     "metadata": {},
     "output_type": "execute_result"
    }
   ],
   "source": [
    "sp.rad(10) # fokból radián"
   ]
  },
  {
   "cell_type": "code",
   "execution_count": 11,
   "metadata": {},
   "outputs": [
    {
     "name": "stdout",
     "output_type": "stream",
     "text": [
      "π: 3.14159\n",
      "Euler szám: 2.71828\n"
     ]
    }
   ],
   "source": [
    "print(\"π:\",sp.N(  sp.pi  ,6)) # pi\n",
    "print(\"Euler szám:\",sp.N(   sp.E   ,6)) # Euler szám"
   ]
  },
  {
   "cell_type": "markdown",
   "metadata": {},
   "source": [
    "# Szimbolikus számítások"
   ]
  },
  {
   "cell_type": "markdown",
   "metadata": {},
   "source": [
    "## Alapok"
   ]
  },
  {
   "cell_type": "code",
   "execution_count": 12,
   "metadata": {
    "collapsed": true
   },
   "outputs": [],
   "source": [
    "x,y = sp.symbols('x,y')"
   ]
  },
  {
   "cell_type": "code",
   "execution_count": 13,
   "metadata": {},
   "outputs": [
    {
     "data": {
      "image/png": "[encoded data removed]",
      "text/latex": [
       "$$x$$"
      ],
      "text/plain": [
       "x"
      ]
     },
     "execution_count": 13,
     "metadata": {},
     "output_type": "execute_result"
    }
   ],
   "source": [
    "x # szimbólum "
   ]
  },
  {
   "cell_type": "code",
   "execution_count": 14,
   "metadata": {},
   "outputs": [
    {
     "data": {
      "image/png": "[encoded data removed]",
      "text/latex": [
       "$$y$$"
      ],
      "text/plain": [
       "y"
      ]
     },
     "execution_count": 14,
     "metadata": {},
     "output_type": "execute_result"
    }
   ],
   "source": [
    "y"
   ]
  },
  {
   "cell_type": "code",
   "execution_count": 15,
   "metadata": {
    "scrolled": true
   },
   "outputs": [
    {
     "data": {
      "image/png": "[encoded data removed]",
      "text/latex": [
       "$$x + y$$"
      ],
      "text/plain": [
       "x + y"
      ]
     },
     "execution_count": 15,
     "metadata": {},
     "output_type": "execute_result"
    }
   ],
   "source": [
    "x+y"
   ]
  },
  {
   "cell_type": "code",
   "execution_count": 16,
   "metadata": {},
   "outputs": [
    {
     "data": {
      "image/png": "[encoded data removed]",
      "text/latex": [
       "$$x^{y}$$"
      ],
      "text/plain": [
       " y\n",
       "x "
      ]
     },
     "execution_count": 16,
     "metadata": {},
     "output_type": "execute_result"
    }
   ],
   "source": [
    "x**y"
   ]
  },
  {
   "cell_type": "code",
   "execution_count": 17,
   "metadata": {},
   "outputs": [
    {
     "data": {
      "image/png": "[encoded data removed]",
      "text/latex": [
       "$$x^{2} - 100 x + 200$$"
      ],
      "text/plain": [
       " 2              \n",
       "x  - 100⋅x + 200"
      ]
     },
     "execution_count": 17,
     "metadata": {},
     "output_type": "execute_result"
    }
   ],
   "source": [
    "# A függvények ugyanúgy működnek\n",
    "def foo(x):\n",
    "    return x**2-100*x+200\n",
    "\n",
    "foo(x) #kimenet: expression"
   ]
  },
  {
   "cell_type": "code",
   "execution_count": 18,
   "metadata": {
    "scrolled": true
   },
   "outputs": [
    {
     "data": {
      "image/png": "[encoded data removed]",
      "text/latex": [
       "$$x^{2} + e^{10 y}$$"
      ],
      "text/plain": [
       " 2    10⋅y\n",
       "x  + ℯ    "
      ]
     },
     "execution_count": 18,
     "metadata": {},
     "output_type": "execute_result"
    }
   ],
   "source": [
    "def gsp(x,y):\n",
    "    return x**2 + sp.exp(10*y)\n",
    "\n",
    "gsp(x, y)"
   ]
  },
  {
   "cell_type": "markdown",
   "metadata": {},
   "source": [
    "## *Expression* manipuláció"
   ]
  },
  {
   "cell_type": "code",
   "execution_count": 19,
   "metadata": {},
   "outputs": [
    {
     "data": {
      "image/png": "[encoded data removed]",
      "text/latex": [
       "$$\\left(x + y\\right)^{2}$$"
      ],
      "text/plain": [
       "       2\n",
       "(x + y) "
      ]
     },
     "execution_count": 19,
     "metadata": {},
     "output_type": "execute_result"
    }
   ],
   "source": [
    "sp.factor( x**2+2*x*y+y**2 )"
   ]
  },
  {
   "cell_type": "code",
   "execution_count": 20,
   "metadata": {},
   "outputs": [
    {
     "data": {
      "image/png": "[encoded data removed]",
      "text/latex": [
       "$$\\sin{\\left (2 x \\right )}$$"
      ],
      "text/plain": [
       "sin(2⋅x)"
      ]
     },
     "execution_count": 20,
     "metadata": {},
     "output_type": "execute_result"
    }
   ],
   "source": [
    "sin2x=sp.simplify(2*sp.sin(x)*sp.cos(x))\n",
    "sin2x"
   ]
  },
  {
   "cell_type": "code",
   "execution_count": 21,
   "metadata": {},
   "outputs": [
    {
     "data": {
      "image/png": "[encoded data removed]",
      "text/latex": [
       "$$\\sin{\\left (2 x \\right )}$$"
      ],
      "text/plain": [
       "sin(2⋅x)"
      ]
     },
     "metadata": {},
     "output_type": "display_data"
    },
    {
     "data": {
      "image/png": "[encoded data removed]",
      "text/latex": [
       "$$\\sin{\\left (2 x \\right )}$$"
      ],
      "text/plain": [
       "sin(2⋅x)"
      ]
     },
     "execution_count": 21,
     "metadata": {},
     "output_type": "execute_result"
    }
   ],
   "source": [
    "display(sp.expand(sin2x))\n",
    "sin2x.expand()"
   ]
  },
  {
   "cell_type": "code",
   "execution_count": 22,
   "metadata": {},
   "outputs": [
    {
     "data": {
      "image/png": "[encoded data removed]",
      "text/latex": [
       "$$\\frac{x}{y} + 1 + \\frac{7}{y}$$"
      ],
      "text/plain": [
       "x       7\n",
       "─ + 1 + ─\n",
       "y       y"
      ]
     },
     "metadata": {},
     "output_type": "display_data"
    },
    {
     "data": {
      "image/png": "[encoded data removed]",
      "text/latex": [
       "$$1 + \\frac{1}{y} \\left(x + 7\\right)$$"
      ],
      "text/plain": [
       "    x + 7\n",
       "1 + ─────\n",
       "      y  "
      ]
     },
     "execution_count": 22,
     "metadata": {},
     "output_type": "execute_result"
    }
   ],
   "source": [
    "frac=x/y+y/y+7/y \n",
    "display( frac )\n",
    "frac.ratsimp()"
   ]
  },
  {
   "cell_type": "markdown",
   "metadata": {},
   "source": [
    "## Függvényanalízis"
   ]
  },
  {
   "cell_type": "markdown",
   "metadata": {},
   "source": [
    "### Deriválás"
   ]
  },
  {
   "cell_type": "code",
   "execution_count": 23,
   "metadata": {},
   "outputs": [
    {
     "data": {
      "image/png": "[encoded data removed]",
      "text/latex": [
       "$$2 \\cos{\\left (2 x \\right )}$$"
      ],
      "text/plain": [
       "2⋅cos(2⋅x)"
      ]
     },
     "execution_count": 23,
     "metadata": {},
     "output_type": "execute_result"
    }
   ],
   "source": [
    "sin2x.diff() # deriválás"
   ]
  },
  {
   "cell_type": "code",
   "execution_count": 24,
   "metadata": {},
   "outputs": [
    {
     "data": {
      "image/png": "[encoded data removed]",
      "text/latex": [
       "$$2 \\cos{\\left (2 x + 2 y \\right )}$$"
      ],
      "text/plain": [
       "2⋅cos(2⋅x + 2⋅y)"
      ]
     },
     "execution_count": 24,
     "metadata": {},
     "output_type": "execute_result"
    }
   ],
   "source": [
    "sp.sin(2*x+2*y).diff(x)"
   ]
  },
  {
   "cell_type": "code",
   "execution_count": 25,
   "metadata": {},
   "outputs": [
    {
     "data": {
      "image/png": "[encoded data removed]",
      "text/latex": [
       "$$x - \\frac{x^{3}}{6} + \\frac{x^{5}}{120} - \\frac{x^{7}}{5040} + \\frac{x^{9}}{362880} + \\mathcal{O}\\left(x^{10}\\right)$$"
      ],
      "text/plain": [
       "     3     5     7       9           \n",
       "    x     x     x       x       ⎛ 10⎞\n",
       "x - ── + ─── - ──── + ────── + O⎝x  ⎠\n",
       "    6    120   5040   362880         "
      ]
     },
     "execution_count": 25,
     "metadata": {},
     "output_type": "execute_result"
    }
   ],
   "source": [
    "sp.series(sp.sin(x),x,0,10) # Taylor sorfejtés x szerint, x0=0 körül, 10-ed renben"
   ]
  },
  {
   "cell_type": "markdown",
   "metadata": {},
   "source": [
    "### Integrálás"
   ]
  },
  {
   "cell_type": "code",
   "execution_count": 26,
   "metadata": {},
   "outputs": [
    {
     "data": {
      "image/png": "[encoded data removed]",
      "text/latex": [
       "$$- \\frac{1}{2} \\cos{\\left (2 x \\right )}$$"
      ],
      "text/plain": [
       "-cos(2⋅x) \n",
       "──────────\n",
       "    2     "
      ]
     },
     "execution_count": 26,
     "metadata": {},
     "output_type": "execute_result"
    }
   ],
   "source": [
    "sp.integrate(sp.sin(2*x),x) # Határozatlan integrál"
   ]
  },
  {
   "cell_type": "code",
   "execution_count": 27,
   "metadata": {},
   "outputs": [
    {
     "data": {
      "image/png": "[encoded data removed]",
      "text/latex": [
       "$$- \\frac{1}{2} \\cos{\\left (2 \\right )} + \\frac{1}{2}$$"
      ],
      "text/plain": [
       "  cos(2)   1\n",
       "- ────── + ─\n",
       "    2      2"
      ]
     },
     "metadata": {},
     "output_type": "display_data"
    },
    {
     "data": {
      "image/png": "[encoded data removed]",
      "text/latex": [
       "$$0.708$$"
      ],
      "text/plain": [
       "0.708"
      ]
     },
     "execution_count": 27,
     "metadata": {},
     "output_type": "execute_result"
    }
   ],
   "source": [
    "integ=sp.integrate(sp.sin(2*x),(x,0,1)) # Határozott integrál\n",
    "display(integ) # Pontos formában megtartva\n",
    "sp.N(integ,3)"
   ]
  },
  {
   "cell_type": "markdown",
   "metadata": {},
   "source": [
    "# Vektor- és mátrixszámítások *sympy*-ban\n",
    "Kisebb méretek esetén, amelyek akár szimbolikus számokat is tartalmaznak"
   ]
  },
  {
   "cell_type": "code",
   "execution_count": 28,
   "metadata": {
    "collapsed": true
   },
   "outputs": [],
   "source": [
    "v1= sp.Matrix([2.,3.,4.]) # oszlopvektor\n",
    "v2= sp.Matrix([[3.,-2.,-7.]]) # sorvektor (még 1 szögletes zárójel)\n",
    "mx1 = sp.Matrix([[1.,2.,3.],[2.,0.,4.],[3.,4.,1.]])\n",
    "mx2 = sp.Matrix([[1.,2.,3.],[4.,5.,6.],[7.,8.,9.]])\n",
    "EM = sp.eye(3) # egységmátrix"
   ]
  },
  {
   "cell_type": "code",
   "execution_count": 29,
   "metadata": {},
   "outputs": [
    {
     "data": {
      "image/png": "[encoded data removed]",
      "text/latex": [
       "$$\\left[\\begin{matrix}2.0\\\\3.0\\\\4.0\\end{matrix}\\right]$$"
      ],
      "text/plain": [
       "⎡2.0⎤\n",
       "⎢   ⎥\n",
       "⎢3.0⎥\n",
       "⎢   ⎥\n",
       "⎣4.0⎦"
      ]
     },
     "execution_count": 29,
     "metadata": {},
     "output_type": "execute_result"
    }
   ],
   "source": [
    "v1"
   ]
  },
  {
   "cell_type": "code",
   "execution_count": 30,
   "metadata": {},
   "outputs": [
    {
     "data": {
      "image/png": "[encoded data removed]",
      "text/latex": [
       "$$\\left[\\begin{matrix}3.0 & -2.0 & -7.0\\end{matrix}\\right]$$"
      ],
      "text/plain": [
       "[3.0  -2.0  -7.0]"
      ]
     },
     "execution_count": 30,
     "metadata": {},
     "output_type": "execute_result"
    }
   ],
   "source": [
    "v2"
   ]
  },
  {
   "cell_type": "code",
   "execution_count": 31,
   "metadata": {},
   "outputs": [
    {
     "data": {
      "image/png": "[encoded data removed]",
      "text/latex": [
       "$$\\left[\\begin{matrix}-28.0\\end{matrix}\\right]$$"
      ],
      "text/plain": [
       "[-28.0]"
      ]
     },
     "execution_count": 31,
     "metadata": {},
     "output_type": "execute_result"
    }
   ],
   "source": [
    "v2.multiply(v1)"
   ]
  },
  {
   "cell_type": "code",
   "execution_count": 32,
   "metadata": {},
   "outputs": [
    {
     "data": {
      "image/png": "[encoded data removed]",
      "text/latex": [
       "$$\\left[\\begin{matrix}20.0\\\\47.0\\\\74.0\\end{matrix}\\right]$$"
      ],
      "text/plain": [
       "⎡20.0⎤\n",
       "⎢    ⎥\n",
       "⎢47.0⎥\n",
       "⎢    ⎥\n",
       "⎣74.0⎦"
      ]
     },
     "execution_count": 32,
     "metadata": {},
     "output_type": "execute_result"
    }
   ],
   "source": [
    "mx2.multiply(v1)"
   ]
  },
  {
   "cell_type": "code",
   "execution_count": 33,
   "metadata": {},
   "outputs": [
    {
     "data": {
      "image/png": "[encoded data removed]",
      "text/latex": [
       "$$\\left[\\begin{matrix}-54.0 & -60.0 & -66.0\\end{matrix}\\right]$$"
      ],
      "text/plain": [
       "[-54.0  -60.0  -66.0]"
      ]
     },
     "execution_count": 33,
     "metadata": {},
     "output_type": "execute_result"
    }
   ],
   "source": [
    "v2.multiply(mx2)"
   ]
  },
  {
   "cell_type": "code",
   "execution_count": 34,
   "metadata": {},
   "outputs": [
    {
     "data": {
      "image/png": "[encoded data removed]",
      "text/latex": [
       "$$\\left[\\begin{matrix}1 & 0 & 0\\\\0 & 1 & 0\\\\0 & 0 & 1\\end{matrix}\\right]$$"
      ],
      "text/plain": [
       "⎡1  0  0⎤\n",
       "⎢       ⎥\n",
       "⎢0  1  0⎥\n",
       "⎢       ⎥\n",
       "⎣0  0  1⎦"
      ]
     },
     "execution_count": 34,
     "metadata": {},
     "output_type": "execute_result"
    }
   ],
   "source": [
    "EM"
   ]
  },
  {
   "cell_type": "code",
   "execution_count": 35,
   "metadata": {},
   "outputs": [
    {
     "data": {
      "image/png": "[encoded data removed]",
      "text/latex": [
       "$$\\left \\{ \\frac{2}{3} + \\left(- \\frac{1}{2} - \\frac{\\sqrt{3} i}{2}\\right) \\sqrt[3]{\\frac{638}{27} + \\frac{22 i}{3} \\sqrt{7}} + \\frac{88}{9 \\left(- \\frac{1}{2} - \\frac{\\sqrt{3} i}{2}\\right) \\sqrt[3]{\\frac{638}{27} + \\frac{22 i}{3} \\sqrt{7}}} : 1, \\quad \\frac{2}{3} + \\frac{88}{9 \\left(- \\frac{1}{2} + \\frac{\\sqrt{3} i}{2}\\right) \\sqrt[3]{\\frac{638}{27} + \\frac{22 i}{3} \\sqrt{7}}} + \\left(- \\frac{1}{2} + \\frac{\\sqrt{3} i}{2}\\right) \\sqrt[3]{\\frac{638}{27} + \\frac{22 i}{3} \\sqrt{7}} : 1, \\quad \\frac{2}{3} + \\frac{88}{9 \\sqrt[3]{\\frac{638}{27} + \\frac{22 i}{3} \\sqrt{7}}} + \\sqrt[3]{\\frac{638}{27} + \\frac{22 i}{3} \\sqrt{7}} : 1\\right \\}$$"
      ],
      "text/plain": [
       "⎧                     _______________                                         \n",
       "⎪2   ⎛  1   √3⋅ⅈ⎞    ╱ 638   22⋅√7⋅ⅈ                    88                    \n",
       "⎪─ + ⎜- ─ - ────⎟⋅3 ╱  ─── + ───────  + ──────────────────────────────────: 1,\n",
       "⎨3   ⎝  2    2  ⎠ ╲╱    27      3                          _______________    \n",
       "⎪                                         ⎛  1   √3⋅ⅈ⎞    ╱ 638   22⋅√7⋅ⅈ     \n",
       "⎪                                       9⋅⎜- ─ - ────⎟⋅3 ╱  ─── + ───────     \n",
       "⎩                                         ⎝  2    2  ⎠ ╲╱    27      3        \n",
       "\n",
       "                                                           _______________    \n",
       " 2                   88                   ⎛  1   √3⋅ⅈ⎞    ╱ 638   22⋅√7⋅ⅈ     \n",
       " ─ + ────────────────────────────────── + ⎜- ─ + ────⎟⋅3 ╱  ─── + ─────── : 1,\n",
       " 3                      _______________   ⎝  2    2  ⎠ ╲╱    27      3        \n",
       "       ⎛  1   √3⋅ⅈ⎞    ╱ 638   22⋅√7⋅ⅈ                                        \n",
       "     9⋅⎜- ─ + ────⎟⋅3 ╱  ─── + ───────                                        \n",
       "       ⎝  2    2  ⎠ ╲╱    27      3                                           \n",
       "\n",
       "                                 _______________   ⎫\n",
       " 2             88               ╱ 638   22⋅√7⋅ⅈ    ⎪\n",
       " ─ + ───────────────────── + 3 ╱  ─── + ─────── : 1⎪\n",
       " 3         _______________   ╲╱    27      3       ⎬\n",
       "          ╱ 638   22⋅√7⋅ⅈ                          ⎪\n",
       "     9⋅3 ╱  ─── + ───────                          ⎪\n",
       "       ╲╱    27      3                             ⎭"
      ]
     },
     "execution_count": 35,
     "metadata": {},
     "output_type": "execute_result"
    }
   ],
   "source": [
    "mx1.eigenvals() # sajátértékek és multiplicitásuk (racionális számokkal)"
   ]
  },
  {
   "cell_type": "code",
   "execution_count": 36,
   "metadata": {},
   "outputs": [
    {
     "data": {
      "image/png": "[encoded data removed]",
      "text/latex": [
       "$$\\left \\{ -3.6088213318864 : 1, \\quad -1.14824478501694 : 1, \\quad 6.75706611690333 : 1\\right \\}$$"
      ],
      "text/plain": [
       "{-3.6088213318864: 1, -1.14824478501694: 1, 6.75706611690333: 1}"
      ]
     },
     "execution_count": 36,
     "metadata": {},
     "output_type": "execute_result"
    }
   ],
   "source": [
    "mx1.eigenvals(rational=False) # sajátértékek numerikusan"
   ]
  },
  {
   "cell_type": "code",
   "execution_count": 37,
   "metadata": {},
   "outputs": [
    {
     "data": {
      "image/png": "[encoded data removed]",
      "text/latex": [
       "$$\\left [ \\left ( -1.14824478501694 - 4.0 \\cdot 10^{-22} i, \\quad 1, \\quad \\left [ \\left[\\begin{matrix}-2.97091106940601 + 8.63097165400352 \\cdot 10^{-30} i\\\\1.69112210580027 + 2.15792503714448 \\cdot 10^{-24} i\\\\1.0\\end{matrix}\\right]\\right ]\\right ), \\quad \\left ( -3.6088213318864 + 2.0 \\cdot 10^{-22} i, \\quad 1, \\quad \\left [ \\left[\\begin{matrix}-0.223746963816259 + 3.60331665052925 \\cdot 10^{-31} i\\\\-0.984395110109405 + 1.30961555945332 \\cdot 10^{-25} i\\\\1.0\\end{matrix}\\right]\\right ]\\right ), \\quad \\left ( 6.75706611690333 - 7.0 \\cdot 10^{-21} i, \\quad 1, \\quad \\left [ \\left[\\begin{matrix}0.810042648606886 + 4.63282092154982 \\cdot 10^{-32} i\\\\0.831734542770669 + 4.74016880491627 \\cdot 10^{-26} i\\\\1.0\\end{matrix}\\right]\\right ]\\right )\\right ]$$"
      ],
      "text/plain": [
       "⎡⎛                                 ⎡⎡-2.97091106940601 + 8.63097165400352e-30⋅\n",
       "⎢⎜                                 ⎢⎢                                         \n",
       "⎢⎜-1.14824478501694 - 0.e-22⋅ⅈ, 1, ⎢⎢1.69112210580027 + 2.15792503714448e-24⋅ⅈ\n",
       "⎢⎜                                 ⎢⎢                                         \n",
       "⎣⎝                                 ⎣⎣                   1.0                   \n",
       "\n",
       "ⅈ⎤⎤⎞  ⎛                                ⎡⎡-0.223746963816259 + 3.60331665052925\n",
       " ⎥⎥⎟  ⎜                                ⎢⎢                                     \n",
       " ⎥⎥⎟, ⎜-3.6088213318864 + 0.e-22⋅ⅈ, 1, ⎢⎢-0.984395110109405 + 1.30961555945332\n",
       " ⎥⎥⎟  ⎜                                ⎢⎢                                     \n",
       " ⎦⎦⎠  ⎝                                ⎣⎣                    1.0              \n",
       "\n",
       "e-31⋅ⅈ⎤⎤⎞  ⎛                                ⎡⎡0.810042648606886 + 4.6328209215\n",
       "      ⎥⎥⎟  ⎜                                ⎢⎢                                \n",
       "e-25⋅ⅈ⎥⎥⎟, ⎜6.75706611690333 - 0.e-20⋅ⅈ, 1, ⎢⎢0.831734542770669 + 4.7401688049\n",
       "      ⎥⎥⎟  ⎜                                ⎢⎢                                \n",
       "      ⎦⎦⎠  ⎝                                ⎣⎣                   1.0          \n",
       "\n",
       "4982e-32⋅ⅈ⎤⎤⎞⎤\n",
       "          ⎥⎥⎟⎥\n",
       "1627e-26⋅ⅈ⎥⎥⎟⎥\n",
       "          ⎥⎥⎟⎥\n",
       "          ⎦⎦⎠⎦"
      ]
     },
     "execution_count": 37,
     "metadata": {},
     "output_type": "execute_result"
    }
   ],
   "source": [
    "mx1.eigenvects() # sajátvektorok numerikusan"
   ]
  },
  {
   "cell_type": "code",
   "execution_count": 38,
   "metadata": {},
   "outputs": [
    {
     "data": {
      "image/png": "[encoded data removed]",
      "text/latex": [
       "$$28.0$$"
      ],
      "text/plain": [
       "28.0000000000000"
      ]
     },
     "execution_count": 38,
     "metadata": {},
     "output_type": "execute_result"
    }
   ],
   "source": [
    "mx1.det() # mx1 determinánsa"
   ]
  },
  {
   "cell_type": "code",
   "execution_count": 39,
   "metadata": {},
   "outputs": [
    {
     "data": {
      "image/png": "[encoded data removed]",
      "text/latex": [
       "$$\\left[\\begin{matrix}Ix & - Ixy\\\\- Ixy & Iy\\end{matrix}\\right]$$"
      ],
      "text/plain": [
       "⎡ Ix   -Ixy⎤\n",
       "⎢          ⎥\n",
       "⎣-Ixy   Iy ⎦"
      ]
     },
     "metadata": {},
     "output_type": "display_data"
    },
    {
     "name": "stdout",
     "output_type": "stream",
     "text": [
      "\n",
      " Sajátértékek, vektorok: \n",
      "\n"
     ]
    },
    {
     "data": {
      "image/png": "[encoded data removed]",
      "text/latex": [
       "$$\\left [ \\left ( \\frac{Ix}{2} + \\frac{Iy}{2} - \\frac{1}{2} \\sqrt{Ix^{2} - 2 Ix Iy + 4 Ixy^{2} + Iy^{2}}, \\quad 1, \\quad \\left [ \\left[\\begin{matrix}\\frac{Ixy}{\\frac{Ix}{2} - \\frac{Iy}{2} + \\frac{1}{2} \\sqrt{Ix^{2} - 2 Ix Iy + 4 Ixy^{2} + Iy^{2}}}\\\\1\\end{matrix}\\right]\\right ]\\right ), \\quad \\left ( \\frac{Ix}{2} + \\frac{Iy}{2} + \\frac{1}{2} \\sqrt{Ix^{2} - 2 Ix Iy + 4 Ixy^{2} + Iy^{2}}, \\quad 1, \\quad \\left [ \\left[\\begin{matrix}\\frac{Ixy}{\\frac{Ix}{2} - \\frac{Iy}{2} - \\frac{1}{2} \\sqrt{Ix^{2} - 2 Ix Iy + 4 Ixy^{2} + Iy^{2}}}\\\\1\\end{matrix}\\right]\\right ]\\right )\\right ]$$"
      ],
      "text/plain": [
       "⎡⎛                                                ⎡⎡                    Ixy   \n",
       "⎢⎜             ______________________________     ⎢⎢──────────────────────────\n",
       "⎢⎜            ╱   2                  2     2      ⎢⎢             _____________\n",
       "⎢⎜Ix   Iy   ╲╱  Ix  - 2⋅Ix⋅Iy + 4⋅Ixy  + Iy       ⎢⎢            ╱   2         \n",
       "⎢⎜── + ── - ─────────────────────────────────, 1, ⎢⎢Ix   Iy   ╲╱  Ix  - 2⋅Ix⋅I\n",
       "⎢⎜2    2                    2                     ⎢⎢── - ── + ────────────────\n",
       "⎢⎜                                                ⎢⎢2    2                    \n",
       "⎢⎜                                                ⎢⎢                          \n",
       "⎣⎝                                                ⎣⎣                     1    \n",
       "\n",
       "                 ⎤⎤⎞  ⎛                                                ⎡⎡     \n",
       "─────────────────⎥⎥⎟  ⎜             ______________________________     ⎢⎢─────\n",
       "_________________⎥⎥⎟  ⎜            ╱   2                  2     2      ⎢⎢     \n",
       "         2     2 ⎥⎥⎟  ⎜Ix   Iy   ╲╱  Ix  - 2⋅Ix⋅Iy + 4⋅Ixy  + Iy       ⎢⎢     \n",
       "y + 4⋅Ixy  + Iy  ⎥⎥⎟, ⎜── + ── + ─────────────────────────────────, 1, ⎢⎢Ix   \n",
       "─────────────────⎥⎥⎟  ⎜2    2                    2                     ⎢⎢── - \n",
       "2                ⎥⎥⎟  ⎜                                                ⎢⎢2    \n",
       "                 ⎥⎥⎟  ⎜                                                ⎢⎢     \n",
       "                 ⎦⎦⎠  ⎝                                                ⎣⎣     \n",
       "\n",
       "               Ixy                    ⎤⎤⎞⎤\n",
       "──────────────────────────────────────⎥⎥⎟⎥\n",
       "        ______________________________⎥⎥⎟⎥\n",
       "       ╱   2                  2     2 ⎥⎥⎟⎥\n",
       "Iy   ╲╱  Ix  - 2⋅Ix⋅Iy + 4⋅Ixy  + Iy  ⎥⎥⎟⎥\n",
       "── - ─────────────────────────────────⎥⎥⎟⎥\n",
       "2                    2                ⎥⎥⎟⎥\n",
       "                                      ⎥⎥⎟⎥\n",
       "                1                     ⎦⎦⎠⎦"
      ]
     },
     "execution_count": 39,
     "metadata": {},
     "output_type": "execute_result"
    }
   ],
   "source": [
    "Ix,Iy,Ixy = sp.symbols('Ix,Iy,Ixy')\n",
    "mxSP=sp.Matrix([[Ix,-Ixy],[-Ixy,Iy]])\n",
    "display(mxSP)\n",
    "\n",
    "print('\\n Sajátértékek, vektorok: \\n')\n",
    "mxSP.eigenvects()"
   ]
  },
  {
   "cell_type": "code",
   "execution_count": 40,
   "metadata": {},
   "outputs": [
    {
     "data": {
      "image/png": "[encoded data removed]",
      "text/latex": [
       "$$\\left[\\begin{matrix}Ix & 0\\\\0 & Iy\\end{matrix}\\right]$$"
      ],
      "text/plain": [
       "⎡Ix  0 ⎤\n",
       "⎢      ⎥\n",
       "⎣0   Iy⎦"
      ]
     },
     "metadata": {},
     "output_type": "display_data"
    },
    {
     "name": "stdout",
     "output_type": "stream",
     "text": [
      "\n",
      " Sajátértékek, vektorok: \n",
      "\n"
     ]
    },
    {
     "data": {
      "image/png": "[encoded data removed]",
      "text/latex": [
       "$$\\left [ \\left ( Ix, \\quad 1, \\quad \\left [ \\left[\\begin{matrix}1\\\\0\\end{matrix}\\right]\\right ]\\right ), \\quad \\left ( Iy, \\quad 1, \\quad \\left [ \\left[\\begin{matrix}0\\\\1\\end{matrix}\\right]\\right ]\\right )\\right ]$$"
      ],
      "text/plain": [
       "⎡⎛       ⎡⎡1⎤⎤⎞  ⎛       ⎡⎡0⎤⎤⎞⎤\n",
       "⎢⎜Ix, 1, ⎢⎢ ⎥⎥⎟, ⎜Iy, 1, ⎢⎢ ⎥⎥⎟⎥\n",
       "⎣⎝       ⎣⎣0⎦⎦⎠  ⎝       ⎣⎣1⎦⎦⎠⎦"
      ]
     },
     "execution_count": 40,
     "metadata": {},
     "output_type": "execute_result"
    }
   ],
   "source": [
    "mxSP=sp.Matrix([[Ix,0],[0,Iy]])\n",
    "display(mxSP)\n",
    "\n",
    "print('\\n Sajátértékek, vektorok: \\n')\n",
    "mxSP.eigenvects()"
   ]
  },
  {
   "cell_type": "markdown",
   "metadata": {},
   "source": [
    "# Vektor- és mátrixszámítások *numpy*-ban\n",
    "Nagy mátrixok és vektorok esetén érdemes ezt használni, vagy ha sok numerikus adattal dolgozik az ember. Továbbá a sajátérték-sajátvektor számítások is jobban megoldott ebben a csomagban"
   ]
  },
  {
   "cell_type": "code",
   "execution_count": 41,
   "metadata": {
    "collapsed": true
   },
   "outputs": [],
   "source": [
    "import numpy as np"
   ]
  },
  {
   "cell_type": "code",
   "execution_count": 42,
   "metadata": {
    "collapsed": true
   },
   "outputs": [],
   "source": [
    "v1= np.array([2.,3.,4.])\n",
    "v2= np.array([3.,-2.,-7.])\n",
    "mx1 = np.array([[1.,2.,3.],[2.,0.,4.],[3.,4.,1.]])\n",
    "mx2 = np.array([[1.,2.,3.],[4.,5.,6.],[7.,8.,9.]])"
   ]
  },
  {
   "cell_type": "code",
   "execution_count": 43,
   "metadata": {},
   "outputs": [
    {
     "name": "stdout",
     "output_type": "stream",
     "text": [
      "[ 20.  47.  74.]\n",
      "[ 42.  51.  60.]\n",
      "[-13.  26. -13.]\n"
     ]
    }
   ],
   "source": [
    "print( np.dot(mx2,v1) )  # skalár szorat mx2*v1\n",
    "print( np.dot(v1,mx2) )  # skalár szorat transpose(v1)*mx2\n",
    "print( np.cross(v1,v2) ) # keresztszorzat v1×v2"
   ]
  },
  {
   "cell_type": "code",
   "execution_count": 44,
   "metadata": {},
   "outputs": [
    {
     "name": "stdout",
     "output_type": "stream",
     "text": [
      "1. sajátérték és -vektor:\n",
      "λ = 6.76; v = [0.529, 0.834, -0.157]\n",
      "\n",
      "2. sajátérték és -vektor:\n",
      "λ = -1.15; v = [0.543, -0.475, -0.693]\n",
      "\n",
      "3. sajátérték és -vektor:\n",
      "λ = -3.61; v = [0.653, -0.281, 0.704]\n",
      "\n"
     ]
    }
   ],
   "source": [
    "(λ,V) = np.linalg.eig(mx1) # Mátrix sajátértékei, sajátvektorai a \\lambda és a V változókban\n",
    "\n",
    "# kiíratás 2 értékes tizedes jeggyel és for ciklusra példa\n",
    "for (i,v) in enumerate(V):\n",
    "    print(i+1, '. sajátérték és -vektor:',sep='')\n",
    "    print('λ = ', sp.N(λ[i],3), '; v = ', [sp.N(e,3) for e in v], sep='', end='\\n\\n')"
   ]
  },
  {
   "cell_type": "markdown",
   "metadata": {},
   "source": [
    "Figyeljük meg, hogy míg a sympy a sajátvektor utolsó koordinátáját 1-nek választja, addig a numpy a sajátvektorokat 1-re normálja!"
   ]
  },
  {
   "cell_type": "markdown",
   "metadata": {},
   "source": [
    "# Egyenletek megoldása"
   ]
  },
  {
   "cell_type": "markdown",
   "metadata": {},
   "source": [
    "## Egyszerű egyenletrendszerek *sympy*-vel\n",
    "\n",
    "[Supported equation types:](https://docs.sympy.org/latest/modules/solvers/solvers.html)\n",
    " - polynomial,\n",
    " - transcendental\n",
    " - piecewise combinations of the above\n",
    " - systems of linear and polynomial equations\n",
    " - systems containing relational expressions."
   ]
  },
  {
   "cell_type": "code",
   "execution_count": 45,
   "metadata": {},
   "outputs": [
    {
     "data": {
      "image/png": "[encoded data removed]",
      "text/latex": [
       "$$\\left [ \\frac{1}{2 a} \\left(- b + \\sqrt{- 4 a c + b^{2}}\\right), \\quad - \\frac{1}{2 a} \\left(b + \\sqrt{- 4 a c + b^{2}}\\right)\\right ]$$"
      ],
      "text/plain": [
       "⎡        _____________   ⎛       _____________⎞ ⎤\n",
       "⎢       ╱           2    ⎜      ╱           2 ⎟ ⎥\n",
       "⎢-b + ╲╱  -4⋅a⋅c + b    -⎝b + ╲╱  -4⋅a⋅c + b  ⎠ ⎥\n",
       "⎢─────────────────────, ────────────────────────⎥\n",
       "⎣         2⋅a                     2⋅a           ⎦"
      ]
     },
     "execution_count": 45,
     "metadata": {},
     "output_type": "execute_result"
    }
   ],
   "source": [
    "a,b,c,x = sp.symbols('a,b,c,x')\n",
    "sp.solve(a*x**2 + b*x + c,x)"
   ]
  },
  {
   "cell_type": "code",
   "execution_count": 46,
   "metadata": {},
   "outputs": [
    {
     "data": {
      "image/png": "[encoded data removed]",
      "text/latex": [
       "$$\\left [ \\left ( \\frac{8}{7} - \\frac{2 i}{7} \\sqrt{5}, \\quad \\frac{89}{98} + \\frac{11 i}{98} \\sqrt{5}, \\quad \\frac{10}{7} + \\frac{\\sqrt{5} i}{7}\\right ), \\quad \\left ( \\frac{8}{7} + \\frac{2 i}{7} \\sqrt{5}, \\quad \\frac{89}{98} - \\frac{11 i}{98} \\sqrt{5}, \\quad \\frac{10}{7} - \\frac{\\sqrt{5} i}{7}\\right )\\right ]$$"
      ],
      "text/plain": [
       "⎡⎛8   2⋅√5⋅ⅈ  89   11⋅√5⋅ⅈ  10   √5⋅ⅈ⎞  ⎛8   2⋅√5⋅ⅈ  89   11⋅√5⋅ⅈ  10   √5⋅ⅈ⎞⎤\n",
       "⎢⎜─ - ──────, ── + ───────, ── + ────⎟, ⎜─ + ──────, ── - ───────, ── - ────⎟⎥\n",
       "⎣⎝7     7     98      98    7     7  ⎠  ⎝7     7     98      98    7     7  ⎠⎦"
      ]
     },
     "execution_count": 46,
     "metadata": {},
     "output_type": "execute_result"
    }
   ],
   "source": [
    "# Több változó, több ismeretlen\n",
    "x,y,z = sp.symbols('x,y,z')\n",
    "e1 = 3*z + 2*y + 1*x**2 - 7\n",
    "e2 = 4*z + 0*y**2 + 2*x - 8\n",
    "e3 = 1*z**2 + 4*y + 3*x - 9\n",
    "\n",
    "sp.solve([e1,e2,e3],[x,y,z])"
   ]
  },
  {
   "cell_type": "code",
   "execution_count": 47,
   "metadata": {},
   "outputs": [
    {
     "ename": "NotImplementedError",
     "evalue": "multiple generators [exp(x), sin(x)]\nNo algorithms are implemented to solve equation -exp(x) + sin(x) + 3",
     "output_type": "error",
     "traceback": [
      "\u001b[1;31m---------------------------------------------------------------------------\u001b[0m",
      "\u001b[1;31mNotImplementedError\u001b[0m                       Traceback (most recent call last)",
      "\u001b[1;32m<ipython-input-47-2fffba9b946f>\u001b[0m in \u001b[0;36m<module>\u001b[1;34m()\u001b[0m\n\u001b[1;32m----> 1\u001b[1;33m \u001b[0msp\u001b[0m\u001b[1;33m.\u001b[0m\u001b[0msolve\u001b[0m\u001b[1;33m(\u001b[0m\u001b[1;33m-\u001b[0m\u001b[0msp\u001b[0m\u001b[1;33m.\u001b[0m\u001b[0mexp\u001b[0m\u001b[1;33m(\u001b[0m\u001b[0mx\u001b[0m\u001b[1;33m)\u001b[0m\u001b[1;33m+\u001b[0m\u001b[1;36m3\u001b[0m\u001b[1;33m+\u001b[0m\u001b[0msp\u001b[0m\u001b[1;33m.\u001b[0m\u001b[0msin\u001b[0m\u001b[1;33m(\u001b[0m\u001b[0mx\u001b[0m\u001b[1;33m)\u001b[0m\u001b[1;33m,\u001b[0m\u001b[0mx\u001b[0m\u001b[1;33m)\u001b[0m\u001b[1;33m\u001b[0m\u001b[0m\n\u001b[0m",
      "\u001b[1;32mC:\\ProgramData\\Anaconda3\\lib\\site-packages\\sympy\\solvers\\solvers.py\u001b[0m in \u001b[0;36msolve\u001b[1;34m(f, *symbols, **flags)\u001b[0m\n\u001b[0;32m   1063\u001b[0m     \u001b[1;31m###########################################################################\u001b[0m\u001b[1;33m\u001b[0m\u001b[1;33m\u001b[0m\u001b[0m\n\u001b[0;32m   1064\u001b[0m     \u001b[1;32mif\u001b[0m \u001b[0mbare_f\u001b[0m\u001b[1;33m:\u001b[0m\u001b[1;33m\u001b[0m\u001b[0m\n\u001b[1;32m-> 1065\u001b[1;33m         \u001b[0msolution\u001b[0m \u001b[1;33m=\u001b[0m \u001b[0m_solve\u001b[0m\u001b[1;33m(\u001b[0m\u001b[0mf\u001b[0m\u001b[1;33m[\u001b[0m\u001b[1;36m0\u001b[0m\u001b[1;33m]\u001b[0m\u001b[1;33m,\u001b[0m \u001b[1;33m*\u001b[0m\u001b[0msymbols\u001b[0m\u001b[1;33m,\u001b[0m \u001b[1;33m**\u001b[0m\u001b[0mflags\u001b[0m\u001b[1;33m)\u001b[0m\u001b[1;33m\u001b[0m\u001b[0m\n\u001b[0m\u001b[0;32m   1066\u001b[0m     \u001b[1;32melse\u001b[0m\u001b[1;33m:\u001b[0m\u001b[1;33m\u001b[0m\u001b[0m\n\u001b[0;32m   1067\u001b[0m         \u001b[0msolution\u001b[0m \u001b[1;33m=\u001b[0m \u001b[0m_solve_system\u001b[0m\u001b[1;33m(\u001b[0m\u001b[0mf\u001b[0m\u001b[1;33m,\u001b[0m \u001b[0msymbols\u001b[0m\u001b[1;33m,\u001b[0m \u001b[1;33m**\u001b[0m\u001b[0mflags\u001b[0m\u001b[1;33m)\u001b[0m\u001b[1;33m\u001b[0m\u001b[0m\n",
      "\u001b[1;32mC:\\ProgramData\\Anaconda3\\lib\\site-packages\\sympy\\solvers\\solvers.py\u001b[0m in \u001b[0;36m_solve\u001b[1;34m(f, *symbols, **flags)\u001b[0m\n\u001b[0;32m   1632\u001b[0m \u001b[1;33m\u001b[0m\u001b[0m\n\u001b[0;32m   1633\u001b[0m     \u001b[1;32mif\u001b[0m \u001b[0mresult\u001b[0m \u001b[1;32mis\u001b[0m \u001b[1;32mFalse\u001b[0m\u001b[1;33m:\u001b[0m\u001b[1;33m\u001b[0m\u001b[0m\n\u001b[1;32m-> 1634\u001b[1;33m         \u001b[1;32mraise\u001b[0m \u001b[0mNotImplementedError\u001b[0m\u001b[1;33m(\u001b[0m\u001b[1;34m'\\n'\u001b[0m\u001b[1;33m.\u001b[0m\u001b[0mjoin\u001b[0m\u001b[1;33m(\u001b[0m\u001b[1;33m[\u001b[0m\u001b[0mmsg\u001b[0m\u001b[1;33m,\u001b[0m \u001b[0mnot_impl_msg\u001b[0m \u001b[1;33m%\u001b[0m \u001b[0mf\u001b[0m\u001b[1;33m]\u001b[0m\u001b[1;33m)\u001b[0m\u001b[1;33m)\u001b[0m\u001b[1;33m\u001b[0m\u001b[0m\n\u001b[0m\u001b[0;32m   1635\u001b[0m \u001b[1;33m\u001b[0m\u001b[0m\n\u001b[0;32m   1636\u001b[0m     \u001b[1;32mif\u001b[0m \u001b[0mflags\u001b[0m\u001b[1;33m.\u001b[0m\u001b[0mget\u001b[0m\u001b[1;33m(\u001b[0m\u001b[1;34m'simplify'\u001b[0m\u001b[1;33m,\u001b[0m \u001b[1;32mTrue\u001b[0m\u001b[1;33m)\u001b[0m\u001b[1;33m:\u001b[0m\u001b[1;33m\u001b[0m\u001b[0m\n",
      "\u001b[1;31mNotImplementedError\u001b[0m: multiple generators [exp(x), sin(x)]\nNo algorithms are implemented to solve equation -exp(x) + sin(x) + 3"
     ]
    }
   ],
   "source": [
    "sp.solve(-sp.exp(x)+3+sp.sin(x),x)"
   ]
  },
  {
   "cell_type": "markdown",
   "metadata": {},
   "source": [
    "## Általános egyenletek megoldása numerikusan *scipy.optimize*-al"
   ]
  },
  {
   "cell_type": "code",
   "execution_count": null,
   "metadata": {
    "collapsed": true
   },
   "outputs": [],
   "source": [
    "import scipy.optimize as eqsolver"
   ]
  },
  {
   "cell_type": "code",
   "execution_count": null,
   "metadata": {},
   "outputs": [],
   "source": [
    "def f(x):\n",
    "    return -sp.exp(x)+3+sp.sin(x)\n",
    "\n",
    "gyok = eqsolver.newton(f,1.0) # newton módszer 1-ből indulva (de léteznek más módszerek is)\n",
    "gyok"
   ]
  },
  {
   "cell_type": "markdown",
   "metadata": {},
   "source": [
    "A *scipy.optimize* rengeteg megoldót tartalmaz. Ezek listáját az `eqsolver.` beírásával, majd a tab lenyomásával hívhatjuk elő."
   ]
  },
  {
   "cell_type": "markdown",
   "metadata": {},
   "source": [
    "## Lineáris egyenletrendszerek megoldása *numpy*-val (hatékonyabb mint a scipy)"
   ]
  },
  {
   "cell_type": "code",
   "execution_count": null,
   "metadata": {
    "collapsed": true
   },
   "outputs": [],
   "source": [
    "import numpy as np\n",
    "\n",
    "#összehasonlítás sympy-vel\n",
    "e1 = 3*z + 2*y + 1*x - 7\n",
    "e2 = 4*z + 0*y + 2*x - 8\n",
    "e3 = 1*z + 4*y + 3*x - 9\n",
    "\n",
    "# Mátrixos alak (A.x=b)\n",
    "A = np.array([[3,2,1],[4,0,2],[1,4,3]])\n",
    "b = np.array([7,8,9])\n",
    "\n",
    "\n",
    "npMO = np.linalg.solve(A,b) # Megoldás az numpy lineár ER megoldójával\n",
    "spMO = sp.solve([e1,e2,e3],[x,y,z]) # Megoldás az sympy általános ER megoldójával"
   ]
  },
  {
   "cell_type": "code",
   "execution_count": null,
   "metadata": {},
   "outputs": [],
   "source": [
    "print('numpy:\\n',npMO)\n",
    "print('\\nsympy:')\n",
    "display(spMO)\n",
    "print(' [',end='',sep='')\n",
    "for v in [z,y,x]:\n",
    "    print(sp.N(spMO[v],9),end=' ')\n",
    "print(']')"
   ]
  }
 ],
 "metadata": {
  "kernelspec": {
   "display_name": "Python 3",
   "language": "python",
   "name": "python3"
  },
  "language_info": {
   "codemirror_mode": {
    "name": "ipython",
    "version": 3
   },
   "file_extension": ".py",
   "mimetype": "text/x-python",
   "name": "python",
   "nbconvert_exporter": "python",
   "pygments_lexer": "ipython3",
   "version": "3.6.3"
  }
 },
 "nbformat": 4,
 "nbformat_minor": 2
}
