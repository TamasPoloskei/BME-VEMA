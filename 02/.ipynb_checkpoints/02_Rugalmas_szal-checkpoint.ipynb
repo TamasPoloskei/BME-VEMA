{
 "cells": [
  {
   "cell_type": "code",
   "execution_count": 1,
   "metadata": {
    "collapsed": true
   },
   "outputs": [],
   "source": [
    "import sympy as sp\n",
    "import numpy as np\n",
    "import matplotlib as mpl\n",
    "import matplotlib.pyplot as plt\n",
    "\n",
    "sp.init_printing(use_unicode=True)"
   ]
  },
  {
   "cell_type": "markdown",
   "metadata": {},
   "source": [
    "Kiindulási adatok megadása"
   ]
  },
  {
   "cell_type": "code",
   "execution_count": 2,
   "metadata": {
    "collapsed": true
   },
   "outputs": [],
   "source": [
    "L, F, IE= sp.symbols(\"L F IE\")\n",
    "adat = [(L, 3.0), (F,7000.0), (IE, 200e3)]"
   ]
  },
  {
   "cell_type": "markdown",
   "metadata": {},
   "source": [
    "# 1. Reakcióerők számítása"
   ]
  },
  {
   "cell_type": "markdown",
   "metadata": {},
   "source": [
    "A lehetséges reakcióerők a megtámasztásokból adódóan: Ax, Ay, By"
   ]
  },
  {
   "cell_type": "code",
   "execution_count": 3,
   "metadata": {
    "collapsed": true
   },
   "outputs": [],
   "source": [
    "Ax, Ay, By = sp.symbols(\"Ax Ay By\")"
   ]
  },
  {
   "cell_type": "markdown",
   "metadata": {},
   "source": [
    "A 3 statikai egyenlet ( két erő-egyensúlyi egyenlet és 1 nyomatéki egyenlet például az A pontra felírva):"
   ]
  },
  {
   "cell_type": "code",
   "execution_count": 4,
   "metadata": {
    "collapsed": true
   },
   "outputs": [],
   "source": [
    "stat1 = Ax\n",
    "stat2 = Ay + By - F\n",
    "stat3 = By*L/2 - F*L"
   ]
  },
  {
   "cell_type": "markdown",
   "metadata": {},
   "source": [
    "Hajlítónyomatéki függvények mindkét szakaszon:"
   ]
  },
  {
   "cell_type": "code",
   "execution_count": 5,
   "metadata": {
    "collapsed": true
   },
   "outputs": [],
   "source": [
    "x = sp.Symbol('x')\n",
    "\n",
    "Mh1 = -Ay*x\n",
    "Mh2 = -Ay*x - By*(x-L/2)"
   ]
  },
  {
   "cell_type": "markdown",
   "metadata": {},
   "source": [
    "# 2. Rugalmas szál differenciálegyenlete"
   ]
  },
  {
   "cell_type": "markdown",
   "metadata": {},
   "source": [
    "A rugalmas szál diffegyenlete a két szakaszon: $y_1{}''\\left(x\\right)=-\\dfrac{M_{\\mathrm{h1}}(x)}{IE}$ és $y_2{}''(x)=-\\dfrac{M_{\\mathrm{h2}}(x)}{IE}$. Itt most $y_1(x)$ és $y_2(x)$ függvények jelölik a lehajlásokat.\n",
    "\n",
    "A lehajlásfüggvények számításához kétszer kell integrálni nem elfeledkezve az integrálási konstansokról!\n",
    "Legyen $\\varphi_1(x)=y_1{}'(x)$ függvénnyel jelölve a\n",
    "szögelfordulás függvény."
   ]
  },
  {
   "cell_type": "code",
   "execution_count": 6,
   "metadata": {
    "collapsed": true
   },
   "outputs": [],
   "source": [
    "c1, c2, c3, c4 = sp.symbols(\"c1 c2 c3 c4\")\n",
    "\n",
    "fi1 = sp.integrate(-Mh1/IE,x) + c1\n",
    "y1 = sp.integrate(fi1,x) + c2\n",
    "\n",
    "fi2 = sp.integrate(-Mh2/IE,x) + c3\n",
    "y2 = sp.integrate(fi2,x) + c4"
   ]
  },
  {
   "cell_type": "markdown",
   "metadata": {},
   "source": [
    "Az ismeretlen $c_1,c_2,c_3,c_4$ kiszámításához szükség van a peremfeltételek megadására.\n",
    "\n",
    "Jelen esetben van két peremfeltételünk, miszerint az A és B helyeken a\n",
    "lehajlás zérus.\n",
    "Valamint van két illesztési feltételünk, hogy az $y_1$ és $y_2$ függvények értékei és első deriváltjai azonosak a B helyen."
   ]
  },
  {
   "cell_type": "code",
   "execution_count": 7,
   "metadata": {
    "collapsed": true
   },
   "outputs": [],
   "source": [
    "pf1 = y1.subs([(x,0)])\n",
    "pf2 = y1.subs([(x,L/2)])\n",
    "\n",
    "if1 = (y1 - y2).subs([(x,L/2)])\n",
    "if2 = (fi1 - fi2).subs([(x,L/2)])"
   ]
  },
  {
   "cell_type": "markdown",
   "metadata": {},
   "source": [
    "Megoldás számítása"
   ]
  },
  {
   "cell_type": "code",
   "execution_count": 8,
   "metadata": {},
   "outputs": [
    {
     "data": {
      "image/png": "[encoded data removed]",
      "text/latex": [
       "$$\\left \\{ Ax : 0, \\quad Ay : - F, \\quad By : 2 F, \\quad c_{1} : \\frac{F L^{2}}{24 IE}, \\quad c_{2} : 0, \\quad c_{3} : \\frac{7 F L^{2}}{24 IE}, \\quad c_{4} : - \\frac{F L^{3}}{24 IE}\\right \\}$$"
      ],
      "text/plain": [
       "⎧                                2                  2          3 ⎫\n",
       "⎪                             F⋅L              7⋅F⋅L       -F⋅L  ⎪\n",
       "⎨Ax: 0, Ay: -F, By: 2⋅F, c₁: ─────, c₂: 0, c₃: ──────, c₄: ──────⎬\n",
       "⎪                            24⋅IE             24⋅IE       24⋅IE ⎪\n",
       "⎩                                                                ⎭"
      ]
     },
     "execution_count": 8,
     "metadata": {},
     "output_type": "execute_result"
    }
   ],
   "source": [
    "ismeretlenek = [Ax,Ay,By,c1,c2,c3,c4]\n",
    "mego = sp.solve([stat1,stat2,stat3,pf1,pf2,if1,if2],ismeretlenek)\n",
    "mego"
   ]
  },
  {
   "cell_type": "code",
   "execution_count": 9,
   "metadata": {},
   "outputs": [
    {
     "data": {
      "image/png": "[encoded data removed]",
      "text/latex": [
       "$$\\frac{F x}{24 IE} \\left(L^{2} - 4 x^{2}\\right)$$"
      ],
      "text/plain": [
       "    ⎛ 2      2⎞\n",
       "F⋅x⋅⎝L  - 4⋅x ⎠\n",
       "───────────────\n",
       "     24⋅IE     "
      ]
     },
     "execution_count": 9,
     "metadata": {},
     "output_type": "execute_result"
    }
   ],
   "source": [
    "y1.subs(mego).simplify()"
   ]
  },
  {
   "cell_type": "markdown",
   "metadata": {},
   "source": [
    "[Mi legyen, hogy legyen?](https://docs.sympy.org/latest/modules/numeric-computation.html)\n",
    "\n",
    "lambda function?"
   ]
  },
  {
   "cell_type": "code",
   "execution_count": 10,
   "metadata": {},
   "outputs": [
    {
     "data": {
      "image/png": "[encoded data removed]",
      "text/latex": [
       "$$- 0.00583333333333333 x^{3} + 0.013125 x$$"
      ],
      "text/plain": [
       "                       3             \n",
       "- 0.00583333333333333⋅x  + 0.013125⋅x"
      ]
     },
     "execution_count": 10,
     "metadata": {},
     "output_type": "execute_result"
    }
   ],
   "source": [
    "y1num = sp.lambdify(x,y1.subs(mego).subs(adat))\n",
    "y1num(x)"
   ]
  },
  {
   "cell_type": "code",
   "execution_count": 11,
   "metadata": {},
   "outputs": [
    {
     "data": {
      "image/png": "[encoded data removed]",
      "text/latex": [
       "$$\\frac{F}{24 IE} \\left(- L^{3} + 7 L^{2} x - 12 L x^{2} + 4 x^{3}\\right)$$"
      ],
      "text/plain": [
       "  ⎛   3      2           2      3⎞\n",
       "F⋅⎝- L  + 7⋅L ⋅x - 12⋅L⋅x  + 4⋅x ⎠\n",
       "──────────────────────────────────\n",
       "              24⋅IE               "
      ]
     },
     "execution_count": 11,
     "metadata": {},
     "output_type": "execute_result"
    }
   ],
   "source": [
    "y2.subs(mego).simplify()"
   ]
  },
  {
   "cell_type": "code",
   "execution_count": 12,
   "metadata": {},
   "outputs": [
    {
     "data": {
      "image/png": "[encoded data removed]",
      "text/latex": [
       "$$0.00583333333333333 x^{3} - 0.0525 x^{2} + 0.091875 x - 0.039375$$"
      ],
      "text/plain": [
       "                     3           2                        \n",
       "0.00583333333333333⋅x  - 0.0525⋅x  + 0.091875⋅x - 0.039375"
      ]
     },
     "execution_count": 12,
     "metadata": {},
     "output_type": "execute_result"
    }
   ],
   "source": [
    "y2num = sp.lambdify(x,y2.subs(mego).subs(adat))\n",
    "y2num(x)"
   ]
  },
  {
   "cell_type": "code",
   "execution_count": 13,
   "metadata": {},
   "outputs": [
    {
     "data": {
      "image/png": "[encoded data removed]",
      "text/latex": [
       "$$\\frac{F}{24 IE} \\left(L^{2} - 12 x^{2}\\right)$$"
      ],
      "text/plain": [
       "  ⎛ 2       2⎞\n",
       "F⋅⎝L  - 12⋅x ⎠\n",
       "──────────────\n",
       "    24⋅IE     "
      ]
     },
     "execution_count": 13,
     "metadata": {},
     "output_type": "execute_result"
    }
   ],
   "source": [
    "fi1.subs(mego).simplify()"
   ]
  },
  {
   "cell_type": "code",
   "execution_count": 14,
   "metadata": {},
   "outputs": [
    {
     "data": {
      "image/png": "[encoded data removed]",
      "text/latex": [
       "$$- 0.0175 x^{2} + 0.013125$$"
      ],
      "text/plain": [
       "          2           \n",
       "- 0.0175⋅x  + 0.013125"
      ]
     },
     "execution_count": 14,
     "metadata": {},
     "output_type": "execute_result"
    }
   ],
   "source": [
    "fi1num = sp.lambdify(x,fi1.subs(mego).subs(adat))\n",
    "fi1num(x)"
   ]
  },
  {
   "cell_type": "code",
   "execution_count": 15,
   "metadata": {
    "scrolled": true
   },
   "outputs": [
    {
     "data": {
      "image/png": "[encoded data removed]",
      "text/latex": [
       "$$\\frac{F}{24 IE} \\left(7 L^{2} - 24 L x + 12 x^{2}\\right)$$"
      ],
      "text/plain": [
       "  ⎛   2                2⎞\n",
       "F⋅⎝7⋅L  - 24⋅L⋅x + 12⋅x ⎠\n",
       "─────────────────────────\n",
       "          24⋅IE          "
      ]
     },
     "execution_count": 15,
     "metadata": {},
     "output_type": "execute_result"
    }
   ],
   "source": [
    "fi2.subs(mego).simplify()"
   ]
  },
  {
   "cell_type": "code",
   "execution_count": 16,
   "metadata": {},
   "outputs": [
    {
     "data": {
      "image/png": "[encoded data removed]",
      "text/latex": [
       "$$0.0175 x^{2} - 0.105 x + 0.091875$$"
      ],
      "text/plain": [
       "        2                     \n",
       "0.0175⋅x  - 0.105⋅x + 0.091875"
      ]
     },
     "execution_count": 16,
     "metadata": {},
     "output_type": "execute_result"
    }
   ],
   "source": [
    "fi2num = sp.lambdify(x,fi2.subs(mego).subs(adat))\n",
    "fi2num(x)"
   ]
  },
  {
   "cell_type": "markdown",
   "metadata": {},
   "source": [
    "# 3. Ábrázolás"
   ]
  },
  {
   "cell_type": "markdown",
   "metadata": {},
   "source": [
    "Ábrázoljuk mindkét lehajlás függvényt"
   ]
  },
  {
   "cell_type": "code",
   "execution_count": 17,
   "metadata": {},
   "outputs": [
    {
     "data": {
      "image/png": "[encoded data removed]",
      "text/plain": [
       "<matplotlib.figure.Figure at 0x231a2b5e8d0>"
      ]
     },
     "metadata": {},
     "output_type": "display_data"
    }
   ],
   "source": [
    "xlista = np.linspace(0,3,20)\n",
    "figy = plt.figure(num = 1, figsize=(16/2.54,10/2.54))\n",
    "\n",
    "axy = figy.add_subplot(111)\n",
    "axy.plot(xlista,y1num(xlista))\n",
    "axy.plot(xlista,y2num(xlista))\n",
    "\n",
    "axy.plot([L.subs(adat)/2,L.subs(adat)/2],[-0.12,0.01], color = 'k')\n",
    "\n",
    "plt.xlabel(r\"$x \\, \\left[\\mathrm{m}\\right]$\")\n",
    "plt.ylabel(r\"$y \\, \\left[\\mathrm{m}\\right]$\")\n",
    "\n",
    "plt.legend([r\"$y_1$\",r\"$y_2$\"])\n",
    "plt.grid()\n",
    "plt.show()"
   ]
  },
  {
   "cell_type": "code",
   "execution_count": 18,
   "metadata": {},
   "outputs": [
    {
     "data": {
      "image/png": "[encoded data removed]",
      "text/plain": [
       "<matplotlib.figure.Figure at 0x231a417d1d0>"
      ]
     },
     "metadata": {},
     "output_type": "display_data"
    }
   ],
   "source": [
    "figfi = plt.figure(num = 2, figsize=(16/2.54,10/2.54))\n",
    "axfi = figfi.add_subplot(111)\n",
    "\n",
    "axfi.plot(xlista,fi1num(xlista))\n",
    "axfi.plot(xlista,fi2num(xlista))\n",
    "\n",
    "axfi.plot([L.subs(adat)/2,L.subs(adat)/2],[-0.15,0.1], color = 'k')\n",
    "\n",
    "plt.xlabel(r\"$x \\, \\left[\\mathrm{m}\\right]$\")\n",
    "plt.ylabel(r\"$\\varphi \\, \\left[\\mathrm{rad}\\right]$\")\n",
    "\n",
    "plt.legend([r\"$\\varphi_1$\",r\"$\\varphi_2$\"])\n",
    "plt.grid()\n",
    "\n",
    "plt.show()"
   ]
  },
  {
   "cell_type": "markdown",
   "metadata": {},
   "source": [
    "Látható, hogy a B helyen az értékük és deriváltjaiknak értéke is azonos. Ábrázoljuk a függvényeket csak a rájuk vonatkozó tartományokon:"
   ]
  },
  {
   "cell_type": "code",
   "execution_count": 19,
   "metadata": {
    "collapsed": true
   },
   "outputs": [],
   "source": [
    "def ykozos(x):\n",
    "    if x < L.subs(adat)/2:\n",
    "        return y1num(x)\n",
    "    else:\n",
    "        return y2num(x)\n",
    "ykozoslist = [ykozos(x) for x in xlista]"
   ]
  },
  {
   "cell_type": "code",
   "execution_count": 20,
   "metadata": {},
   "outputs": [
    {
     "data": {
      "image/png": "[encoded data removed]",
      "text/plain": [
       "<matplotlib.figure.Figure at 0x231a41fe2b0>"
      ]
     },
     "metadata": {},
     "output_type": "display_data"
    }
   ],
   "source": [
    "figykozos = plt.figure(num = 1, figsize=(16/2.54,10/2.54))\n",
    "axykozos = figykozos.add_subplot(111)\n",
    "axykozos.plot(xlista,ykozoslist)\n",
    "\n",
    "plt.ylabel(r\"$y \\, \\left[\\mathrm{m}\\right]$\")\n",
    "plt.xlabel(r\"$x \\, \\left[\\mathrm{m}\\right]$\")\n",
    "plt.grid()\n",
    "plt.show()"
   ]
  },
  {
   "cell_type": "markdown",
   "metadata": {},
   "source": [
    "Nézzük meg hasonlóképpen a szögelfordulás függvényt:"
   ]
  },
  {
   "cell_type": "code",
   "execution_count": 21,
   "metadata": {},
   "outputs": [],
   "source": [
    "def fikozos(x):\n",
    "    if x < L.subs(adat)/2:\n",
    "        return fi1num(x)\n",
    "    else:\n",
    "        return fi2num(x)\n",
    "fikozoslist = [fikozos(x) for x in xlista]"
   ]
  },
  {
   "cell_type": "code",
   "execution_count": 22,
   "metadata": {},
   "outputs": [
    {
     "data": {
      "image/png": "[encoded data removed]",
      "text/plain": [
       "<matplotlib.figure.Figure at 0x231a3e0d898>"
      ]
     },
     "metadata": {},
     "output_type": "display_data"
    }
   ],
   "source": [
    "figfikozos = plt.figure(num = 1, figsize=(16/2.54,10/2.54))\n",
    "axfikozos = figfikozos.add_subplot(111)\n",
    "axfikozos.plot(xlista,fikozoslist)\n",
    "\n",
    "plt.ylabel(r\"$\\varphi \\, \\left[\\mathrm{rad}\\right]$\")\n",
    "plt.xlabel(r\"$x \\, \\left[\\mathrm{m}\\right]$\")\n",
    "plt.grid()\n",
    "plt.show()"
   ]
  },
  {
   "cell_type": "markdown",
   "metadata": {},
   "source": [
    "# 4. Szélsőérték számítása az AB szakaszon"
   ]
  },
  {
   "cell_type": "markdown",
   "metadata": {},
   "source": [
    "Látható, hogy az AB szakaszon szélsőértéke van egy ismeretlen $x_0$ helyen a lehajlásfüggvénynek. Ezen a helyen a szögelfordulás zérus. Tehát $x_0$ könnyen\n",
    "számítható:"
   ]
  },
  {
   "cell_type": "code",
   "execution_count": 31,
   "metadata": {
    "scrolled": true
   },
   "outputs": [
    {
     "data": {
      "image/png": "[encoded data removed]",
      "text/latex": [
       "$$\\left [ - \\frac{\\sqrt{3} L}{6}, \\quad \\frac{\\sqrt{3} L}{6}\\right ]$$"
      ],
      "text/plain": [
       "⎡-√3⋅L   √3⋅L⎤\n",
       "⎢──────, ────⎥\n",
       "⎣  6      6  ⎦"
      ]
     },
     "execution_count": 31,
     "metadata": {},
     "output_type": "execute_result"
    }
   ],
   "source": [
    "x0mego = sp.solve(fi1.subs(mego),x)\n",
    "x0mego"
   ]
  },
  {
   "cell_type": "code",
   "execution_count": 38,
   "metadata": {},
   "outputs": [
    {
     "data": {
      "image/png": "[encoded data removed]",
      "text/latex": [
       "$$0.866025403784439$$"
      ],
      "text/plain": [
       "0.866025403784439"
      ]
     },
     "execution_count": 38,
     "metadata": {},
     "output_type": "execute_result"
    }
   ],
   "source": [
    "sp.N(x0mego[1].subs(adat))"
   ]
  },
  {
   "cell_type": "markdown",
   "metadata": {},
   "source": [
    "A kapott megoldásokból a pozitív érték adja x0 értékét. Ezt akár numerikusan is számíthatjuk gyökkereséssel:"
   ]
  },
  {
   "cell_type": "code",
   "execution_count": 29,
   "metadata": {},
   "outputs": [],
   "source": [
    "import scipy\n",
    "import scipy.optimize"
   ]
  },
  {
   "cell_type": "code",
   "execution_count": 41,
   "metadata": {},
   "outputs": [
    {
     "data": {
      "image/png": "[encoded data removed]",
      "text/latex": [
       "$$0.8660254037844056$$"
      ],
      "text/plain": [
       "0.8660254037844056"
      ]
     },
     "execution_count": 41,
     "metadata": {},
     "output_type": "execute_result"
    }
   ],
   "source": [
    "x0 = scipy.optimize.brentq(fi1num,0,L.subs(adat)/2)\n",
    "x0"
   ]
  },
  {
   "cell_type": "markdown",
   "metadata": {},
   "source": [
    "$x_0$ helyen a lehajlás értéke:"
   ]
  },
  {
   "cell_type": "code",
   "execution_count": 43,
   "metadata": {},
   "outputs": [
    {
     "data": {
      "image/png": "[encoded data removed]",
      "text/latex": [
       "$$\\frac{\\sqrt{3} F L^{3}}{216 IE}$$"
      ],
      "text/plain": [
       "      3\n",
       "√3⋅F⋅L \n",
       "───────\n",
       " 216⋅IE"
      ]
     },
     "execution_count": 43,
     "metadata": {},
     "output_type": "execute_result"
    }
   ],
   "source": [
    "y1.subs(mego).subs([(x,x0mego[1])])"
   ]
  },
  {
   "cell_type": "code",
   "execution_count": 44,
   "metadata": {},
   "outputs": [
    {
     "data": {
      "image/png": "[encoded data removed]",
      "text/latex": [
       "$$0.00757772228311384$$"
      ],
      "text/plain": [
       "0.00757772228311384"
      ]
     },
     "execution_count": 44,
     "metadata": {},
     "output_type": "execute_result"
    }
   ],
   "source": [
    "sp.N(y1.subs(mego).subs([(x,x0mego[1])]).subs(adat))"
   ]
  },
  {
   "cell_type": "markdown",
   "metadata": {},
   "source": [
    "vagy:"
   ]
  },
  {
   "cell_type": "code",
   "execution_count": 45,
   "metadata": {},
   "outputs": [
    {
     "data": {
      "image/png": "[encoded data removed]",
      "text/latex": [
       "$$0.007577722283113839$$"
      ],
      "text/plain": [
       "0.007577722283113839"
      ]
     },
     "execution_count": 45,
     "metadata": {},
     "output_type": "execute_result"
    }
   ],
   "source": [
    "y1num(x0)"
   ]
  }
 ],
 "metadata": {
  "kernelspec": {
   "display_name": "Python 3",
   "language": "python",
   "name": "python3"
  },
  "language_info": {
   "codemirror_mode": {
    "name": "ipython",
    "version": 3
   },
   "file_extension": ".py",
   "mimetype": "text/x-python",
   "name": "python",
   "nbconvert_exporter": "python",
   "pygments_lexer": "ipython3",
   "version": "3.6.6"
  }
 },
 "nbformat": 4,
 "nbformat_minor": 2
}
