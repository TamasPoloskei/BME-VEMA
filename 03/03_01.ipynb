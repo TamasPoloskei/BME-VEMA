{
 "cells": [
  {
   "cell_type": "code",
   "execution_count": 1,
   "metadata": {
    "collapsed": true
   },
   "outputs": [],
   "source": [
    "import sympy as sp\n",
    "import numpy as np\n",
    "\n",
    "sp.init_printing()"
   ]
  },
  {
   "cell_type": "code",
   "execution_count": 2,
   "metadata": {},
   "outputs": [
    {
     "data": {
      "image/png": "[encoded data removed]",
      "text/latex": [
       "$$\\left[\\begin{matrix}- \\frac{\\xi}{2} + \\frac{1}{2}\\\\\\frac{\\xi}{2} + \\frac{1}{2}\\end{matrix}\\right]$$"
      ],
      "text/plain": [
       "⎡  ξ   1⎤\n",
       "⎢- ─ + ─⎥\n",
       "⎢  2   2⎥\n",
       "⎢       ⎥\n",
       "⎢ ξ   1 ⎥\n",
       "⎢ ─ + ─ ⎥\n",
       "⎣ 2   2 ⎦"
      ]
     },
     "execution_count": 2,
     "metadata": {},
     "output_type": "execute_result"
    }
   ],
   "source": [
    "xi, L, A, E = sp.symbols(\"xi L A E\")\n",
    "Nue = sp.Matrix([(1-xi)/2, (1+xi)/2])\n",
    "Nue"
   ]
  },
  {
   "cell_type": "code",
   "execution_count": 3,
   "metadata": {},
   "outputs": [
    {
     "data": {
      "image/png": "[encoded data removed]",
      "text/latex": [
       "$$\\left[\\begin{matrix}- \\frac{1}{L}\\\\\\frac{1}{L}\\end{matrix}\\right]$$"
      ],
      "text/plain": [
       "⎡-1 ⎤\n",
       "⎢───⎥\n",
       "⎢ L ⎥\n",
       "⎢   ⎥\n",
       "⎢ 1 ⎥\n",
       "⎢ ─ ⎥\n",
       "⎣ L ⎦"
      ]
     },
     "execution_count": 3,
     "metadata": {},
     "output_type": "execute_result"
    }
   ],
   "source": [
    "Bue=sp.diff(Nue,xi)*2/L\n",
    "Bue"
   ]
  },
  {
   "cell_type": "code",
   "execution_count": 4,
   "metadata": {},
   "outputs": [
    {
     "data": {
      "image/png": "[encoded data removed]",
      "text/latex": [
       "$$\\left[\\begin{matrix}\\frac{A E}{L} & - \\frac{A E}{L}\\\\- \\frac{A E}{L} & \\frac{A E}{L}\\end{matrix}\\right]$$"
      ],
      "text/plain": [
       "⎡ A⋅E   -A⋅E ⎤\n",
       "⎢ ───   ─────⎥\n",
       "⎢  L      L  ⎥\n",
       "⎢            ⎥\n",
       "⎢-A⋅E    A⋅E ⎥\n",
       "⎢─────   ─── ⎥\n",
       "⎣  L      L  ⎦"
      ]
     },
     "execution_count": 4,
     "metadata": {},
     "output_type": "execute_result"
    }
   ],
   "source": [
    "KeTRUSS1D = A*E*sp.integrate(Bue*(Bue.T),(xi,-1,1))*L/2\n",
    "KeTRUSS1D"
   ]
  },
  {
   "cell_type": "code",
   "execution_count": 26,
   "metadata": {
    "collapsed": true
   },
   "outputs": [],
   "source": [
    "def KeTRUSS1D(A,E,L):\n",
    "    return np.multiply(A*E/L, np.array([[1,-1],[-1,1]]))"
   ]
  },
  {
   "cell_type": "markdown",
   "metadata": {},
   "source": [
    "![03_01.png](03_01.png)"
   ]
  },
  {
   "cell_type": "markdown",
   "metadata": {},
   "source": [
    "Adatok megadása"
   ]
  },
  {
   "cell_type": "code",
   "execution_count": 6,
   "metadata": {
    "collapsed": true
   },
   "outputs": [],
   "source": [
    "A1=60\n",
    "A2=20\n",
    "A3=30\n",
    "\n",
    "E1=100e3\n",
    "E2=200e3\n",
    "E3=50e3\n",
    "\n",
    "L1=1e3\n",
    "L2=2e3\n",
    "L3=3e3\n",
    "\n",
    "FT=-15e3"
   ]
  },
  {
   "cell_type": "markdown",
   "metadata": {},
   "source": [
    "Elem-csomópont összerendelések tárolása az `en` mátrixban"
   ]
  },
  {
   "cell_type": "code",
   "execution_count": 7,
   "metadata": {
    "collapsed": true
   },
   "outputs": [],
   "source": [
    "en=np.array([\n",
    "    [1,2],\n",
    "    [2,3],\n",
    "    [2,4]]) - 1"
   ]
  },
  {
   "cell_type": "markdown",
   "metadata": {},
   "source": [
    "Elemi merevségi mátrixok"
   ]
  },
  {
   "cell_type": "code",
   "execution_count": 8,
   "metadata": {
    "collapsed": true
   },
   "outputs": [],
   "source": [
    "Ke1 = KeTRUSS1D(A1,E1,L1)\n",
    "Ke2 = KeTRUSS1D(A2,E2,L2)\n",
    "Ke3 = KeTRUSS1D(A3,E3,L3)"
   ]
  },
  {
   "cell_type": "markdown",
   "metadata": {},
   "source": [
    "Globális merevségi mátrix megadása során első lépésben egy zérus elemekkel\n",
    "kitöltött mátrixot hozunk létre, majd a megfelelő helyekre betesszül az\n",
    "egyes elemi merevségi mátrixainak elemeit."
   ]
  },
  {
   "cell_type": "code",
   "execution_count": 9,
   "metadata": {},
   "outputs": [
    {
     "data": {
      "text/plain": [
       "array([[ 0.,  0.,  0.,  0.],\n",
       "       [ 0.,  0.,  0.,  0.],\n",
       "       [ 0.,  0.,  0.,  0.],\n",
       "       [ 0.,  0.,  0.,  0.]])"
      ]
     },
     "execution_count": 9,
     "metadata": {},
     "output_type": "execute_result"
    }
   ],
   "source": [
    "KG=np.zeros((4,4))\n",
    "KG"
   ]
  },
  {
   "cell_type": "markdown",
   "metadata": {},
   "source": [
    "Egy lehetséges leprogramozása ennek az alábbiakban látható,\n",
    "ahol felhasználjuk az elem-csomópont összerendlés mátrixot:\n",
    "\n",
    "[np.ix_](https://docs.scipy.org/doc/numpy/reference/generated/numpy.ix_.html)"
   ]
  },
  {
   "cell_type": "markdown",
   "metadata": {},
   "source": [
    "Az 1-es elem merevségi mátrixának elhelyezése\n",
    "a globális merevségi mátrixban:"
   ]
  },
  {
   "cell_type": "code",
   "execution_count": 10,
   "metadata": {},
   "outputs": [
    {
     "data": {
      "text/plain": [
       "array([[ 6000., -6000.,     0.,     0.],\n",
       "       [-6000.,  6000.,     0.,     0.],\n",
       "       [    0.,     0.,     0.,     0.],\n",
       "       [    0.,     0.,     0.,     0.]])"
      ]
     },
     "execution_count": 10,
     "metadata": {},
     "output_type": "execute_result"
    }
   ],
   "source": [
    "elemSzam=1\n",
    "KG[np.ix_(en[elemSzam-1],en[elemSzam-1])] += Ke1\n",
    "KG"
   ]
  },
  {
   "cell_type": "markdown",
   "metadata": {},
   "source": [
    "Az 2-es elem merevségi mátrixának elhelyezése\n",
    "a globális merevségi mátrixban:"
   ]
  },
  {
   "cell_type": "code",
   "execution_count": 11,
   "metadata": {},
   "outputs": [
    {
     "data": {
      "text/plain": [
       "array([[ 6000., -6000.,     0.,     0.],\n",
       "       [-6000.,  8000., -2000.,     0.],\n",
       "       [    0., -2000.,  2000.,     0.],\n",
       "       [    0.,     0.,     0.,     0.]])"
      ]
     },
     "execution_count": 11,
     "metadata": {},
     "output_type": "execute_result"
    }
   ],
   "source": [
    "elemSzam=2\n",
    "KG[np.ix_(en[elemSzam-1],en[elemSzam-1])] += Ke2\n",
    "KG"
   ]
  },
  {
   "cell_type": "markdown",
   "metadata": {},
   "source": [
    "Az 3-es elem merevségi mátrixának elhelyezése\n",
    "a globális merevségi mátrixban:"
   ]
  },
  {
   "cell_type": "code",
   "execution_count": 12,
   "metadata": {
    "collapsed": true,
    "scrolled": true
   },
   "outputs": [],
   "source": [
    "elemSzam=3\n",
    "KG[np.ix_(en[elemSzam-1],en[elemSzam-1])] += Ke3"
   ]
  },
  {
   "cell_type": "markdown",
   "metadata": {},
   "source": [
    "Tehát a globális merevségi mátrix:"
   ]
  },
  {
   "cell_type": "code",
   "execution_count": 13,
   "metadata": {},
   "outputs": [
    {
     "data": {
      "text/plain": [
       "array([[ 6000., -6000.,     0.,     0.],\n",
       "       [-6000.,  8500., -2000.,  -500.],\n",
       "       [    0., -2000.,  2000.,     0.],\n",
       "       [    0.,  -500.,     0.,   500.]])"
      ]
     },
     "execution_count": 13,
     "metadata": {},
     "output_type": "execute_result"
    }
   ],
   "source": [
    "KG"
   ]
  },
  {
   "cell_type": "markdown",
   "metadata": {},
   "source": [
    "A globális tehervektor:"
   ]
  },
  {
   "cell_type": "code",
   "execution_count": 14,
   "metadata": {
    "collapsed": true
   },
   "outputs": [],
   "source": [
    "FG = np.zeros(4)\n",
    "FG[1 - 1] += FT"
   ]
  },
  {
   "cell_type": "markdown",
   "metadata": {},
   "source": [
    "A kondenzált merevségi mátrixot és a kondenzált tehervektort megkapjuk a kényszerekkel ellátott szabadságfokokhoz tartozó sorok és oszlopok törlésével:\n",
    "\n",
    "(megtartjuk a maradék részt)"
   ]
  },
  {
   "cell_type": "code",
   "execution_count": 15,
   "metadata": {
    "collapsed": true
   },
   "outputs": [],
   "source": [
    "szabad = [0,1]"
   ]
  },
  {
   "cell_type": "markdown",
   "metadata": {},
   "source": [
    "A kondenzált merevségi mátrixot megkapjuk az **első** és **második** sorok/oszlopok megtartásával:"
   ]
  },
  {
   "cell_type": "code",
   "execution_count": 16,
   "metadata": {
    "scrolled": true
   },
   "outputs": [
    {
     "name": "stdout",
     "output_type": "stream",
     "text": [
      "(array([[0],\n",
      "       [1]]), array([[0, 1]]))\n"
     ]
    }
   ],
   "source": [
    "print(np.ix_(szabad,szabad))"
   ]
  },
  {
   "cell_type": "code",
   "execution_count": 17,
   "metadata": {
    "scrolled": true
   },
   "outputs": [
    {
     "data": {
      "text/plain": [
       "array([[ 6000., -6000.],\n",
       "       [-6000.,  8500.]])"
      ]
     },
     "execution_count": 17,
     "metadata": {},
     "output_type": "execute_result"
    }
   ],
   "source": [
    "KGkond = KG[np.ix_(szabad,szabad)]\n",
    "KGkond"
   ]
  },
  {
   "cell_type": "markdown",
   "metadata": {},
   "source": [
    "A kondezált tehervektort megkapjuk az **első** és **második** sor megtartásával:"
   ]
  },
  {
   "cell_type": "code",
   "execution_count": 18,
   "metadata": {},
   "outputs": [
    {
     "data": {
      "text/plain": [
       "array([-15000,      0])"
      ]
     },
     "execution_count": 18,
     "metadata": {},
     "output_type": "execute_result"
    }
   ],
   "source": [
    "FGkond = FG[np.ix_(szabad)]\n",
    "FGkond"
   ]
  },
  {
   "cell_type": "code",
   "execution_count": 19,
   "metadata": {},
   "outputs": [
    {
     "data": {
      "text/plain": [
       "array([  1.12589991e+17,   1.12589991e+17,   1.12589991e+17,\n",
       "         1.12589991e+17])"
      ]
     },
     "execution_count": 19,
     "metadata": {},
     "output_type": "execute_result"
    }
   ],
   "source": [
    "# a teljes lineáris egyenletrendszer alulhatározott\n",
    "np.linalg.solve(KG,FG)"
   ]
  },
  {
   "cell_type": "markdown",
   "metadata": {},
   "source": [
    "Megoldás az ismeretlen elmozdulásokra"
   ]
  },
  {
   "cell_type": "code",
   "execution_count": 20,
   "metadata": {},
   "outputs": [
    {
     "data": {
      "text/plain": [
       "array([-8.5, -6. ])"
      ]
     },
     "execution_count": 20,
     "metadata": {},
     "output_type": "execute_result"
    }
   ],
   "source": [
    "Umego = np.linalg.solve(KGkond,FGkond)\n",
    "Umego"
   ]
  },
  {
   "cell_type": "markdown",
   "metadata": {},
   "source": [
    "Tehát a teljes globális csomóponti elmozdulásvektor:"
   ]
  },
  {
   "cell_type": "code",
   "execution_count": 21,
   "metadata": {},
   "outputs": [
    {
     "data": {
      "text/plain": [
       "array([-8.5, -6. ,  0. ,  0. ])"
      ]
     },
     "execution_count": 21,
     "metadata": {},
     "output_type": "execute_result"
    }
   ],
   "source": [
    "UG = np.zeros(4)\n",
    "UG[np.ix_(szabad)] += Umego\n",
    "UG"
   ]
  },
  {
   "cell_type": "markdown",
   "metadata": {},
   "source": [
    "Eredmények megjelenítése\n",
    "\n",
    "[matplotlib.patches](https://matplotlib.org/api/patches_api.html)"
   ]
  },
  {
   "cell_type": "code",
   "execution_count": 22,
   "metadata": {
    "collapsed": true
   },
   "outputs": [],
   "source": [
    "import matplotlib as mpl\n",
    "import matplotlib.pyplot as plt\n",
    "import matplotlib.patches as mpatches"
   ]
  },
  {
   "cell_type": "code",
   "execution_count": 23,
   "metadata": {},
   "outputs": [
    {
     "data": {
      "image/png": "[encoded data removed]",
      "text/plain": [
       "<matplotlib.figure.Figure at 0x161180aae48>"
      ]
     },
     "metadata": {},
     "output_type": "display_data"
    }
   ],
   "source": [
    "nagy = 100\n",
    "R = 200\n",
    "\n",
    "plt.figure()\n",
    "ax = plt.gca()\n",
    "ax.set_xticklabels([])\n",
    "ax.set_yticklabels([])\n",
    "## eredeti konfiguráció\n",
    "# rudak\n",
    "ax.add_patch(mpatches.Rectangle((-R/2,-L1),R,L1,\n",
    "                                fc = (1,1,1,1),ec = (0.5,0.5,0.5,1), ls = \"--\", lw = 2))\n",
    "ax.add_patch(mpatches.Rectangle((-1.5*L1-R/2,-L1-L2),R,L2,\n",
    "                                fc = (1,1,1,1),ec = (0.5,0.5,0.5,1), ls = \"--\", lw = 2))\n",
    "ax.add_patch(mpatches.Rectangle((1.5*L1-R/2,-L1-L3),R,L3,\n",
    "                                fc = (1,1,1,1),ec = (0.5,0.5,0.5,1), ls = \"--\", lw = 2))\n",
    "# csomópontok\n",
    "ax.add_patch(mpatches.Circle((0,0),R,\n",
    "                             fc = (1,1,1,1),ec = (0.5,0.5,0.5,1),ls = \"--\", lw = 2))\n",
    "ax.add_patch(mpatches.Rectangle((-2*L1,-L1 - R/2),4*L1,R,\n",
    "                                fc = (1,1,1,1),ec = (0.5,0.5,0.5,1),ls = \"--\", lw = 2))\n",
    "# terhelés\n",
    "ax.add_patch(mpatches.Arrow(0,R+5*R,0,-5*R,\n",
    "                            fc = (1,0,0,1),ec = (1,0,0,1), lw = 3, width = 2*R))\n",
    "\n",
    "## elmozdult állapot\n",
    "# rudak\n",
    "ax.add_patch(mpatches.Rectangle((-R/2,-L1 + nagy*UG[1]),R,L1 + nagy*(UG[0] - UG[1]),\n",
    "                                fc = (1,1,1,1),ec = (0,0,0,1), lw = 2))\n",
    "ax.add_patch(mpatches.Rectangle((-1.5*L1-R/2,-L1-L2 + nagy*UG[2]),R,L2 + nagy*(UG[1] - UG[2]),\n",
    "                                fc = (1,1,1,1),ec = (0,0,0,1), lw = 2))\n",
    "ax.add_patch(mpatches.Rectangle((1.5*L1-R/2,-L1-L3  + nagy*UG[3]),R,L3 + nagy*(UG[1] - UG[3]),\n",
    "                                fc = (1,1,1,1),ec = (0,0,0,1), lw = 2))\n",
    "# csomópontok\n",
    "ax.add_patch(mpatches.Circle((0,0+nagy*UG[0]),R,\n",
    "                             fc = (1,1,1,1),ec = (0,0,0,1), lw = 2))\n",
    "ax.add_patch(mpatches.Rectangle((-2*L1,-L1 + nagy*UG[1] - R/2),4*L1,R,\n",
    "                                fc = (1,1,1,1),ec = (0,0,0,1), lw = 2))\n",
    "ax.add_patch(mpatches.Circle((-1.5*L1,-L1-L2 + nagy*UG[2]),R,\n",
    "                             fc = (1,1,1,1),ec = (0,0,0,1), lw = 2))\n",
    "ax.add_patch(mpatches.Circle((1.5*L1,-L1-L3  + nagy*UG[3]),R,\n",
    "                             fc = (1,1,1,1),ec = (0,0,0,1), lw = 2))\n",
    "\n",
    "plt.axis(\"equal\")\n",
    "plt.show()"
   ]
  },
  {
   "cell_type": "markdown",
   "metadata": {},
   "source": [
    "A teljes csomóponti terhelésvektor \n",
    "$\\mathbf{F}_\\mathrm{TOT} = \\mathbf{F}_\\mathrm{REAK} + \\mathbf{F}_\\mathrm{KÜL}$:"
   ]
  },
  {
   "cell_type": "code",
   "execution_count": 24,
   "metadata": {},
   "outputs": [
    {
     "data": {
      "text/plain": [
       "array([-15000.,      0.,  12000.,   3000.])"
      ]
     },
     "execution_count": 24,
     "metadata": {},
     "output_type": "execute_result"
    }
   ],
   "source": [
    "FTOT = np.dot(KG,UG)\n",
    "FTOT"
   ]
  },
  {
   "cell_type": "code",
   "execution_count": 25,
   "metadata": {},
   "outputs": [
    {
     "data": {
      "text/plain": [
       "array([     0.,      0.,  12000.,   3000.])"
      ]
     },
     "execution_count": 25,
     "metadata": {},
     "output_type": "execute_result"
    }
   ],
   "source": [
    "FREAK = FTOT - FG\n",
    "FREAK"
   ]
  },
  {
   "cell_type": "markdown",
   "metadata": {},
   "source": [
    "Az egyes elemekhez tartozó lokális elmozdulásvektorok:"
   ]
  },
  {
   "cell_type": "code",
   "execution_count": 26,
   "metadata": {},
   "outputs": [
    {
     "data": {
      "text/plain": [
       "array([-8.5, -6. ])"
      ]
     },
     "execution_count": 26,
     "metadata": {},
     "output_type": "execute_result"
    }
   ],
   "source": [
    "Ue1 = UG[en[0]]\n",
    "Ue1"
   ]
  },
  {
   "cell_type": "code",
   "execution_count": 27,
   "metadata": {},
   "outputs": [
    {
     "data": {
      "text/plain": [
       "array([-6.,  0.])"
      ]
     },
     "execution_count": 27,
     "metadata": {},
     "output_type": "execute_result"
    }
   ],
   "source": [
    "Ue2 = UG[en[1]]\n",
    "Ue2"
   ]
  },
  {
   "cell_type": "code",
   "execution_count": 28,
   "metadata": {},
   "outputs": [
    {
     "data": {
      "text/plain": [
       "array([-6.,  0.])"
      ]
     },
     "execution_count": 28,
     "metadata": {},
     "output_type": "execute_result"
    }
   ],
   "source": [
    "Ue3 = UG[en[2]]\n",
    "Ue3"
   ]
  },
  {
   "cell_type": "markdown",
   "metadata": {},
   "source": [
    "Az egyes elemekhez tartozó lokális tehervektor:"
   ]
  },
  {
   "cell_type": "code",
   "execution_count": 29,
   "metadata": {},
   "outputs": [
    {
     "data": {
      "text/plain": [
       "array([-15000.,  15000.])"
      ]
     },
     "execution_count": 29,
     "metadata": {},
     "output_type": "execute_result"
    }
   ],
   "source": [
    "Fe1 = np.dot(Ke1,Ue1)\n",
    "Fe1"
   ]
  },
  {
   "cell_type": "code",
   "execution_count": 30,
   "metadata": {},
   "outputs": [
    {
     "data": {
      "text/plain": [
       "array([-12000.,  12000.])"
      ]
     },
     "execution_count": 30,
     "metadata": {},
     "output_type": "execute_result"
    }
   ],
   "source": [
    "Fe2 = np.dot(Ke2,Ue2)\n",
    "Fe2"
   ]
  },
  {
   "cell_type": "code",
   "execution_count": 31,
   "metadata": {},
   "outputs": [
    {
     "data": {
      "text/plain": [
       "array([-3000.,  3000.])"
      ]
     },
     "execution_count": 31,
     "metadata": {},
     "output_type": "execute_result"
    }
   ],
   "source": [
    "Fe3 = np.dot(Ke3,Ue3)\n",
    "Fe3"
   ]
  },
  {
   "cell_type": "markdown",
   "metadata": {},
   "source": [
    "Tehát a normál igénybevételek:"
   ]
  },
  {
   "cell_type": "code",
   "execution_count": 32,
   "metadata": {},
   "outputs": [
    {
     "data": {
      "image/png": "[encoded data removed]",
      "text/latex": [
       "$$-15000.0$$"
      ],
      "text/plain": [
       "-15000.0"
      ]
     },
     "execution_count": 32,
     "metadata": {},
     "output_type": "execute_result"
    }
   ],
   "source": [
    "N1 = Fe1[0]\n",
    "N1"
   ]
  },
  {
   "cell_type": "code",
   "execution_count": 33,
   "metadata": {},
   "outputs": [
    {
     "data": {
      "image/png": "[encoded data removed]",
      "text/latex": [
       "$$-12000.0$$"
      ],
      "text/plain": [
       "-12000.0"
      ]
     },
     "execution_count": 33,
     "metadata": {},
     "output_type": "execute_result"
    }
   ],
   "source": [
    "N2 = Fe2[0]\n",
    "N2"
   ]
  },
  {
   "cell_type": "code",
   "execution_count": 34,
   "metadata": {},
   "outputs": [
    {
     "data": {
      "image/png": "[encoded data removed]",
      "text/latex": [
       "$$-3000.0$$"
      ],
      "text/plain": [
       "-3000.0"
      ]
     },
     "execution_count": 34,
     "metadata": {},
     "output_type": "execute_result"
    }
   ],
   "source": [
    "N3 = Fe3[0]\n",
    "N3"
   ]
  },
  {
   "cell_type": "markdown",
   "metadata": {},
   "source": [
    "Vagyis mindegyik rúd nyomó igénybevétel alatt van.\n",
    "\n",
    "A rudakban ébredő feszültség:"
   ]
  },
  {
   "cell_type": "code",
   "execution_count": 35,
   "metadata": {},
   "outputs": [
    {
     "data": {
      "image/png": "[encoded data removed]",
      "text/latex": [
       "$$-250.0$$"
      ],
      "text/plain": [
       "-250.0"
      ]
     },
     "execution_count": 35,
     "metadata": {},
     "output_type": "execute_result"
    }
   ],
   "source": [
    "sig1 = N1/A1\n",
    "sig1"
   ]
  },
  {
   "cell_type": "code",
   "execution_count": 36,
   "metadata": {},
   "outputs": [
    {
     "data": {
      "image/png": "[encoded data removed]",
      "text/latex": [
       "$$-600.0$$"
      ],
      "text/plain": [
       "-600.0"
      ]
     },
     "execution_count": 36,
     "metadata": {},
     "output_type": "execute_result"
    }
   ],
   "source": [
    "sig2 = N2/A2\n",
    "sig2"
   ]
  },
  {
   "cell_type": "code",
   "execution_count": 37,
   "metadata": {},
   "outputs": [
    {
     "data": {
      "image/png": "[encoded data removed]",
      "text/latex": [
       "$$-100.0$$"
      ],
      "text/plain": [
       "-100.0"
      ]
     },
     "execution_count": 37,
     "metadata": {},
     "output_type": "execute_result"
    }
   ],
   "source": [
    "sig3 = N3/A3\n",
    "sig3"
   ]
  },
  {
   "cell_type": "markdown",
   "metadata": {},
   "source": [
    "A rudak alakváltozásai:"
   ]
  },
  {
   "cell_type": "code",
   "execution_count": 38,
   "metadata": {},
   "outputs": [
    {
     "data": {
      "image/png": "[encoded data removed]",
      "text/latex": [
       "$$-0.0025$$"
      ],
      "text/plain": [
       "-0.0025"
      ]
     },
     "execution_count": 38,
     "metadata": {},
     "output_type": "execute_result"
    }
   ],
   "source": [
    "eps1 = sig1/E1\n",
    "eps1"
   ]
  },
  {
   "cell_type": "code",
   "execution_count": 39,
   "metadata": {},
   "outputs": [
    {
     "data": {
      "image/png": "[encoded data removed]",
      "text/latex": [
       "$$-0.003$$"
      ],
      "text/plain": [
       "-0.003"
      ]
     },
     "execution_count": 39,
     "metadata": {},
     "output_type": "execute_result"
    }
   ],
   "source": [
    "eps2 = sig2/E2\n",
    "eps2"
   ]
  },
  {
   "cell_type": "code",
   "execution_count": 40,
   "metadata": {},
   "outputs": [
    {
     "data": {
      "image/png": "[encoded data removed]",
      "text/latex": [
       "$$-0.002$$"
      ],
      "text/plain": [
       "-0.002"
      ]
     },
     "execution_count": 40,
     "metadata": {},
     "output_type": "execute_result"
    }
   ],
   "source": [
    "eps3 = sig3/E3\n",
    "eps3"
   ]
  }
 ],
 "metadata": {
  "kernelspec": {
   "display_name": "Python 3",
   "language": "python",
   "name": "python3"
  },
  "language_info": {
   "codemirror_mode": {
    "name": "ipython",
    "version": 3
   },
   "file_extension": ".py",
   "mimetype": "text/x-python",
   "name": "python",
   "nbconvert_exporter": "python",
   "pygments_lexer": "ipython3",
   "version": "3.6.3"
  }
 },
 "nbformat": 4,
 "nbformat_minor": 2
}
