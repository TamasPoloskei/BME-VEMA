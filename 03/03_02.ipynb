{
 "cells": [
  {
   "cell_type": "code",
   "execution_count": 6,
   "metadata": {
    "collapsed": true
   },
   "outputs": [],
   "source": [
    "import sympy as sp\n",
    "import numpy as np\n",
    "\n",
    "sp.init_printing()"
   ]
  },
  {
   "cell_type": "code",
   "execution_count": 7,
   "metadata": {},
   "outputs": [
    {
     "data": {
      "image/png": "[encoded data removed]",
      "text/latex": [
       "$$\\left[\\begin{matrix}- \\frac{\\xi}{2} + \\frac{1}{2}\\\\\\frac{\\xi}{2} + \\frac{1}{2}\\end{matrix}\\right]$$"
      ],
      "text/plain": [
       "⎡  ξ   1⎤\n",
       "⎢- ─ + ─⎥\n",
       "⎢  2   2⎥\n",
       "⎢       ⎥\n",
       "⎢ ξ   1 ⎥\n",
       "⎢ ─ + ─ ⎥\n",
       "⎣ 2   2 ⎦"
      ]
     },
     "execution_count": 7,
     "metadata": {},
     "output_type": "execute_result"
    }
   ],
   "source": [
    "xi, L, A, E = sp.symbols(\"xi L A E\")\n",
    "Nue = sp.Matrix([(1-xi)/2, (1+xi)/2])\n",
    "Nue"
   ]
  },
  {
   "cell_type": "code",
   "execution_count": 8,
   "metadata": {},
   "outputs": [
    {
     "data": {
      "image/png": "[encoded data removed]",
      "text/latex": [
       "$$\\left[\\begin{matrix}- \\frac{1}{L}\\\\\\frac{1}{L}\\end{matrix}\\right]$$"
      ],
      "text/plain": [
       "⎡-1 ⎤\n",
       "⎢───⎥\n",
       "⎢ L ⎥\n",
       "⎢   ⎥\n",
       "⎢ 1 ⎥\n",
       "⎢ ─ ⎥\n",
       "⎣ L ⎦"
      ]
     },
     "execution_count": 8,
     "metadata": {},
     "output_type": "execute_result"
    }
   ],
   "source": [
    "Bue=sp.diff(Nue,xi)*2/L\n",
    "Bue"
   ]
  },
  {
   "cell_type": "code",
   "execution_count": 9,
   "metadata": {},
   "outputs": [
    {
     "name": "stdout",
     "output_type": "stream",
     "text": [
      "[[A*E/L -A*E/L]\n",
      " [-A*E/L A*E/L]]\n"
     ]
    }
   ],
   "source": [
    "KeTRUSS1D = sp.lambdify((A,E,L),A*E*sp.integrate(Bue*(Bue.T),(xi,-1,1))*L/2)\n",
    "print(KeTRUSS1D(A,E,L))"
   ]
  },
  {
   "cell_type": "markdown",
   "metadata": {},
   "source": [
    "![03_02](03_02.png)"
   ]
  },
  {
   "cell_type": "markdown",
   "metadata": {},
   "source": [
    "Adatok megadása"
   ]
  },
  {
   "cell_type": "code",
   "execution_count": 10,
   "metadata": {
    "collapsed": true
   },
   "outputs": [],
   "source": [
    "A1=50\n",
    "A2=20\n",
    "\n",
    "E1=100e3\n",
    "E2=200e3\n",
    "\n",
    "\n",
    "L=2e3\n",
    "\n",
    "FT=60e3"
   ]
  },
  {
   "cell_type": "markdown",
   "metadata": {},
   "source": [
    "Elem-csomópont összerendelések tárolása az `en` mátrixban"
   ]
  },
  {
   "cell_type": "code",
   "execution_count": 11,
   "metadata": {
    "collapsed": true
   },
   "outputs": [],
   "source": [
    "en=np.array([\n",
    "    [1,3],\n",
    "    [2,3],\n",
    "    [3,4],\n",
    "    [3,5]]) - 1"
   ]
  },
  {
   "cell_type": "markdown",
   "metadata": {},
   "source": [
    "Elemi merevségi mátrixok"
   ]
  },
  {
   "cell_type": "code",
   "execution_count": 12,
   "metadata": {
    "collapsed": true
   },
   "outputs": [],
   "source": [
    "Ke1 = KeTRUSS1D(A1,E1,L)\n",
    "Ke2 = KeTRUSS1D(A1,E1,L)\n",
    "Ke3 = KeTRUSS1D(A1,E1,L)\n",
    "Ke4 = KeTRUSS1D(A2,E2,2*L)"
   ]
  },
  {
   "cell_type": "markdown",
   "metadata": {},
   "source": [
    "Globális merevségi mátrix megadása során első lépésben egy zérus elemekkel\n",
    "kitöltött mátrixot hozunk létre, majd a megfelelő helyekre betesszül az\n",
    "egyes elemem merevségi mátrixainak elemeit."
   ]
  },
  {
   "cell_type": "code",
   "execution_count": 13,
   "metadata": {},
   "outputs": [
    {
     "data": {
      "text/plain": [
       "array([[ 0.,  0.,  0.,  0.,  0.],\n",
       "       [ 0.,  0.,  0.,  0.,  0.],\n",
       "       [ 0.,  0.,  0.,  0.,  0.],\n",
       "       [ 0.,  0.,  0.,  0.,  0.],\n",
       "       [ 0.,  0.,  0.,  0.,  0.]])"
      ]
     },
     "execution_count": 13,
     "metadata": {},
     "output_type": "execute_result"
    }
   ],
   "source": [
    "KG=np.zeros((5,5))\n",
    "KG"
   ]
  },
  {
   "cell_type": "markdown",
   "metadata": {},
   "source": [
    "Egy lehetséges leprogramozása ennek az alábbiakban látható,\n",
    "ahol felhasználjuk az elem-csomópont összerendlés mátrixot:\n",
    "\n",
    "[np.ix_](https://docs.scipy.org/doc/numpy/reference/generated/numpy.ix_.html)"
   ]
  },
  {
   "cell_type": "markdown",
   "metadata": {},
   "source": [
    "Az 1-es elem merevségi mátrixának elhelyezése\n",
    "a globális merevségi mátrixban:"
   ]
  },
  {
   "cell_type": "code",
   "execution_count": 14,
   "metadata": {},
   "outputs": [
    {
     "data": {
      "text/plain": [
       "array([[ 2500.,     0., -2500.,     0.,     0.],\n",
       "       [    0.,     0.,     0.,     0.,     0.],\n",
       "       [-2500.,     0.,  2500.,     0.,     0.],\n",
       "       [    0.,     0.,     0.,     0.,     0.],\n",
       "       [    0.,     0.,     0.,     0.,     0.]])"
      ]
     },
     "execution_count": 14,
     "metadata": {},
     "output_type": "execute_result"
    }
   ],
   "source": [
    "elemSzam=1\n",
    "KG[np.ix_(en[elemSzam-1],en[elemSzam-1])] += Ke1\n",
    "KG"
   ]
  },
  {
   "cell_type": "markdown",
   "metadata": {},
   "source": [
    "Az 2-es elem merevségi mátrixának elhelyezése\n",
    "a globális merevségi mátrixban:"
   ]
  },
  {
   "cell_type": "code",
   "execution_count": 15,
   "metadata": {},
   "outputs": [
    {
     "data": {
      "text/plain": [
       "array([[ 2500.,     0., -2500.,     0.,     0.],\n",
       "       [    0.,  2500., -2500.,     0.,     0.],\n",
       "       [-2500., -2500.,  5000.,     0.,     0.],\n",
       "       [    0.,     0.,     0.,     0.,     0.],\n",
       "       [    0.,     0.,     0.,     0.,     0.]])"
      ]
     },
     "execution_count": 15,
     "metadata": {},
     "output_type": "execute_result"
    }
   ],
   "source": [
    "elemSzam=2\n",
    "KG[np.ix_(en[elemSzam-1],en[elemSzam-1])] += Ke2\n",
    "KG"
   ]
  },
  {
   "cell_type": "markdown",
   "metadata": {},
   "source": [
    "Az 3-es elem merevségi mátrixának elhelyezése\n",
    "a globális merevségi mátrixban:"
   ]
  },
  {
   "cell_type": "code",
   "execution_count": 16,
   "metadata": {
    "scrolled": true
   },
   "outputs": [
    {
     "data": {
      "text/plain": [
       "array([[ 2500.,     0., -2500.,     0.,     0.],\n",
       "       [    0.,  2500., -2500.,     0.,     0.],\n",
       "       [-2500., -2500.,  7500., -2500.,     0.],\n",
       "       [    0.,     0., -2500.,  2500.,     0.],\n",
       "       [    0.,     0.,     0.,     0.,     0.]])"
      ]
     },
     "execution_count": 16,
     "metadata": {},
     "output_type": "execute_result"
    }
   ],
   "source": [
    "elemSzam=3\n",
    "KG[np.ix_(en[elemSzam-1],en[elemSzam-1])] += Ke3\n",
    "KG"
   ]
  },
  {
   "cell_type": "markdown",
   "metadata": {},
   "source": [
    "Az 4-es elem merevségi mátrixának elhelyezése\n",
    "a globális merevségi mátrixban:"
   ]
  },
  {
   "cell_type": "code",
   "execution_count": 17,
   "metadata": {
    "scrolled": true
   },
   "outputs": [
    {
     "data": {
      "text/plain": [
       "array([[ 2500.,     0., -2500.,     0.,     0.],\n",
       "       [    0.,  2500., -2500.,     0.,     0.],\n",
       "       [-2500., -2500.,  8500., -2500., -1000.],\n",
       "       [    0.,     0., -2500.,  2500.,     0.],\n",
       "       [    0.,     0., -1000.,     0.,  1000.]])"
      ]
     },
     "execution_count": 17,
     "metadata": {},
     "output_type": "execute_result"
    }
   ],
   "source": [
    "elemSzam=4\n",
    "KG[np.ix_(en[elemSzam-1],en[elemSzam-1])] += Ke4\n",
    "KG"
   ]
  },
  {
   "cell_type": "markdown",
   "metadata": {},
   "source": [
    "Tehát a globális merevségi mátrix:"
   ]
  },
  {
   "cell_type": "code",
   "execution_count": 18,
   "metadata": {},
   "outputs": [
    {
     "data": {
      "text/plain": [
       "array([[ 2500.,     0., -2500.,     0.,     0.],\n",
       "       [    0.,  2500., -2500.,     0.,     0.],\n",
       "       [-2500., -2500.,  8500., -2500., -1000.],\n",
       "       [    0.,     0., -2500.,  2500.,     0.],\n",
       "       [    0.,     0., -1000.,     0.,  1000.]])"
      ]
     },
     "execution_count": 18,
     "metadata": {},
     "output_type": "execute_result"
    }
   ],
   "source": [
    "KG"
   ]
  },
  {
   "cell_type": "markdown",
   "metadata": {},
   "source": [
    "A globális tehervektor:"
   ]
  },
  {
   "cell_type": "code",
   "execution_count": 19,
   "metadata": {
    "collapsed": true
   },
   "outputs": [],
   "source": [
    "FG = np.zeros(5)\n",
    "FG[2 - 1] += FT"
   ]
  },
  {
   "cell_type": "markdown",
   "metadata": {},
   "source": [
    "A kondenzált merevségi mátrixot és a kondenzált tehervektort megkapjuk a kényszerekkel ellátott szabadságfokokhoz tartozó sorok és oszlopok törlésével:\n",
    "\n",
    "(megtartjuk a maradék részt)"
   ]
  },
  {
   "cell_type": "code",
   "execution_count": 20,
   "metadata": {
    "collapsed": true
   },
   "outputs": [],
   "source": [
    "szabad = [1,2]"
   ]
  },
  {
   "cell_type": "markdown",
   "metadata": {},
   "source": [
    "A kondenzált merevségi mátrixot megkapjuk az **első** és **második** sorok/oszlopok megtartásával:"
   ]
  },
  {
   "cell_type": "code",
   "execution_count": 21,
   "metadata": {
    "scrolled": true
   },
   "outputs": [
    {
     "name": "stdout",
     "output_type": "stream",
     "text": [
      "(array([[1],\n",
      "       [2]]), array([[1, 2]]))\n"
     ]
    }
   ],
   "source": [
    "print(np.ix_(szabad,szabad))"
   ]
  },
  {
   "cell_type": "code",
   "execution_count": 22,
   "metadata": {
    "scrolled": true
   },
   "outputs": [
    {
     "data": {
      "text/plain": [
       "array([[ 2500., -2500.],\n",
       "       [-2500.,  8500.]])"
      ]
     },
     "execution_count": 22,
     "metadata": {},
     "output_type": "execute_result"
    }
   ],
   "source": [
    "KGkond = KG[np.ix_(szabad,szabad)]\n",
    "KGkond"
   ]
  },
  {
   "cell_type": "markdown",
   "metadata": {},
   "source": [
    "A kondezált tehervektort megkapjuk az **első** és **második** sor megtartásával:"
   ]
  },
  {
   "cell_type": "code",
   "execution_count": 23,
   "metadata": {},
   "outputs": [
    {
     "data": {
      "text/plain": [
       "array([ 60000.,      0.])"
      ]
     },
     "execution_count": 23,
     "metadata": {},
     "output_type": "execute_result"
    }
   ],
   "source": [
    "FGkond = FG[np.ix_(szabad)]\n",
    "FGkond"
   ]
  },
  {
   "cell_type": "code",
   "execution_count": 24,
   "metadata": {},
   "outputs": [
    {
     "data": {
      "text/plain": [
       "array([ -3.10899383e+17,  -3.10899383e+17,  -3.10899383e+17,\n",
       "        -3.10899383e+17,  -3.10899383e+17])"
      ]
     },
     "execution_count": 24,
     "metadata": {},
     "output_type": "execute_result"
    }
   ],
   "source": [
    "# a teljes lineáris egyenletrendszer alulhatározott (~0-val osztás)\n",
    "np.linalg.solve(KG,FG)"
   ]
  },
  {
   "cell_type": "markdown",
   "metadata": {},
   "source": [
    "Megoldás az ismeretlen elmozdulásokra"
   ]
  },
  {
   "cell_type": "code",
   "execution_count": 25,
   "metadata": {},
   "outputs": [
    {
     "data": {
      "text/plain": [
       "array([ 34.,  10.])"
      ]
     },
     "execution_count": 25,
     "metadata": {},
     "output_type": "execute_result"
    }
   ],
   "source": [
    "Umego = np.linalg.solve(KGkond,FGkond)\n",
    "Umego"
   ]
  },
  {
   "cell_type": "markdown",
   "metadata": {},
   "source": [
    "Tehát a teljes globális csomóponti elmozdulásvektor:"
   ]
  },
  {
   "cell_type": "code",
   "execution_count": 26,
   "metadata": {},
   "outputs": [
    {
     "data": {
      "text/plain": [
       "array([  0.,  34.,  10.,   0.,   0.])"
      ]
     },
     "execution_count": 26,
     "metadata": {},
     "output_type": "execute_result"
    }
   ],
   "source": [
    "UG = np.zeros(5)\n",
    "UG[np.ix_(szabad)] += Umego\n",
    "UG"
   ]
  },
  {
   "cell_type": "markdown",
   "metadata": {},
   "source": [
    "Eredmények megjelenítése\n",
    "\n",
    "[matplotlib.patches](https://matplotlib.org/api/patches_api.html)"
   ]
  },
  {
   "cell_type": "code",
   "execution_count": 27,
   "metadata": {
    "collapsed": true
   },
   "outputs": [],
   "source": [
    "import matplotlib as mpl\n",
    "import matplotlib.pyplot as plt\n",
    "import matplotlib.patches as mpatches"
   ]
  },
  {
   "cell_type": "code",
   "execution_count": 28,
   "metadata": {},
   "outputs": [
    {
     "data": {
      "image/png": "[encoded data removed]",
      "text/plain": [
       "<matplotlib.figure.Figure at 0x1b554ee6358>"
      ]
     },
     "metadata": {},
     "output_type": "display_data"
    }
   ],
   "source": [
    "nagy = 50\n",
    "R = 300\n",
    "\n",
    "plt.figure()\n",
    "ax = plt.gca()\n",
    "ax.set_xticklabels([])\n",
    "ax.set_yticklabels([])\n",
    "## eredeti konfiguráció\n",
    "# rudak\n",
    "ax.add_patch(mpatches.Rectangle((-L-R/2,-L),R,L,\n",
    "                                fc = (1,1,1,1),ec = (0.5,0.5,0.5,1), ls = \"--\", lw = 2))\n",
    "ax.add_patch(mpatches.Rectangle((-L-R/2,-2*L),R,L,\n",
    "                                fc = (1,1,1,1),ec = (0.5,0.5,0.5,1), ls = \"--\", lw = 2))\n",
    "ax.add_patch(mpatches.Rectangle((L-R/2,-L),R,L,\n",
    "                                fc = (1,1,1,1),ec = (0.5,0.5,0.5,1), ls = \"--\", lw = 2))\n",
    "ax.add_patch(mpatches.Rectangle((L-R/2,-3*L),R,2*L,\n",
    "                                fc = (1,1,1,1),ec = (0.5,0.5,0.5,1), ls = \"--\", lw = 2))\n",
    "# # csomópontok\n",
    "ax.add_patch(mpatches.Circle((L,0),R,\n",
    "                             fc = (1,1,1,1),ec = (0.5,0.5,0.5,1),ls = \"--\", lw = 2))\n",
    "ax.add_patch(mpatches.Rectangle((-1.5*L,-L - R/2), 3*L, R,\n",
    "                                fc = (1,1,1,1),ec = (0.5,0.5,0.5,1),ls = \"--\", lw = 2))\n",
    "\n",
    "## elmozdult állapot\n",
    "# rudak\n",
    "ax.add_patch(mpatches.Rectangle((-L-R/2,-L + nagy*UG[2]),R,L + nagy*(UG[0] - UG[2]),\n",
    "                                fc = (1,1,1,1),ec = (0,0,0,1), lw = 2))\n",
    "ax.add_patch(mpatches.Rectangle((-L-R/2,-2*L + nagy*UG[3]),R,L + nagy*(UG[2] - UG[3]),\n",
    "                                fc = (1,1,1,1),ec = (0,0,0,1), lw = 2))\n",
    "ax.add_patch(mpatches.Rectangle((L-R/2,-L + nagy*UG[2]),R,L + nagy*(UG[1] - UG[2]),\n",
    "                                fc = (1,1,1,1),ec = (0,0,0,1), lw = 2))\n",
    "ax.add_patch(mpatches.Rectangle((L-R/2,-L -2*L + nagy*UG[4]),R,2*L + nagy*(UG[2] - UG[4]),\n",
    "                                fc = (1,1,1,1),ec = (0,0,0,1), lw = 2))\n",
    "\n",
    "# csomópontok\n",
    "ax.add_patch(mpatches.Circle((-L,0+nagy*UG[0]),R,\n",
    "                             fc = (1,1,1,1),ec = (0,0,0,1), lw = 2))\n",
    "ax.add_patch(mpatches.Circle((L,nagy*UG[1]),R,\n",
    "                             fc = (1,1,1,1),ec = (0,0,0,1), lw = 2))\n",
    "ax.add_patch(mpatches.Rectangle((-1.5*L,-L - R/2 + nagy*UG[2]),3*L,R,\n",
    "                                fc = (1,1,1,1),ec = (0,0,0,1), lw = 2))\n",
    "ax.add_patch(mpatches.Circle((-L,-L-L),R,\n",
    "                             fc = (1,1,1,1),ec = (0,0,0,1), lw = 2))\n",
    "ax.add_patch(mpatches.Circle((L,-L - 2*L),R,\n",
    "                             fc = (1,1,1,1),ec = (0,0,0,1), lw = 2))\n",
    "# terhelés\n",
    "ax.add_patch(mpatches.Arrow(L,nagy*UG[1],0,3*R,\n",
    "                            fc = (1,0,0,1),ec = (1,0,0,1), lw = 1, width = 2*R))\n",
    "plt.axis(\"equal\")\n",
    "plt.show()"
   ]
  },
  {
   "cell_type": "markdown",
   "metadata": {},
   "source": [
    "A teljes csomóponti terhelésvektor \n",
    "$\\mathbf{F}_\\mathrm{TOT} = \\mathbf{F}_\\mathrm{REAK} + \\mathbf{F}_\\mathrm{KÜL}$:"
   ]
  },
  {
   "cell_type": "code",
   "execution_count": 29,
   "metadata": {},
   "outputs": [
    {
     "data": {
      "text/plain": [
       "array([-25000.,  60000.,      0., -25000., -10000.])"
      ]
     },
     "execution_count": 29,
     "metadata": {},
     "output_type": "execute_result"
    }
   ],
   "source": [
    "FTOT = np.dot(KG,UG)\n",
    "FTOT"
   ]
  },
  {
   "cell_type": "code",
   "execution_count": 30,
   "metadata": {},
   "outputs": [
    {
     "data": {
      "text/plain": [
       "array([-25000.,      0.,      0., -25000., -10000.])"
      ]
     },
     "execution_count": 30,
     "metadata": {},
     "output_type": "execute_result"
    }
   ],
   "source": [
    "FREAK = FTOT - FG\n",
    "FREAK"
   ]
  },
  {
   "cell_type": "markdown",
   "metadata": {},
   "source": [
    "Az egyes elemekhez tartozó lokális elmozdulásvektorok:"
   ]
  },
  {
   "cell_type": "code",
   "execution_count": 31,
   "metadata": {},
   "outputs": [
    {
     "data": {
      "text/plain": [
       "array([  0.,  10.])"
      ]
     },
     "execution_count": 31,
     "metadata": {},
     "output_type": "execute_result"
    }
   ],
   "source": [
    "Ue1 = UG[en[0]]\n",
    "Ue1"
   ]
  },
  {
   "cell_type": "code",
   "execution_count": 32,
   "metadata": {},
   "outputs": [
    {
     "data": {
      "text/plain": [
       "array([ 34.,  10.])"
      ]
     },
     "execution_count": 32,
     "metadata": {},
     "output_type": "execute_result"
    }
   ],
   "source": [
    "Ue2 = UG[en[1]]\n",
    "Ue2"
   ]
  },
  {
   "cell_type": "code",
   "execution_count": 33,
   "metadata": {},
   "outputs": [
    {
     "data": {
      "text/plain": [
       "array([ 10.,   0.])"
      ]
     },
     "execution_count": 33,
     "metadata": {},
     "output_type": "execute_result"
    }
   ],
   "source": [
    "Ue3 = UG[en[2]]\n",
    "Ue3"
   ]
  },
  {
   "cell_type": "code",
   "execution_count": 34,
   "metadata": {},
   "outputs": [
    {
     "data": {
      "text/plain": [
       "array([ 10.,   0.])"
      ]
     },
     "execution_count": 34,
     "metadata": {},
     "output_type": "execute_result"
    }
   ],
   "source": [
    "Ue4 = UG[en[3]]\n",
    "Ue4"
   ]
  },
  {
   "cell_type": "markdown",
   "metadata": {},
   "source": [
    "Az egyes elemekhez tartozó lokális tehervektor:"
   ]
  },
  {
   "cell_type": "code",
   "execution_count": 35,
   "metadata": {},
   "outputs": [
    {
     "data": {
      "text/plain": [
       "array([-25000.,  25000.])"
      ]
     },
     "execution_count": 35,
     "metadata": {},
     "output_type": "execute_result"
    }
   ],
   "source": [
    "Fe1 = np.dot(Ke1,Ue1)\n",
    "Fe1"
   ]
  },
  {
   "cell_type": "code",
   "execution_count": 36,
   "metadata": {},
   "outputs": [
    {
     "data": {
      "text/plain": [
       "array([ 60000., -60000.])"
      ]
     },
     "execution_count": 36,
     "metadata": {},
     "output_type": "execute_result"
    }
   ],
   "source": [
    "Fe2 = np.dot(Ke2,Ue2)\n",
    "Fe2"
   ]
  },
  {
   "cell_type": "code",
   "execution_count": 37,
   "metadata": {},
   "outputs": [
    {
     "data": {
      "text/plain": [
       "array([ 25000., -25000.])"
      ]
     },
     "execution_count": 37,
     "metadata": {},
     "output_type": "execute_result"
    }
   ],
   "source": [
    "Fe3 = np.dot(Ke3,Ue3)\n",
    "Fe3"
   ]
  },
  {
   "cell_type": "code",
   "execution_count": 38,
   "metadata": {},
   "outputs": [
    {
     "data": {
      "text/plain": [
       "array([ 10000., -10000.])"
      ]
     },
     "execution_count": 38,
     "metadata": {},
     "output_type": "execute_result"
    }
   ],
   "source": [
    "Fe4 = np.dot(Ke4,Ue4)\n",
    "Fe4"
   ]
  },
  {
   "cell_type": "markdown",
   "metadata": {},
   "source": [
    "Tehát a normál igénybevételek:"
   ]
  },
  {
   "cell_type": "code",
   "execution_count": 39,
   "metadata": {},
   "outputs": [
    {
     "data": {
      "image/png": "[encoded data removed]",
      "text/latex": [
       "$$-25000.0$$"
      ],
      "text/plain": [
       "-25000.0"
      ]
     },
     "execution_count": 39,
     "metadata": {},
     "output_type": "execute_result"
    }
   ],
   "source": [
    "N1 = Fe1[0]\n",
    "N1"
   ]
  },
  {
   "cell_type": "code",
   "execution_count": 40,
   "metadata": {},
   "outputs": [
    {
     "data": {
      "image/png": "[encoded data removed]",
      "text/latex": [
       "$$60000.0$$"
      ],
      "text/plain": [
       "60000.0"
      ]
     },
     "execution_count": 40,
     "metadata": {},
     "output_type": "execute_result"
    }
   ],
   "source": [
    "N2 = Fe2[0]\n",
    "N2"
   ]
  },
  {
   "cell_type": "code",
   "execution_count": 41,
   "metadata": {},
   "outputs": [
    {
     "data": {
      "image/png": "[encoded data removed]",
      "text/latex": [
       "$$25000.0$$"
      ],
      "text/plain": [
       "25000.0"
      ]
     },
     "execution_count": 41,
     "metadata": {},
     "output_type": "execute_result"
    }
   ],
   "source": [
    "N3 = Fe3[0]\n",
    "N3"
   ]
  },
  {
   "cell_type": "code",
   "execution_count": 42,
   "metadata": {},
   "outputs": [
    {
     "data": {
      "image/png": "[encoded data removed]",
      "text/latex": [
       "$$10000.0$$"
      ],
      "text/plain": [
       "10000.0"
      ]
     },
     "execution_count": 42,
     "metadata": {},
     "output_type": "execute_result"
    }
   ],
   "source": [
    "N4 = Fe4[0]\n",
    "N4"
   ]
  },
  {
   "cell_type": "markdown",
   "metadata": {},
   "source": [
    "Vagyis mindegyik rúd nyomó igénybevétel alatt van.\n",
    "\n",
    "A rudakban ébredő feszültség:"
   ]
  },
  {
   "cell_type": "code",
   "execution_count": 43,
   "metadata": {},
   "outputs": [
    {
     "data": {
      "image/png": "[encoded data removed]",
      "text/latex": [
       "$$-500.0$$"
      ],
      "text/plain": [
       "-500.0"
      ]
     },
     "execution_count": 43,
     "metadata": {},
     "output_type": "execute_result"
    }
   ],
   "source": [
    "sig1 = N1/A1\n",
    "sig1"
   ]
  },
  {
   "cell_type": "code",
   "execution_count": 44,
   "metadata": {},
   "outputs": [
    {
     "data": {
      "image/png": "[encoded data removed]",
      "text/latex": [
       "$$1200.0$$"
      ],
      "text/plain": [
       "1200.0"
      ]
     },
     "execution_count": 44,
     "metadata": {},
     "output_type": "execute_result"
    }
   ],
   "source": [
    "sig2 = N2/A1\n",
    "sig2"
   ]
  },
  {
   "cell_type": "code",
   "execution_count": 45,
   "metadata": {},
   "outputs": [
    {
     "data": {
      "image/png": "[encoded data removed]",
      "text/latex": [
       "$$500.0$$"
      ],
      "text/plain": [
       "500.0"
      ]
     },
     "execution_count": 45,
     "metadata": {},
     "output_type": "execute_result"
    }
   ],
   "source": [
    "sig3 = N3/A1\n",
    "sig3"
   ]
  },
  {
   "cell_type": "code",
   "execution_count": 46,
   "metadata": {},
   "outputs": [
    {
     "data": {
      "image/png": "[encoded data removed]",
      "text/latex": [
       "$$1250.0$$"
      ],
      "text/plain": [
       "1250.0"
      ]
     },
     "execution_count": 46,
     "metadata": {},
     "output_type": "execute_result"
    }
   ],
   "source": [
    "sig4 = N3/A2\n",
    "sig4"
   ]
  },
  {
   "cell_type": "markdown",
   "metadata": {},
   "source": [
    "A rudak alapváltozásai:"
   ]
  },
  {
   "cell_type": "code",
   "execution_count": 47,
   "metadata": {},
   "outputs": [
    {
     "data": {
      "image/png": "[encoded data removed]",
      "text/latex": [
       "$$-0.005$$"
      ],
      "text/plain": [
       "-0.005"
      ]
     },
     "execution_count": 47,
     "metadata": {},
     "output_type": "execute_result"
    }
   ],
   "source": [
    "eps1 = sig1/E1\n",
    "eps1"
   ]
  },
  {
   "cell_type": "code",
   "execution_count": 48,
   "metadata": {},
   "outputs": [
    {
     "data": {
      "image/png": "[encoded data removed]",
      "text/latex": [
       "$$0.012$$"
      ],
      "text/plain": [
       "0.012"
      ]
     },
     "execution_count": 48,
     "metadata": {},
     "output_type": "execute_result"
    }
   ],
   "source": [
    "eps2 = sig2/E1\n",
    "eps2"
   ]
  },
  {
   "cell_type": "code",
   "execution_count": 49,
   "metadata": {},
   "outputs": [
    {
     "data": {
      "image/png": "[encoded data removed]",
      "text/latex": [
       "$$0.005$$"
      ],
      "text/plain": [
       "0.005"
      ]
     },
     "execution_count": 49,
     "metadata": {},
     "output_type": "execute_result"
    }
   ],
   "source": [
    "eps3 = sig3/E1\n",
    "eps3"
   ]
  },
  {
   "cell_type": "code",
   "execution_count": 50,
   "metadata": {},
   "outputs": [
    {
     "data": {
      "image/png": "[encoded data removed]",
      "text/latex": [
       "$$0.00625$$"
      ],
      "text/plain": [
       "0.00625"
      ]
     },
     "execution_count": 50,
     "metadata": {},
     "output_type": "execute_result"
    }
   ],
   "source": [
    "eps4 = sig4/E2\n",
    "eps4"
   ]
  }
 ],
 "metadata": {
  "kernelspec": {
   "display_name": "Python 3",
   "language": "python",
   "name": "python3"
  },
  "language_info": {
   "codemirror_mode": {
    "name": "ipython",
    "version": 3
   },
   "file_extension": ".py",
   "mimetype": "text/x-python",
   "name": "python",
   "nbconvert_exporter": "python",
   "pygments_lexer": "ipython3",
   "version": "3.6.3"
  }
 },
 "nbformat": 4,
 "nbformat_minor": 2
}
