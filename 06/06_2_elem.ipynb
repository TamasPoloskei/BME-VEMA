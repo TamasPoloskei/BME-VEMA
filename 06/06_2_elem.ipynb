{
 "cells": [
  {
   "cell_type": "code",
   "execution_count": 1,
   "metadata": {
    "collapsed": true
   },
   "outputs": [],
   "source": [
    "import sympy as sp\n",
    "import numpy as np\n",
    "\n",
    "sp.init_printing()"
   ]
  },
  {
   "cell_type": "code",
   "execution_count": 9,
   "metadata": {},
   "outputs": [
    {
     "data": {
      "image/png": "[encoded data removed]",
      "text/latex": [
       "$$\\left[\\begin{matrix}0.25 \\left(- \\xi + 1\\right)^{2} \\left(\\xi + 2\\right)\\\\\\frac{L}{8} \\left(- \\xi + 1\\right)^{2} \\left(\\xi + 1\\right)\\\\0.25 \\left(- \\xi + 2\\right) \\left(\\xi + 1\\right)^{2}\\\\\\frac{L}{8} \\left(- \\xi + 1\\right) \\left(\\xi + 1\\right)^{2}\\end{matrix}\\right]$$"
      ],
      "text/plain": [
       "⎡             2        ⎤\n",
       "⎢0.25⋅(-ξ + 1) ⋅(ξ + 2)⎥\n",
       "⎢                      ⎥\n",
       "⎢           2          ⎥\n",
       "⎢ L⋅(-ξ + 1) ⋅(ξ + 1)  ⎥\n",
       "⎢ ───────────────────  ⎥\n",
       "⎢          8           ⎥\n",
       "⎢                      ⎥\n",
       "⎢                     2⎥\n",
       "⎢0.25⋅(-ξ + 2)⋅(ξ + 1) ⎥\n",
       "⎢                      ⎥\n",
       "⎢                   2  ⎥\n",
       "⎢ L⋅(-ξ + 1)⋅(ξ + 1)   ⎥\n",
       "⎢ ───────────────────  ⎥\n",
       "⎣          8           ⎦"
      ]
     },
     "execution_count": 9,
     "metadata": {},
     "output_type": "execute_result"
    }
   ],
   "source": [
    "xi, L, I, E = sp.symbols(\"xi L I E\")\n",
    "Nve = sp.Matrix([1/4*(1-xi)**2*(2+xi),\n",
    "                 L/8*(1-xi)**2*(1+xi),\n",
    "                 1/4*(1+xi)**2*(2-xi),\n",
    "                 L/8*(1+xi)**2*(1-xi)])\n",
    "Nve"
   ]
  },
  {
   "cell_type": "code",
   "execution_count": 7,
   "metadata": {},
   "outputs": [
    {
     "data": {
      "image/png": "[encoded data removed]",
      "text/latex": [
       "$$\\left[\\begin{matrix}\\frac{6.0 \\xi}{L^{2}}\\\\\\frac{1}{L} \\left(3 \\xi - 1\\right)\\\\- \\frac{6.0 \\xi}{L^{2}}\\\\- \\frac{1}{L} \\left(3 \\xi + 1\\right)\\end{matrix}\\right]$$"
      ],
      "text/plain": [
       "⎡   6.0⋅ξ   ⎤\n",
       "⎢   ─────   ⎥\n",
       "⎢      2    ⎥\n",
       "⎢     L     ⎥\n",
       "⎢           ⎥\n",
       "⎢  3⋅ξ - 1  ⎥\n",
       "⎢  ───────  ⎥\n",
       "⎢     L     ⎥\n",
       "⎢           ⎥\n",
       "⎢  -6.0⋅ξ   ⎥\n",
       "⎢  ───────  ⎥\n",
       "⎢      2    ⎥\n",
       "⎢     L     ⎥\n",
       "⎢           ⎥\n",
       "⎢-(3⋅ξ + 1) ⎥\n",
       "⎢───────────⎥\n",
       "⎣     L     ⎦"
      ]
     },
     "execution_count": 7,
     "metadata": {},
     "output_type": "execute_result"
    }
   ],
   "source": [
    "Bve=sp.diff(Nve,xi,2)*(2/L)**2\n",
    "Bve"
   ]
  },
  {
   "cell_type": "code",
   "execution_count": 10,
   "metadata": {},
   "outputs": [
    {
     "data": {
      "image/png": "[encoded data removed]",
      "text/latex": [
       "$$\\left[\\begin{matrix}\\frac{12.0 E}{L^{3}} I & \\frac{6.0 E}{L^{2}} I & - \\frac{12.0 E}{L^{3}} I & - \\frac{6.0 E}{L^{2}} I\\\\\\frac{6.0 E}{L^{2}} I & \\frac{4 E}{L} I & - \\frac{6.0 E}{L^{2}} I & - \\frac{2 E}{L} I\\\\- \\frac{12.0 E}{L^{3}} I & - \\frac{6.0 E}{L^{2}} I & \\frac{12.0 E}{L^{3}} I & \\frac{6.0 E}{L^{2}} I\\\\- \\frac{6.0 E}{L^{2}} I & - \\frac{2 E}{L} I & \\frac{6.0 E}{L^{2}} I & \\frac{4 E}{L} I\\end{matrix}\\right]$$"
      ],
      "text/plain": [
       "⎡ 12.0⋅E⋅I    6.0⋅E⋅I   -12.0⋅E⋅I   -6.0⋅E⋅I ⎤\n",
       "⎢ ────────    ───────   ──────────  ─────────⎥\n",
       "⎢     3           2          3           2   ⎥\n",
       "⎢    L           L          L           L    ⎥\n",
       "⎢                                            ⎥\n",
       "⎢ 6.0⋅E⋅I      4⋅E⋅I    -6.0⋅E⋅I     -2⋅E⋅I  ⎥\n",
       "⎢ ───────      ─────    ─────────    ─────── ⎥\n",
       "⎢     2          L           2          L    ⎥\n",
       "⎢    L                      L                ⎥\n",
       "⎢                                            ⎥\n",
       "⎢-12.0⋅E⋅I   -6.0⋅E⋅I    12.0⋅E⋅I    6.0⋅E⋅I ⎥\n",
       "⎢──────────  ─────────   ────────    ─────── ⎥\n",
       "⎢     3           2          3           2   ⎥\n",
       "⎢    L           L          L           L    ⎥\n",
       "⎢                                            ⎥\n",
       "⎢-6.0⋅E⋅I     -2⋅E⋅I     6.0⋅E⋅I      4⋅E⋅I  ⎥\n",
       "⎢─────────    ───────    ───────      ─────  ⎥\n",
       "⎢     2          L           2          L    ⎥\n",
       "⎣    L                      L                ⎦"
      ]
     },
     "execution_count": 10,
     "metadata": {},
     "output_type": "execute_result"
    }
   ],
   "source": [
    "KeBEAM1D = I*E*sp.integrate(Bve*(Bve.T),(xi,-1,1))*L/2\n",
    "KeBEAM1D"
   ]
  },
  {
   "cell_type": "code",
   "execution_count": 11,
   "metadata": {},
   "outputs": [
    {
     "data": {
      "image/png": "[encoded data removed]",
      "text/latex": [
       "$$\\left[\\begin{matrix}12.0 & 6.0 L & -12.0 & - 6.0 L\\\\6.0 L & 4 L^{2} & - 6.0 L & - 2 L^{2}\\\\-12.0 & - 6.0 L & 12.0 & 6.0 L\\\\- 6.0 L & - 2 L^{2} & 6.0 L & 4 L^{2}\\end{matrix}\\right]$$"
      ],
      "text/plain": [
       "⎡ 12.0   6.0⋅L   -12.0   -6.0⋅L⎤\n",
       "⎢                              ⎥\n",
       "⎢            2               2 ⎥\n",
       "⎢6.0⋅L    4⋅L    -6.0⋅L  -2⋅L  ⎥\n",
       "⎢                              ⎥\n",
       "⎢-12.0   -6.0⋅L   12.0   6.0⋅L ⎥\n",
       "⎢                              ⎥\n",
       "⎢            2               2 ⎥\n",
       "⎣-6.0⋅L  -2⋅L    6.0⋅L    4⋅L  ⎦"
      ]
     },
     "execution_count": 11,
     "metadata": {},
     "output_type": "execute_result"
    }
   ],
   "source": [
    "(I*E/L**3)**(-1)*KeBEAM1D"
   ]
  },
  {
   "cell_type": "code",
   "execution_count": 12,
   "metadata": {
    "collapsed": true
   },
   "outputs": [],
   "source": [
    "def KeBEAM1D(I,E,L):\n",
    "    return np.multiply(I*E/L**3, np.array([[12,6*L,-12,-6*L],\n",
    "                                           [6*L,4*L**2,-6*L,-2*L**2],\n",
    "                                           [-12,-6*L,12,6*L],\n",
    "                                           [-6*L,-2*L**2,6*L,4*L**2]]))"
   ]
  },
  {
   "cell_type": "code",
   "execution_count": 15,
   "metadata": {},
   "outputs": [],
   "source": [
    "a=800e-3\n",
    "b=400e-3\n",
    "d=20e-3\n",
    "E=50e9\n",
    "nu=0.3\n",
    "F1=2500\n",
    "M1=-500\n",
    "p0=-5000"
   ]
  },
  {
   "cell_type": "code",
   "execution_count": 23,
   "metadata": {},
   "outputs": [],
   "source": [
    "Ke1 = KeBEAM1D((2*d)**4*np.pi/64,E,a)\n",
    "Ke2 = KeBEAM1D(d**4*np.pi/64,4*E,b)"
   ]
  },
  {
   "cell_type": "code",
   "execution_count": 19,
   "metadata": {},
   "outputs": [],
   "source": [
    "elemSZF = np.array([[1,2,3,4],[3,4,5,6]]) - 1"
   ]
  },
  {
   "cell_type": "code",
   "execution_count": 21,
   "metadata": {},
   "outputs": [],
   "source": [
    "KG=np.zeros((6,6))"
   ]
  },
  {
   "cell_type": "code",
   "execution_count": null,
   "metadata": {
    "collapsed": true
   },
   "outputs": [],
   "source": []
  }
 ],
 "metadata": {
  "kernelspec": {
   "display_name": "Python 3",
   "language": "python",
   "name": "python3"
  },
  "language_info": {
   "codemirror_mode": {
    "name": "ipython",
    "version": 3
   },
   "file_extension": ".py",
   "mimetype": "text/x-python",
   "name": "python",
   "nbconvert_exporter": "python",
   "pygments_lexer": "ipython3",
   "version": "3.6.3"
  }
 },
 "nbformat": 4,
 "nbformat_minor": 2
}
