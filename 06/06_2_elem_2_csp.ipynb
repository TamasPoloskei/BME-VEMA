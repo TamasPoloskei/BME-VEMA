{
 "cells": [
  {
   "cell_type": "markdown",
   "metadata": {},
   "source": [
    "Határozzuk meg az alábbi ábrán látható tartó súlypontvonalának eltolódását leíró $v\\left(x\\right)$ függvényt végeselemes módszer használatával, síkbeli egyenes gerendalemek alkalmazásával.\n",
    "Vizsgáljuk meg a végeselemes megoldással kapott hajlítónyomatéki igénybevétel hibáját az egyes szakaszokon.\n",
    "Határozzuk meg az $x = a/2$ keresztmetszetben a hajlítónyomatéki igénybevétel nagyságát 2, illetve 3 síkbeli egyenes gerendaelem alkalmazásával.\n",
    "A tartók két különböző átmérőjű ($d_1 = 2d$, illetve $d_2 = d$) kör keresztmetszetű tartókból\n",
    "vannak összeépítve.\n",
    "A tartók anyaga lineárisan rugalmas, homogén, izotrop. A $d_1$ átmérőjű rész rugalmassági modulusza $E$, míg a $d_2$ átmérővel rendelkező részé $4E$."
   ]
  },
  {
   "cell_type": "code",
   "execution_count": 1,
   "metadata": {
    "collapsed": true
   },
   "outputs": [],
   "source": [
    "import sympy as sp\n",
    "import numpy as np\n",
    "import matplotlib as mpl\n",
    "import matplotlib.pyplot as plt\n",
    "\n",
    "sp.init_printing()"
   ]
  },
  {
   "cell_type": "code",
   "execution_count": 2,
   "metadata": {
    "collapsed": true
   },
   "outputs": [],
   "source": [
    "p, xi, L, I, E = sp.symbols(\"p, xi L I E\")"
   ]
  },
  {
   "cell_type": "code",
   "execution_count": 3,
   "metadata": {},
   "outputs": [
    {
     "data": {
      "image/png": "[encoded data removed]",
      "text/latex": [
       "$$\\left[\\begin{matrix}0.25 \\left(- \\xi + 1\\right)^{2} \\left(\\xi + 2\\right)\\\\0.125 L \\left(- \\xi + 1\\right)^{2} \\left(\\xi + 1\\right)\\\\0.25 \\left(- \\xi + 2\\right) \\left(\\xi + 1\\right)^{2}\\\\0.125 L \\left(\\xi - 1\\right) \\left(\\xi + 1\\right)^{2}\\end{matrix}\\right]$$"
      ],
      "text/plain": [
       "⎡              2          ⎤\n",
       "⎢ 0.25⋅(-ξ + 1) ⋅(ξ + 2)  ⎥\n",
       "⎢                         ⎥\n",
       "⎢                2        ⎥\n",
       "⎢0.125⋅L⋅(-ξ + 1) ⋅(ξ + 1)⎥\n",
       "⎢                         ⎥\n",
       "⎢                      2  ⎥\n",
       "⎢ 0.25⋅(-ξ + 2)⋅(ξ + 1)   ⎥\n",
       "⎢                         ⎥\n",
       "⎢                       2 ⎥\n",
       "⎣0.125⋅L⋅(ξ - 1)⋅(ξ + 1)  ⎦"
      ]
     },
     "execution_count": 3,
     "metadata": {},
     "output_type": "execute_result"
    }
   ],
   "source": [
    "Nv = 1/8*sp.Matrix([2*(1-xi)**2*(2+xi),\n",
    "                 L*(1-xi)**2*(1+xi),\n",
    "                 2*(1+xi)**2*(2-xi),\n",
    "                 L*(1+xi)**2*(xi-1)])\n",
    "Nv"
   ]
  },
  {
   "cell_type": "code",
   "execution_count": 4,
   "metadata": {},
   "outputs": [
    {
     "data": {
      "image/png": "[encoded data removed]",
      "text/latex": [
       "$$\\left[\\begin{matrix}1.5 \\xi^{2} - 1.5\\\\L \\left(0.75 \\xi + 0.25\\right) \\left(\\xi - 1\\right)\\\\- 1.5 \\xi^{2} + 1.5\\\\L \\left(0.75 \\xi - 0.25\\right) \\left(\\xi + 1\\right)\\end{matrix}\\right]$$"
      ],
      "text/plain": [
       "⎡           2             ⎤\n",
       "⎢      1.5⋅ξ  - 1.5       ⎥\n",
       "⎢                         ⎥\n",
       "⎢L⋅(0.75⋅ξ + 0.25)⋅(ξ - 1)⎥\n",
       "⎢                         ⎥\n",
       "⎢            2            ⎥\n",
       "⎢     - 1.5⋅ξ  + 1.5      ⎥\n",
       "⎢                         ⎥\n",
       "⎣L⋅(0.75⋅ξ - 0.25)⋅(ξ + 1)⎦"
      ]
     },
     "execution_count": 4,
     "metadata": {},
     "output_type": "execute_result"
    }
   ],
   "source": [
    "Nfi=sp.diff(Nv,xi)*(2/L)\n",
    "sp.simplify((1/L)**(-1)*Nfi)"
   ]
  },
  {
   "cell_type": "code",
   "execution_count": 25,
   "metadata": {
    "scrolled": false
   },
   "outputs": [
    {
     "data": {
      "image/png": "[encoded data removed]",
      "text/latex": [
       "$$\\left[\\begin{matrix}6.0 \\xi\\\\L \\left(3.0 \\xi - 1.0\\right)\\\\- 6.0 \\xi\\\\L \\left(3.0 \\xi + 1.0\\right)\\end{matrix}\\right]$$"
      ],
      "text/plain": [
       "⎡     6.0⋅ξ     ⎤\n",
       "⎢               ⎥\n",
       "⎢L⋅(3.0⋅ξ - 1.0)⎥\n",
       "⎢               ⎥\n",
       "⎢    -6.0⋅ξ     ⎥\n",
       "⎢               ⎥\n",
       "⎣L⋅(3.0⋅ξ + 1.0)⎦"
      ]
     },
     "execution_count": 25,
     "metadata": {},
     "output_type": "execute_result"
    }
   ],
   "source": [
    "Bv=sp.diff(Nv,xi,2)*(2/L)**2\n",
    "sp.simplify((1/L**2)**(-1)*Bv)"
   ]
  },
  {
   "cell_type": "code",
   "execution_count": 30,
   "metadata": {
    "scrolled": true
   },
   "outputs": [
    {
     "data": {
      "image/png": "[encoded data removed]",
      "text/latex": [
       "$$\\left[\\begin{matrix}12.0 & 6.0 L & -12.0 & 6.0 L\\\\6.0 L & 4.0 L^{2} & - 6.0 L & 2.0 L^{2}\\\\-12.0 & - 6.0 L & 12.0 & - 6.0 L\\\\6.0 L & 2.0 L^{2} & - 6.0 L & 4.0 L^{2}\\end{matrix}\\right]$$"
      ],
      "text/plain": [
       "⎡12.0   6.0⋅L   -12.0   6.0⋅L ⎤\n",
       "⎢                             ⎥\n",
       "⎢            2               2⎥\n",
       "⎢6.0⋅L  4.0⋅L   -6.0⋅L  2.0⋅L ⎥\n",
       "⎢                             ⎥\n",
       "⎢-12.0  -6.0⋅L   12.0   -6.0⋅L⎥\n",
       "⎢                             ⎥\n",
       "⎢            2               2⎥\n",
       "⎣6.0⋅L  2.0⋅L   -6.0⋅L  4.0⋅L ⎦"
      ]
     },
     "execution_count": 30,
     "metadata": {},
     "output_type": "execute_result"
    }
   ],
   "source": [
    "KeBEAM1D = I*E*sp.integrate(Bv*(Bv.T),(xi,-1,1))*L/2\n",
    "(I*E/L**3)**(-1)*KeBEAM1D"
   ]
  },
  {
   "cell_type": "code",
   "execution_count": 31,
   "metadata": {},
   "outputs": [
    {
     "data": {
      "image/png": "[encoded data removed]",
      "text/latex": [
       "$$\\left[\\begin{matrix}0.5 L p\\\\0.0833333333333333 L^{2} p\\\\0.5 L p\\\\- 0.0833333333333333 L^{2} p\\end{matrix}\\right]$$"
      ],
      "text/plain": [
       "⎡        0.5⋅L⋅p         ⎤\n",
       "⎢                        ⎥\n",
       "⎢                    2   ⎥\n",
       "⎢0.0833333333333333⋅L ⋅p ⎥\n",
       "⎢                        ⎥\n",
       "⎢        0.5⋅L⋅p         ⎥\n",
       "⎢                        ⎥\n",
       "⎢                     2  ⎥\n",
       "⎣-0.0833333333333333⋅L ⋅p⎦"
      ]
     },
     "execution_count": 31,
     "metadata": {},
     "output_type": "execute_result"
    }
   ],
   "source": [
    "Fp = p*sp.integrate(Nv,(xi,-1,1))*L/2\n",
    "Fp"
   ]
  },
  {
   "cell_type": "code",
   "execution_count": 32,
   "metadata": {
    "collapsed": true
   },
   "outputs": [],
   "source": [
    "def Bvfgv(xi,L):\n",
    "    return np.multiply(1/L**2,np.array([6*xi, L*(3*xi-1),-6*xi,-L*(3*xi+1)]))"
   ]
  },
  {
   "cell_type": "code",
   "execution_count": 33,
   "metadata": {
    "collapsed": true
   },
   "outputs": [],
   "source": [
    "def Nvfgv(xi,L):\n",
    "    return np.array([1/4*(1-xi)**2*(2+xi),\n",
    "                 L/8*(1-xi)**2*(1+xi),\n",
    "                 1/4*(1+xi)**2*(2-xi),\n",
    "                 L/8*(1+xi)**2*(xi-1)])"
   ]
  },
  {
   "cell_type": "code",
   "execution_count": 34,
   "metadata": {
    "collapsed": true
   },
   "outputs": [],
   "source": [
    "def dddNvfgv(xi,L):\n",
    "    return np.multiply(1/L**3,np.array([12, 6*L, -12, 6*L]))"
   ]
  },
  {
   "cell_type": "code",
   "execution_count": 35,
   "metadata": {
    "collapsed": true
   },
   "outputs": [],
   "source": [
    "def Nfifgv(xi,L):\n",
    "    return np.multiply(1/L,np.array([1.5*xi**2-1.5,\n",
    "                     L*(0.75*xi+0.25)*(xi-1),\n",
    "                     -1.5*xi**2+1.5,\n",
    "                     L*(0.75*xi-0.25)*(xi+1)]))"
   ]
  },
  {
   "cell_type": "code",
   "execution_count": 36,
   "metadata": {
    "collapsed": true
   },
   "outputs": [],
   "source": [
    "def KeBEAM1D(I,E,L):\n",
    "    return np.multiply(I*E/L**3, np.array([[12,   6*L,    -12,  6*L],\n",
    "                                           [6*L,  4*L**2, -6*L, 2*L**2],\n",
    "                                           [-12,  -6*L,    12,  -6*L],\n",
    "                                           [6*L, 2*L**2, -6*L, 4*L**2]]))"
   ]
  },
  {
   "cell_type": "code",
   "execution_count": 37,
   "metadata": {
    "collapsed": true
   },
   "outputs": [],
   "source": [
    "def Fp(p,L):\n",
    "    return np.multiply(L*p,np.array([1/2,L/12,1/2,-L/12]))"
   ]
  },
  {
   "cell_type": "code",
   "execution_count": 38,
   "metadata": {
    "collapsed": true
   },
   "outputs": [],
   "source": [
    "a=800e-3\n",
    "b=400e-3\n",
    "d=20e-3\n",
    "E=50e9\n",
    "nu=0.3\n",
    "F1=2500\n",
    "M1=-500\n",
    "p0=-5000"
   ]
  },
  {
   "cell_type": "code",
   "execution_count": 39,
   "metadata": {
    "collapsed": true
   },
   "outputs": [],
   "source": [
    "I1 = (2*d)**4*np.pi/64\n",
    "I2 = (d)**4*np.pi/64\n",
    "E1 = E\n",
    "E2 = 4*E\n",
    "Ke1 = KeBEAM1D(I1,E1,a)\n",
    "Ke2 = KeBEAM1D(I2,E2,b)"
   ]
  },
  {
   "cell_type": "code",
   "execution_count": 40,
   "metadata": {
    "collapsed": true
   },
   "outputs": [],
   "source": [
    "elemSZF = np.array([[1,2,3,4],[3,4,5,6]]) - 1"
   ]
  },
  {
   "cell_type": "code",
   "execution_count": 41,
   "metadata": {
    "collapsed": true
   },
   "outputs": [],
   "source": [
    "KG=np.zeros((6,6))"
   ]
  },
  {
   "cell_type": "code",
   "execution_count": 42,
   "metadata": {
    "collapsed": true
   },
   "outputs": [],
   "source": [
    "eind=0\n",
    "KG[np.ix_(elemSZF[eind],elemSZF[eind])]+=Ke1"
   ]
  },
  {
   "cell_type": "code",
   "execution_count": 43,
   "metadata": {
    "collapsed": true
   },
   "outputs": [],
   "source": [
    "eind=1\n",
    "KG[np.ix_(elemSZF[eind],elemSZF[eind])]+=Ke2"
   ]
  },
  {
   "cell_type": "code",
   "execution_count": 44,
   "metadata": {},
   "outputs": [
    {
     "data": {
      "text/plain": [
       "array([-2000.        ,  -266.66666667,   500.        ,   266.66666667,\n",
       "           0.        ,  -500.        ])"
      ]
     },
     "execution_count": 44,
     "metadata": {},
     "output_type": "execute_result"
    }
   ],
   "source": [
    "FG=np.zeros(6)\n",
    "FG[elemSZF[0]] += Fp(p0,a)\n",
    "FG[elemSZF[0,2]] += F1\n",
    "FG[elemSZF[1,3]] += M1\n",
    "FG"
   ]
  },
  {
   "cell_type": "code",
   "execution_count": 45,
   "metadata": {
    "collapsed": true
   },
   "outputs": [],
   "source": [
    "fixSZF=np.array([1,2,5])-1"
   ]
  },
  {
   "cell_type": "code",
   "execution_count": 46,
   "metadata": {},
   "outputs": [
    {
     "data": {
      "image/png": "[encoded data removed]",
      "text/latex": [
       "$$\\left [ 2, \\quad 3, \\quad 5\\right ]$$"
      ],
      "text/plain": [
       "[2, 3, 5]"
      ]
     },
     "execution_count": 46,
     "metadata": {},
     "output_type": "execute_result"
    }
   ],
   "source": [
    "szabadSZF=[i for i in range(0,6) if i not in fixSZF]\n",
    "szabadSZF"
   ]
  },
  {
   "cell_type": "code",
   "execution_count": 47,
   "metadata": {
    "collapsed": true
   },
   "outputs": [],
   "source": [
    "KGkond = KG[np.ix_(szabadSZF,szabadSZF)]"
   ]
  },
  {
   "cell_type": "code",
   "execution_count": 48,
   "metadata": {
    "collapsed": true
   },
   "outputs": [],
   "source": [
    "FGkond = FG[np.ix_(szabadSZF)]"
   ]
  },
  {
   "cell_type": "code",
   "execution_count": 49,
   "metadata": {},
   "outputs": [
    {
     "data": {
      "text/plain": [
       "array([ 0.01358122,  0.02122066, -0.0933709 ])"
      ]
     },
     "execution_count": 49,
     "metadata": {},
     "output_type": "execute_result"
    }
   ],
   "source": [
    "Umego = np.linalg.solve(KGkond,FGkond)\n",
    "Umego"
   ]
  },
  {
   "cell_type": "code",
   "execution_count": 50,
   "metadata": {},
   "outputs": [
    {
     "data": {
      "text/plain": [
       "array([ 0.        ,  0.        ,  0.01358122,  0.02122066,  0.        ,\n",
       "       -0.0933709 ])"
      ]
     },
     "execution_count": 50,
     "metadata": {},
     "output_type": "execute_result"
    }
   ],
   "source": [
    "UG = np.zeros(6)\n",
    "UG[np.ix_(szabadSZF)] += Umego\n",
    "UG"
   ]
  },
  {
   "cell_type": "code",
   "execution_count": 51,
   "metadata": {},
   "outputs": [
    {
     "data": {
      "text/plain": [
       "array([  1.25000000e+03,  -2.00000000e+02,   0.00000000e+00,\n",
       "         5.68434189e-14,   2.50000000e+02,  -1.13686838e-13])"
      ]
     },
     "execution_count": 51,
     "metadata": {},
     "output_type": "execute_result"
    }
   ],
   "source": [
    "FR = np.dot(KG,UG)-FG\n",
    "FR"
   ]
  },
  {
   "cell_type": "markdown",
   "metadata": {
    "collapsed": true
   },
   "source": [
    "# Eredmények ábrázolása"
   ]
  },
  {
   "cell_type": "code",
   "execution_count": 52,
   "metadata": {},
   "outputs": [
    {
     "data": {
      "image/png": "[encoded data removed]",
      "text/latex": [
       "$$\\left [ \\left [ 0, \\quad 0.8\\right ], \\quad \\left [ 0.8, \\quad 1.2000000000000002\\right ]\\right ]$$"
      ],
      "text/plain": [
       "[[0, 0.8], [0.8, 1.2000000000000002]]"
      ]
     },
     "execution_count": 52,
     "metadata": {},
     "output_type": "execute_result"
    }
   ],
   "source": [
    "xiLista = np.linspace(-1,1,num = 20)\n",
    "cspxKRD=[[0,a],[a,a+b]]\n",
    "cspxKRD"
   ]
  },
  {
   "cell_type": "code",
   "execution_count": 53,
   "metadata": {
    "collapsed": true
   },
   "outputs": [],
   "source": [
    "x1Lista=[(cspxKRD[0][1]-cspxKRD[0][0])/2*(xi+1) + cspxKRD[0][0] for xi in xiLista]\n",
    "x2Lista=[(cspxKRD[1][1]-cspxKRD[1][0])/2*(xi+1) + cspxKRD[1][0] for xi in xiLista]\n",
    "xLista = np.concatenate((x1Lista,x2Lista))"
   ]
  },
  {
   "cell_type": "code",
   "execution_count": 54,
   "metadata": {
    "collapsed": true
   },
   "outputs": [],
   "source": [
    "v1Lista = [np.dot(Nvfgv(xi,a),UG[elemSZF[0]]) for xi in xiLista]\n",
    "v2Lista = [np.dot(Nvfgv(xi,b),UG[elemSZF[1]]) for xi in xiLista]\n",
    "vLista = np.concatenate((v1Lista,v2Lista))"
   ]
  },
  {
   "cell_type": "code",
   "execution_count": 55,
   "metadata": {},
   "outputs": [
    {
     "data": {
      "image/png": "[encoded data removed]",
      "text/plain": [
       "<matplotlib.figure.Figure at 0x1ab5f0de1d0>"
      ]
     },
     "metadata": {},
     "output_type": "display_data"
    }
   ],
   "source": [
    "figv = plt.figure(num = 1, figsize=(16/2.54,10/2.54))\n",
    "axv = figv.add_subplot(111)\n",
    "\n",
    "axv.plot(xLista,vLista)\n",
    "\n",
    "plt.xlabel(r\"$x \\, \\left[\\mathrm{m}\\right]$\")\n",
    "plt.ylabel(r\"$v \\, \\left[\\mathrm{m}\\right]$\")\n",
    "\n",
    "plt.grid()\n",
    "plt.legend()\n",
    "plt.show()"
   ]
  },
  {
   "cell_type": "code",
   "execution_count": 56,
   "metadata": {
    "collapsed": true
   },
   "outputs": [],
   "source": [
    "fi1Lista = [np.dot(Nfifgv(xi,a),UG[elemSZF[0]]) for xi in xiLista]\n",
    "fi2Lista = [np.dot(Nfifgv(xi,b),UG[elemSZF[1]]) for xi in xiLista]\n",
    "fiLista = np.concatenate((fi1Lista,fi2Lista))"
   ]
  },
  {
   "cell_type": "code",
   "execution_count": 57,
   "metadata": {},
   "outputs": [
    {
     "data": {
      "image/png": "[encoded data removed]",
      "text/plain": [
       "<matplotlib.figure.Figure at 0x1ab5f2c8cf8>"
      ]
     },
     "metadata": {},
     "output_type": "display_data"
    }
   ],
   "source": [
    "figfi = plt.figure(num = 2, figsize=(16/2.54,10/2.54))\n",
    "axfi = figfi.add_subplot(111)\n",
    "\n",
    "axfi.plot(xLista,fiLista)\n",
    "\n",
    "plt.xlabel(r\"$x \\, \\left[\\mathrm{m}\\right]$\")\n",
    "plt.ylabel(r\"$\\varphi \\, \\left[\\mathrm{rad}\\right]$\")\n",
    "\n",
    "plt.grid()\n",
    "plt.legend()\n",
    "plt.show()"
   ]
  },
  {
   "cell_type": "code",
   "execution_count": 58,
   "metadata": {
    "collapsed": true
   },
   "outputs": [],
   "source": [
    "Mh1Lista = [-I1*E1*np.dot(Bvfgv(xi,a),UG[elemSZF[0]]) for xi in xiLista]\n",
    "Mh2Lista = [-I2*E2*np.dot(Bvfgv(xi,b),UG[elemSZF[1]]) for xi in xiLista]\n",
    "MhLista = np.concatenate((Mh1Lista,Mh2Lista))"
   ]
  },
  {
   "cell_type": "code",
   "execution_count": 59,
   "metadata": {
    "scrolled": true
   },
   "outputs": [
    {
     "data": {
      "image/png": "[encoded data removed]",
      "text/plain": [
       "<matplotlib.figure.Figure at 0x1ab5f5cbeb8>"
      ]
     },
     "metadata": {},
     "output_type": "display_data"
    }
   ],
   "source": [
    "figMh = plt.figure(num = 3, figsize=(16/2.54,10/2.54))\n",
    "axMh = figMh.add_subplot(111)\n",
    "\n",
    "axMh.plot(xLista,MhLista)\n",
    "\n",
    "plt.xlabel(r\"$x \\, \\left[\\mathrm{m}\\right]$\")\n",
    "plt.ylabel(r\"$M_h \\, \\left[\\mathrm{Nm}\\right]$\")\n",
    "\n",
    "plt.grid()\n",
    "plt.legend()\n",
    "plt.show()"
   ]
  },
  {
   "cell_type": "code",
   "execution_count": 60,
   "metadata": {
    "collapsed": true
   },
   "outputs": [],
   "source": [
    "V1Lista = [I1*E1*np.dot(dddNvfgv(xi,a),UG[elemSZF[0]]) for xi in xiLista]\n",
    "V2Lista = [I2*E2*np.dot(dddNvfgv(xi,b),UG[elemSZF[1]]) for xi in xiLista]\n",
    "VLista = np.concatenate((V1Lista,V2Lista))"
   ]
  },
  {
   "cell_type": "code",
   "execution_count": 61,
   "metadata": {},
   "outputs": [
    {
     "data": {
      "image/png": "[encoded data removed]",
      "text/plain": [
       "<matplotlib.figure.Figure at 0x1ab5f75e588>"
      ]
     },
     "metadata": {},
     "output_type": "display_data"
    }
   ],
   "source": [
    "figV = plt.figure(num = 4, figsize=(16/2.54,10/2.54))\n",
    "axV = figV.add_subplot(111)\n",
    "\n",
    "axV.plot(xLista,VLista)\n",
    "\n",
    "plt.xlabel(r\"$x \\, \\left[\\mathrm{m}\\right]$\")\n",
    "plt.ylabel(r\"$V \\, \\left[\\mathrm{N}\\right]$\")\n",
    "\n",
    "plt.grid()\n",
    "plt.legend()\n",
    "plt.show()"
   ]
  }
 ],
 "metadata": {
  "kernelspec": {
   "display_name": "Python 3",
   "language": "python",
   "name": "python3"
  },
  "language_info": {
   "codemirror_mode": {
    "name": "ipython",
    "version": 3
   },
   "file_extension": ".py",
   "mimetype": "text/x-python",
   "name": "python",
   "nbconvert_exporter": "python",
   "pygments_lexer": "ipython3",
   "version": "3.6.3"
  }
 },
 "nbformat": 4,
 "nbformat_minor": 2
}
