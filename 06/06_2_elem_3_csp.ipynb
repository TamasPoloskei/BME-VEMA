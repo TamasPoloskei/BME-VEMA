{
 "cells": [
  {
   "cell_type": "markdown",
   "metadata": {},
   "source": [
    "Határozzuk meg az alábbi ábrán látható tartó súlypontvonalának eltolódását leíró $v\\left(x\\right)$ függvényt végeselemes módszer használatával, síkbeli egyenes gerendalemek alkalmazásával.\n",
    "Vizsgáljuk meg a végeselemes megoldással kapott hajlítónyomatéki igénybevétel hibáját az egyes szakaszokon.\n",
    "Határozzuk meg az $x = a/2$ keresztmetszetben a hajlítónyomatéki igénybevétel nagyságát 2, illetve 3 síkbeli egyenes gerendaelem alkalmazásával.\n",
    "A tartók két különböző átmérőjű ($d_1 = 2d$, illetve $d_2 = d$) kör keresztmetszetű tartókból\n",
    "vannak összeépítve.\n",
    "A tartók anyaga lineárisan rugalmas, homogén, izotrop. A $d_1$ átmérőjű rész rugalmassági modulusza $E$, míg a $d_2$ átmérővel rendelkező részé $4E$."
   ]
  },
  {
   "cell_type": "code",
   "execution_count": 102,
   "metadata": {},
   "outputs": [],
   "source": [
    "import sympy as sp\n",
    "from sympy import Poly\n",
    "import numpy as np\n",
    "import matplotlib as mpl\n",
    "import matplotlib.pyplot as plt\n",
    "\n",
    "sp.init_printing()"
   ]
  },
  {
   "cell_type": "code",
   "execution_count": 103,
   "metadata": {},
   "outputs": [],
   "source": [
    "p, xi, L, I, E = sp.symbols(\"p, xi L I E\")\n",
    "a = sp.IndexedBase('a')\n",
    "i = sp.Idx('i', (0, 5))\n",
    "v1, v2, v3 = sp.symbols(\"v_1 v_2 v_3\")\n",
    "fi1, fi2, fi3 = sp.symbols(\"phi_1 phi_2 phi_3\")"
   ]
  },
  {
   "cell_type": "code",
   "execution_count": 104,
   "metadata": {},
   "outputs": [
    {
     "data": {
      "image/png": "[encoded data removed]",
      "text/latex": [
       "$$\\xi^{5} a_{5} + \\xi^{4} a_{4} + \\xi^{3} a_{3} + \\xi^{2} a_{2} + \\xi a_{1} + a_{0}$$"
      ],
      "text/plain": [
       " 5         4         3         2                     \n",
       "ξ ⋅a[5] + ξ ⋅a[4] + ξ ⋅a[3] + ξ ⋅a[2] + ξ⋅a[1] + a[0]"
      ]
     },
     "execution_count": 104,
     "metadata": {},
     "output_type": "execute_result"
    }
   ],
   "source": [
    "ue = [v1,fi1,v2,fi2,v3,fi3]\n",
    "ve = sp.Sum(a[i]*xi**i,(i,0,5)).doit()\n",
    "ve"
   ]
  },
  {
   "cell_type": "code",
   "execution_count": 105,
   "metadata": {},
   "outputs": [
    {
     "data": {
      "image/png": "[encoded data removed]",
      "text/latex": [
       "$$\\frac{1}{L} \\left(10 \\xi^{4} a_{5} + 8 \\xi^{3} a_{4} + 6 \\xi^{2} a_{3} + 4 \\xi a_{2} + 2 a_{1}\\right)$$"
      ],
      "text/plain": [
       "    4           3           2                         \n",
       "10⋅ξ ⋅a[5] + 8⋅ξ ⋅a[4] + 6⋅ξ ⋅a[3] + 4⋅ξ⋅a[2] + 2⋅a[1]\n",
       "──────────────────────────────────────────────────────\n",
       "                          L                           "
      ]
     },
     "execution_count": 105,
     "metadata": {},
     "output_type": "execute_result"
    }
   ],
   "source": [
    "fie = sp.diff(ve,xi)*2/L\n",
    "fie"
   ]
  },
  {
   "cell_type": "markdown",
   "metadata": {},
   "source": [
    "Csomóponti feltételrendszer megoldás"
   ]
  },
  {
   "cell_type": "code",
   "execution_count": 106,
   "metadata": {},
   "outputs": [
    {
     "data": {
      "image/png": "[encoded data removed]",
      "text/latex": [
       "$$\\left \\{ a_{0} : v_{2}, \\quad a_{1} : \\frac{L \\phi_{2}}{2}, \\quad a_{2} : \\frac{L \\phi_{1}}{8} - \\frac{L \\phi_{3}}{8} + v_{1} - 2 v_{2} + v_{3}, \\quad a_{3} : - \\frac{L \\phi_{1}}{8} - L \\phi_{2} - \\frac{L \\phi_{3}}{8} - \\frac{5 v_{1}}{4} + \\frac{5 v_{3}}{4}, \\quad a_{4} : - \\frac{L \\phi_{1}}{8} + \\frac{L \\phi_{3}}{8} - \\frac{v_{1}}{2} + v_{2} - \\frac{v_{3}}{2}, \\quad a_{5} : \\frac{L \\phi_{1}}{8} + \\frac{L \\phi_{2}}{2} + \\frac{L \\phi_{3}}{8} + \\frac{3 v_{1}}{4} - \\frac{3 v_{3}}{4}\\right \\}$$"
      ],
      "text/plain": [
       "⎧                L⋅φ₂        L⋅φ₁   L⋅φ₃                           L⋅φ₁       \n",
       "⎨a[0]: v₂, a[1]: ────, a[2]: ──── - ──── + v₁ - 2⋅v₂ + v₃, a[3]: - ──── - L⋅φ₂\n",
       "⎩                 2           8      8                              8         \n",
       "\n",
       "   L⋅φ₃   5⋅v₁   5⋅v₃          L⋅φ₁   L⋅φ₃   v₁        v₃        L⋅φ₁   L⋅φ₂  \n",
       " - ──── - ──── + ────, a[4]: - ──── + ──── - ── + v₂ - ──, a[5]: ──── + ──── +\n",
       "    8      4      4             8      8     2         2          8      2    \n",
       "\n",
       " L⋅φ₃   3⋅v₁   3⋅v₃⎫\n",
       " ──── + ──── - ────⎬\n",
       "  8      4      4  ⎭"
      ]
     },
     "execution_count": 106,
     "metadata": {},
     "output_type": "execute_result"
    }
   ],
   "source": [
    "cspfmego = sp.solve([ve.subs([(xi,-1)])-v1,ve.subs([(xi,0)])-v2,ve.subs([(xi,1)])-v3,\n",
    "                 fie.subs([(xi,-1)])-fi1,fie.subs([(xi,0)])-fi2,fie.subs([(xi,1)])-fi3],[a[0],a[1],a[2],a[3],a[4],a[5]])\n",
    "cspfmego"
   ]
  },
  {
   "cell_type": "code",
   "execution_count": 107,
   "metadata": {},
   "outputs": [
    {
     "data": {
      "image/png": "[encoded data removed]",
      "text/latex": [
       "$$\\left[\\begin{matrix}\\frac{3 \\xi^{5}}{4} - \\frac{\\xi^{4}}{2} - \\frac{5 \\xi^{3}}{4} + \\xi^{2}\\\\\\frac{L \\xi^{5}}{8} - \\frac{L \\xi^{4}}{8} - \\frac{L \\xi^{3}}{8} + \\frac{L \\xi^{2}}{8}\\\\\\xi^{4} - 2 \\xi^{2} + 1\\\\\\frac{L \\xi^{5}}{2} - L \\xi^{3} + \\frac{L \\xi}{2}\\\\- \\frac{3 \\xi^{5}}{4} - \\frac{\\xi^{4}}{2} + \\frac{5 \\xi^{3}}{4} + \\xi^{2}\\\\\\frac{L \\xi^{5}}{8} + \\frac{L \\xi^{4}}{8} - \\frac{L \\xi^{3}}{8} - \\frac{L \\xi^{2}}{8}\\end{matrix}\\right]$$"
      ],
      "text/plain": [
       "⎡     5    4      3       ⎤\n",
       "⎢  3⋅ξ    ξ    5⋅ξ     2  ⎥\n",
       "⎢  ──── - ── - ──── + ξ   ⎥\n",
       "⎢   4     2     4         ⎥\n",
       "⎢                         ⎥\n",
       "⎢   5      4      3      2⎥\n",
       "⎢L⋅ξ    L⋅ξ    L⋅ξ    L⋅ξ ⎥\n",
       "⎢──── - ──── - ──── + ────⎥\n",
       "⎢ 8      8      8      8  ⎥\n",
       "⎢                         ⎥\n",
       "⎢       4      2          ⎥\n",
       "⎢      ξ  - 2⋅ξ  + 1      ⎥\n",
       "⎢                         ⎥\n",
       "⎢       5                 ⎥\n",
       "⎢    L⋅ξ       3   L⋅ξ    ⎥\n",
       "⎢    ──── - L⋅ξ  + ───    ⎥\n",
       "⎢     2             2     ⎥\n",
       "⎢                         ⎥\n",
       "⎢      5    4      3      ⎥\n",
       "⎢   3⋅ξ    ξ    5⋅ξ     2 ⎥\n",
       "⎢ - ──── - ── + ──── + ξ  ⎥\n",
       "⎢    4     2     4        ⎥\n",
       "⎢                         ⎥\n",
       "⎢   5      4      3      2⎥\n",
       "⎢L⋅ξ    L⋅ξ    L⋅ξ    L⋅ξ ⎥\n",
       "⎢──── + ──── - ──── - ────⎥\n",
       "⎣ 8      8      8      8  ⎦"
      ]
     },
     "execution_count": 107,
     "metadata": {},
     "output_type": "execute_result"
    }
   ],
   "source": [
    "Nv = sp.Matrix([(ve.subs(cspfmego).expand()).coeff(ue[i]) for i in range(6)])\n",
    "Nv"
   ]
  },
  {
   "cell_type": "code",
   "execution_count": 108,
   "metadata": {},
   "outputs": [
    {
     "data": {
      "image/png": "[encoded data removed]",
      "text/latex": [
       "$$\\left[\\begin{matrix}\\frac{\\xi}{2} \\left(15 \\xi^{3} - 8 \\xi^{2} - 15 \\xi + 8\\right)\\\\\\frac{L \\xi}{4} \\left(5 \\xi^{3} - 4 \\xi^{2} - 3 \\xi + 2\\right)\\\\8 \\xi \\left(\\xi^{2} - 1\\right)\\\\L \\left(5 \\xi^{4} - 6 \\xi^{2} + 1\\right)\\\\\\frac{\\xi}{2} \\left(- 15 \\xi^{3} - 8 \\xi^{2} + 15 \\xi + 8\\right)\\\\\\frac{L \\xi}{4} \\left(5 \\xi^{3} + 4 \\xi^{2} - 3 \\xi - 2\\right)\\end{matrix}\\right]$$"
      ],
      "text/plain": [
       "⎡   ⎛    3      2           ⎞ ⎤\n",
       "⎢ ξ⋅⎝15⋅ξ  - 8⋅ξ  - 15⋅ξ + 8⎠ ⎥\n",
       "⎢ ─────────────────────────── ⎥\n",
       "⎢              2              ⎥\n",
       "⎢                             ⎥\n",
       "⎢     ⎛   3      2          ⎞ ⎥\n",
       "⎢ L⋅ξ⋅⎝5⋅ξ  - 4⋅ξ  - 3⋅ξ + 2⎠ ⎥\n",
       "⎢ ─────────────────────────── ⎥\n",
       "⎢              4              ⎥\n",
       "⎢                             ⎥\n",
       "⎢            ⎛ 2    ⎞         ⎥\n",
       "⎢        8⋅ξ⋅⎝ξ  - 1⎠         ⎥\n",
       "⎢                             ⎥\n",
       "⎢       ⎛   4      2    ⎞     ⎥\n",
       "⎢     L⋅⎝5⋅ξ  - 6⋅ξ  + 1⎠     ⎥\n",
       "⎢                             ⎥\n",
       "⎢  ⎛      3      2           ⎞⎥\n",
       "⎢ξ⋅⎝- 15⋅ξ  - 8⋅ξ  + 15⋅ξ + 8⎠⎥\n",
       "⎢─────────────────────────────⎥\n",
       "⎢              2              ⎥\n",
       "⎢                             ⎥\n",
       "⎢     ⎛   3      2          ⎞ ⎥\n",
       "⎢ L⋅ξ⋅⎝5⋅ξ  + 4⋅ξ  - 3⋅ξ - 2⎠ ⎥\n",
       "⎢ ─────────────────────────── ⎥\n",
       "⎣              4              ⎦"
      ]
     },
     "execution_count": 108,
     "metadata": {},
     "output_type": "execute_result"
    }
   ],
   "source": [
    "Nfi=sp.diff(Nv,xi)*(2/L)\n",
    "sp.simplify((1/L)**(-1)*Nfi)"
   ]
  },
  {
   "cell_type": "code",
   "execution_count": 109,
   "metadata": {
    "scrolled": false
   },
   "outputs": [
    {
     "data": {
      "image/png": "[encoded data removed]",
      "text/latex": [
       "$$\\left[\\begin{matrix}60 \\xi^{3} - 24 \\xi^{2} - 30 \\xi + 8\\\\L \\left(10 \\xi^{3} - 6 \\xi^{2} - 3 \\xi + 1\\right)\\\\48 \\xi^{2} - 16\\\\8 L \\xi \\left(5 \\xi^{2} - 3\\right)\\\\- 60 \\xi^{3} - 24 \\xi^{2} + 30 \\xi + 8\\\\L \\left(10 \\xi^{3} + 6 \\xi^{2} - 3 \\xi - 1\\right)\\end{matrix}\\right]$$"
      ],
      "text/plain": [
       "⎡     3       2            ⎤\n",
       "⎢ 60⋅ξ  - 24⋅ξ  - 30⋅ξ + 8 ⎥\n",
       "⎢                          ⎥\n",
       "⎢  ⎛    3      2          ⎞⎥\n",
       "⎢L⋅⎝10⋅ξ  - 6⋅ξ  - 3⋅ξ + 1⎠⎥\n",
       "⎢                          ⎥\n",
       "⎢            2             ⎥\n",
       "⎢        48⋅ξ  - 16        ⎥\n",
       "⎢                          ⎥\n",
       "⎢           ⎛   2    ⎞     ⎥\n",
       "⎢     8⋅L⋅ξ⋅⎝5⋅ξ  - 3⎠     ⎥\n",
       "⎢                          ⎥\n",
       "⎢      3       2           ⎥\n",
       "⎢- 60⋅ξ  - 24⋅ξ  + 30⋅ξ + 8⎥\n",
       "⎢                          ⎥\n",
       "⎢  ⎛    3      2          ⎞⎥\n",
       "⎣L⋅⎝10⋅ξ  + 6⋅ξ  - 3⋅ξ - 1⎠⎦"
      ]
     },
     "execution_count": 109,
     "metadata": {},
     "output_type": "execute_result"
    }
   ],
   "source": [
    "Bv=sp.diff(Nv,xi,2)*(2/L)**2\n",
    "sp.simplify((1/L**2)**(-1)*Bv)"
   ]
  },
  {
   "cell_type": "code",
   "execution_count": 110,
   "metadata": {},
   "outputs": [
    {
     "data": {
      "image/png": "[encoded data removed]",
      "text/latex": [
       "$$\\left[\\begin{matrix}5092 & 1138 L & -3584 & 1920 L & -1508 & 242 L\\\\1138 L & 332 L^{2} & - 896 L & 320 L^{2} & - 242 L & 38 L^{2}\\\\-3584 & - 896 L & 7168 & 0 & -3584 & 896 L\\\\1920 L & 320 L^{2} & 0 & 1280 L^{2} & - 1920 L & 320 L^{2}\\\\-1508 & - 242 L & -3584 & - 1920 L & 5092 & - 1138 L\\\\242 L & 38 L^{2} & 896 L & 320 L^{2} & - 1138 L & 332 L^{2}\\end{matrix}\\right]$$"
      ],
      "text/plain": [
       "⎡ 5092   1138⋅L  -3584   1920⋅L    -1508    242⋅L ⎤\n",
       "⎢                                                 ⎥\n",
       "⎢             2               2                 2 ⎥\n",
       "⎢1138⋅L  332⋅L   -896⋅L  320⋅L    -242⋅L    38⋅L  ⎥\n",
       "⎢                                                 ⎥\n",
       "⎢-3584   -896⋅L   7168      0      -3584    896⋅L ⎥\n",
       "⎢                                                 ⎥\n",
       "⎢             2                2                2 ⎥\n",
       "⎢1920⋅L  320⋅L     0     1280⋅L   -1920⋅L  320⋅L  ⎥\n",
       "⎢                                                 ⎥\n",
       "⎢-1508   -242⋅L  -3584   -1920⋅L   5092    -1138⋅L⎥\n",
       "⎢                                                 ⎥\n",
       "⎢            2                2                 2 ⎥\n",
       "⎣242⋅L   38⋅L    896⋅L   320⋅L    -1138⋅L  332⋅L  ⎦"
      ]
     },
     "execution_count": 110,
     "metadata": {},
     "output_type": "execute_result"
    }
   ],
   "source": [
    "KeBEAM1D = I*E*sp.integrate(Bv*(Bv.T),(xi,-1,1))*L/2\n",
    "(I*E/(35*L**3))**(-1)*KeBEAM1D"
   ]
  },
  {
   "cell_type": "code",
   "execution_count": 111,
   "metadata": {},
   "outputs": [
    {
     "data": {
      "image/png": "[encoded data removed]",
      "text/latex": [
       "$$\\left[\\begin{matrix}14\\\\L\\\\32\\\\0\\\\14\\\\- L\\end{matrix}\\right]$$"
      ],
      "text/plain": [
       "⎡14⎤\n",
       "⎢  ⎥\n",
       "⎢L ⎥\n",
       "⎢  ⎥\n",
       "⎢32⎥\n",
       "⎢  ⎥\n",
       "⎢0 ⎥\n",
       "⎢  ⎥\n",
       "⎢14⎥\n",
       "⎢  ⎥\n",
       "⎣-L⎦"
      ]
     },
     "execution_count": 111,
     "metadata": {},
     "output_type": "execute_result"
    }
   ],
   "source": [
    "Fp = p*sp.integrate(Nv,(xi,-1,1))*L/2\n",
    "(p*L/60)**(-1)*Fp"
   ]
  },
  {
   "cell_type": "code",
   "execution_count": 112,
   "metadata": {
    "collapsed": true
   },
   "outputs": [],
   "source": [
    "def Bvfgv(xi,L):\n",
    "    return np.multiply(1/L**2,np.array([\n",
    "        60*xi**3 - 24*xi**2 - 30*xi + 8,\n",
    "        L*(10*xi**3 - 6*xi**2 - 3*xi + 1),\n",
    "        48*xi**2 - 16,\n",
    "        8*L*xi*(5*xi**2 - 3),\n",
    "        -60*xi**3 - 24*xi**2 + 30*xi + 8,\n",
    "        L*(10*xi**3 + 6*xi**2 - 3*xi - 1)]))"
   ]
  },
  {
   "cell_type": "code",
   "execution_count": 113,
   "metadata": {
    "collapsed": true
   },
   "outputs": [],
   "source": [
    "def Nvfgv(xi,L):\n",
    "    return np.array([\n",
    "        3*xi**5/4 - xi**4/2 - 5*xi**3/4 + xi**2,\n",
    "        L*xi**5/8 - L*xi**4/8 - L*xi**3/8 + L*xi**2/8,\n",
    "        xi**4 - 2*xi**2 + 1,\n",
    "        L*xi**5/2 - L*xi**3 + L*xi/2,\n",
    "        -3*xi**5/4 - xi**4/2 + 5*xi**3/4 + xi**2,\n",
    "        L*xi**5/8 + L*xi**4/8 - L*xi**3/8 - L*xi**2/8])"
   ]
  },
  {
   "cell_type": "code",
   "execution_count": 114,
   "metadata": {
    "collapsed": true
   },
   "outputs": [],
   "source": [
    "def dddNvfgv(xi,L):\n",
    "    return np.multiply(1/L**3,np.array([\n",
    "        6*L*(30*xi**2 - 8*xi - 5),\n",
    "        L**2*(30*xi**2 - 12*xi - 3),\n",
    "        96*L*xi,\n",
    "        L**2*(120*xi**2 - 24),\n",
    "        6*L*(-30*xi**2 - 8*xi + 5),\n",
    "        L**2*(30*xi**2 + 12*xi - 3)]))"
   ]
  },
  {
   "cell_type": "code",
   "execution_count": 115,
   "metadata": {
    "collapsed": true
   },
   "outputs": [],
   "source": [
    "def Nfifgv(xi,L):\n",
    "    return np.multiply(1/L,np.array([\n",
    "        xi*(15*xi**3 - 8*xi**2 - 15*xi + 8)/2,\n",
    "        L*xi*(5*xi**3 - 4*xi**2 - 3*xi + 2)/4,\n",
    "        8*xi*(xi**2 - 1),\n",
    "        L*(5*xi**4 - 6*xi**2 + 1),\n",
    "        xi*(-15*xi**3 - 8*xi**2 + 15*xi + 8)/2,\n",
    "        L*xi*(5*xi**3 + 4*xi**2 - 3*xi - 2)/4]))"
   ]
  },
  {
   "cell_type": "code",
   "execution_count": 116,
   "metadata": {
    "collapsed": true
   },
   "outputs": [],
   "source": [
    "def KeBEAM1D(I,E,L):\n",
    "    return np.multiply(I*E/(35*L**3), np.array([\n",
    "        [5092, 1138*L, -3584, 1920*L, -1508, 242*L],\n",
    "        [1138*L, 332*L**2, -896*L, 320*L**2, -242*L, 38*L**2],\n",
    "        [-3584, -896*L, 7168, 0, -3584, 896*L],\n",
    "        [1920*L, 320*L**2, 0, 1280*L**2, -1920*L, 320*L**2],\n",
    "        [-1508, -242*L, -3584, -1920*L, 5092, -1138*L],\n",
    "        [242*L, 38*L**2, 896*L, 320*L**2, -1138*L, 332*L**2]]))"
   ]
  },
  {
   "cell_type": "code",
   "execution_count": 117,
   "metadata": {
    "collapsed": true
   },
   "outputs": [],
   "source": [
    "def Fp(p,L):\n",
    "    return np.multiply(L*p/60,np.array([\n",
    "        14,\n",
    "        L,\n",
    "        32,\n",
    "        0,\n",
    "        14,\n",
    "        -L]))"
   ]
  },
  {
   "cell_type": "code",
   "execution_count": 118,
   "metadata": {
    "collapsed": true
   },
   "outputs": [],
   "source": [
    "a=800e-3\n",
    "b=400e-3\n",
    "d=20e-3\n",
    "E=50e9\n",
    "nu=0.3\n",
    "F1=2500\n",
    "M1=-500\n",
    "p0=-5000"
   ]
  },
  {
   "cell_type": "code",
   "execution_count": 119,
   "metadata": {},
   "outputs": [],
   "source": [
    "I1 = (2*d)**4*np.pi/64\n",
    "I2 = (d)**4*np.pi/64\n",
    "E1 = E\n",
    "E2 = 4*E\n",
    "Ke1 = KeBEAM1D(I1,E1,a)\n",
    "Ke2 = KeBEAM1D(I2,E2,b)"
   ]
  },
  {
   "cell_type": "code",
   "execution_count": 120,
   "metadata": {
    "collapsed": true
   },
   "outputs": [],
   "source": [
    "elemSZF = np.array([[1,2,3,4,5,6],[5,6,7,8,9,10]]) - 1"
   ]
  },
  {
   "cell_type": "code",
   "execution_count": 121,
   "metadata": {
    "collapsed": true
   },
   "outputs": [],
   "source": [
    "KG=np.zeros((10,10))"
   ]
  },
  {
   "cell_type": "code",
   "execution_count": 122,
   "metadata": {
    "collapsed": true
   },
   "outputs": [],
   "source": [
    "eind=0\n",
    "KG[np.ix_(elemSZF[eind],elemSZF[eind])]+=Ke1"
   ]
  },
  {
   "cell_type": "code",
   "execution_count": 123,
   "metadata": {
    "collapsed": true
   },
   "outputs": [],
   "source": [
    "eind=1\n",
    "KG[np.ix_(elemSZF[eind],elemSZF[eind])]+=Ke2"
   ]
  },
  {
   "cell_type": "code",
   "execution_count": 124,
   "metadata": {},
   "outputs": [
    {
     "data": {
      "text/plain": [
       "array([ -933.33333333,   -53.33333333, -2133.33333333,     0.        ,\n",
       "        1566.66666667,    53.33333333,     0.        ,     0.        ,\n",
       "           0.        ,  -500.        ])"
      ]
     },
     "execution_count": 124,
     "metadata": {},
     "output_type": "execute_result"
    }
   ],
   "source": [
    "FG=np.zeros(10)\n",
    "FG[elemSZF[0]] += Fp(p0,a)\n",
    "FG[elemSZF[0,-2]] += F1\n",
    "FG[elemSZF[1,-1]] += M1\n",
    "FG"
   ]
  },
  {
   "cell_type": "code",
   "execution_count": 125,
   "metadata": {
    "collapsed": true
   },
   "outputs": [],
   "source": [
    "fixSZF=np.array([1,2,9])-1"
   ]
  },
  {
   "cell_type": "code",
   "execution_count": 142,
   "metadata": {},
   "outputs": [
    {
     "data": {
      "image/png": "[encoded data removed]",
      "text/latex": [
       "$$\\left [ 2, \\quad 3, \\quad 4, \\quad 5, \\quad 6, \\quad 7, \\quad 9\\right ]$$"
      ],
      "text/plain": [
       "[2, 3, 4, 5, 6, 7, 9]"
      ]
     },
     "execution_count": 142,
     "metadata": {},
     "output_type": "execute_result"
    }
   ],
   "source": [
    "szabadSZF=[i for i in range(0,10) if i not in fixSZF]\n",
    "szabadSZF"
   ]
  },
  {
   "cell_type": "code",
   "execution_count": 143,
   "metadata": {
    "collapsed": true
   },
   "outputs": [],
   "source": [
    "KGkond = KG[np.ix_(szabadSZF,szabadSZF)]"
   ]
  },
  {
   "cell_type": "code",
   "execution_count": 144,
   "metadata": {
    "collapsed": true
   },
   "outputs": [],
   "source": [
    "FGkond = FG[np.ix_(szabadSZF)]"
   ]
  },
  {
   "cell_type": "code",
   "execution_count": 145,
   "metadata": {},
   "outputs": [
    {
     "data": {
      "text/plain": [
       "array([ 0.00381972,  0.02015963,  0.01358122,  0.02122066,  0.01252019,\n",
       "       -0.03289202, -0.0933709 ])"
      ]
     },
     "execution_count": 145,
     "metadata": {},
     "output_type": "execute_result"
    }
   ],
   "source": [
    "Umego = np.linalg.solve(KGkond,FGkond)\n",
    "Umego"
   ]
  },
  {
   "cell_type": "code",
   "execution_count": 146,
   "metadata": {},
   "outputs": [
    {
     "data": {
      "text/plain": [
       "array([ 0.        ,  0.        ,  0.00381972,  0.02015963,  0.01358122,\n",
       "        0.02122066,  0.01252019, -0.03289202,  0.        , -0.0933709 ])"
      ]
     },
     "execution_count": 146,
     "metadata": {},
     "output_type": "execute_result"
    }
   ],
   "source": [
    "UG = np.zeros(10)\n",
    "UG[np.ix_(szabadSZF)] += Umego\n",
    "UG"
   ]
  },
  {
   "cell_type": "code",
   "execution_count": 147,
   "metadata": {},
   "outputs": [
    {
     "data": {
      "text/plain": [
       "array([  1.25000000e+03,  -2.00000000e+02,   1.36424205e-12,\n",
       "         6.36646291e-12,  -2.27373675e-12,   9.00968189e-12,\n",
       "         0.00000000e+00,   0.00000000e+00,   2.50000000e+02,\n",
       "         4.54747351e-13])"
      ]
     },
     "execution_count": 147,
     "metadata": {},
     "output_type": "execute_result"
    }
   ],
   "source": [
    "FR = np.dot(KG,UG)-FG\n",
    "FR"
   ]
  },
  {
   "cell_type": "markdown",
   "metadata": {
    "collapsed": true
   },
   "source": [
    "# Eredmények ábrázolása"
   ]
  },
  {
   "cell_type": "code",
   "execution_count": 148,
   "metadata": {},
   "outputs": [
    {
     "data": {
      "image/png": "[encoded data removed]",
      "text/latex": [
       "$$\\left [ \\left [ 0, \\quad 0.8\\right ], \\quad \\left [ 0.8, \\quad 1.2000000000000002\\right ]\\right ]$$"
      ],
      "text/plain": [
       "[[0, 0.8], [0.8, 1.2000000000000002]]"
      ]
     },
     "execution_count": 148,
     "metadata": {},
     "output_type": "execute_result"
    }
   ],
   "source": [
    "xiLista = np.linspace(-1,1,num = 20)\n",
    "cspxKRD=[[0,a],[a,a+b]]\n",
    "cspxKRD"
   ]
  },
  {
   "cell_type": "code",
   "execution_count": 149,
   "metadata": {
    "collapsed": true
   },
   "outputs": [],
   "source": [
    "x1Lista=[(cspxKRD[0][1]-cspxKRD[0][0])/2*(xi+1) + cspxKRD[0][0] for xi in xiLista]\n",
    "x2Lista=[(cspxKRD[1][1]-cspxKRD[1][0])/2*(xi+1) + cspxKRD[1][0] for xi in xiLista]\n",
    "xLista = np.concatenate((x1Lista,x2Lista))"
   ]
  },
  {
   "cell_type": "code",
   "execution_count": 150,
   "metadata": {},
   "outputs": [],
   "source": [
    "v1Lista = [np.dot(Nvfgv(xi,a),UG[elemSZF[0]]) for xi in xiLista]\n",
    "v2Lista = [np.dot(Nvfgv(xi,b),UG[elemSZF[1]]) for xi in xiLista]\n",
    "vLista = np.concatenate((v1Lista,v2Lista))"
   ]
  },
  {
   "cell_type": "code",
   "execution_count": 151,
   "metadata": {},
   "outputs": [
    {
     "data": {
      "image/png": "[encoded data removed]",
      "text/plain": [
       "<matplotlib.figure.Figure at 0x190bc96b748>"
      ]
     },
     "metadata": {},
     "output_type": "display_data"
    }
   ],
   "source": [
    "figv = plt.figure(num = 1, figsize=(16/2.54,10/2.54))\n",
    "axv = figv.add_subplot(111)\n",
    "\n",
    "axv.plot(xLista,vLista)\n",
    "\n",
    "plt.xlabel(r\"$x \\, \\left[\\mathrm{m}\\right]$\")\n",
    "plt.ylabel(r\"$v \\, \\left[\\mathrm{m}\\right]$\")\n",
    "\n",
    "plt.grid()\n",
    "plt.legend()\n",
    "plt.show()"
   ]
  },
  {
   "cell_type": "code",
   "execution_count": 152,
   "metadata": {
    "collapsed": true
   },
   "outputs": [],
   "source": [
    "fi1Lista = [np.dot(Nfifgv(xi,a),UG[elemSZF[0]]) for xi in xiLista]\n",
    "fi2Lista = [np.dot(Nfifgv(xi,b),UG[elemSZF[1]]) for xi in xiLista]\n",
    "fiLista = np.concatenate((fi1Lista,fi2Lista))"
   ]
  },
  {
   "cell_type": "code",
   "execution_count": 153,
   "metadata": {},
   "outputs": [
    {
     "data": {
      "image/png": "[encoded data removed]",
      "text/plain": [
       "<matplotlib.figure.Figure at 0x190bc8d7358>"
      ]
     },
     "metadata": {},
     "output_type": "display_data"
    }
   ],
   "source": [
    "figfi = plt.figure(num = 2, figsize=(16/2.54,10/2.54))\n",
    "axfi = figfi.add_subplot(111)\n",
    "\n",
    "axfi.plot(xLista,fiLista)\n",
    "\n",
    "plt.xlabel(r\"$x \\, \\left[\\mathrm{m}\\right]$\")\n",
    "plt.ylabel(r\"$\\varphi \\, \\left[\\mathrm{rad}\\right]$\")\n",
    "\n",
    "plt.grid()\n",
    "plt.legend()\n",
    "plt.show()"
   ]
  },
  {
   "cell_type": "code",
   "execution_count": 154,
   "metadata": {
    "collapsed": true
   },
   "outputs": [],
   "source": [
    "Mh1Lista = [-I1*E1*np.dot(Bvfgv(xi,a),UG[elemSZF[0]]) for xi in xiLista]\n",
    "Mh2Lista = [-I2*E2*np.dot(Bvfgv(xi,b),UG[elemSZF[1]]) for xi in xiLista]\n",
    "MhLista = np.concatenate((Mh1Lista,Mh2Lista))"
   ]
  },
  {
   "cell_type": "code",
   "execution_count": 155,
   "metadata": {
    "scrolled": true
   },
   "outputs": [
    {
     "data": {
      "image/png": "[encoded data removed]",
      "text/plain": [
       "<matplotlib.figure.Figure at 0x190bcbcd898>"
      ]
     },
     "metadata": {},
     "output_type": "display_data"
    }
   ],
   "source": [
    "figMh = plt.figure(num = 3, figsize=(16/2.54,10/2.54))\n",
    "axMh = figMh.add_subplot(111)\n",
    "\n",
    "axMh.plot(xLista,MhLista)\n",
    "\n",
    "plt.xlabel(r\"$x \\, \\left[\\mathrm{m}\\right]$\")\n",
    "plt.ylabel(r\"$M_h \\, \\left[\\mathrm{Nm}\\right]$\")\n",
    "\n",
    "plt.grid()\n",
    "plt.legend()\n",
    "plt.show()"
   ]
  },
  {
   "cell_type": "code",
   "execution_count": 156,
   "metadata": {
    "collapsed": true
   },
   "outputs": [],
   "source": [
    "V1Lista = [I1*E1*np.dot(dddNvfgv(xi,a),UG[elemSZF[0]]) for xi in xiLista]\n",
    "V2Lista = [I2*E2*np.dot(dddNvfgv(xi,b),UG[elemSZF[1]]) for xi in xiLista]\n",
    "VLista = np.concatenate((V1Lista,V2Lista))"
   ]
  },
  {
   "cell_type": "code",
   "execution_count": 157,
   "metadata": {},
   "outputs": [
    {
     "data": {
      "image/png": "[encoded data removed]",
      "text/plain": [
       "<matplotlib.figure.Figure at 0x190bcd44358>"
      ]
     },
     "metadata": {},
     "output_type": "display_data"
    }
   ],
   "source": [
    "figV = plt.figure(num = 4, figsize=(16/2.54,10/2.54))\n",
    "axV = figV.add_subplot(111)\n",
    "\n",
    "axV.plot(xLista,VLista)\n",
    "\n",
    "plt.xlabel(r\"$x \\, \\left[\\mathrm{m}\\right]$\")\n",
    "plt.ylabel(r\"$V \\, \\left[\\mathrm{N}\\right]$\")\n",
    "\n",
    "plt.grid()\n",
    "plt.legend()\n",
    "plt.show()"
   ]
  }
 ],
 "metadata": {
  "kernelspec": {
   "display_name": "Python 3",
   "language": "python",
   "name": "python3"
  },
  "language_info": {
   "codemirror_mode": {
    "name": "ipython",
    "version": 3
   },
   "file_extension": ".py",
   "mimetype": "text/x-python",
   "name": "python",
   "nbconvert_exporter": "python",
   "pygments_lexer": "ipython3",
   "version": "3.6.3"
  }
 },
 "nbformat": 4,
 "nbformat_minor": 2
}
