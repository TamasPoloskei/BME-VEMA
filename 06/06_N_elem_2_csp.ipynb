{
 "cells": [
  {
   "cell_type": "markdown",
   "metadata": {},
   "source": [
    "Határozzuk meg az alábbi ábrán látható tartó súlypontvonalának eltolódását leíró $v\\left(x\\right)$ függvényt végeselemes módszer használatával, síkbeli egyenes gerendalemek alkalmazásával.\n",
    "Vizsgáljuk meg a végeselemes megoldással kapott hajlítónyomatéki igénybevétel hibáját az egyes szakaszokon.\n",
    "Határozzuk meg az $x = a/2$ keresztmetszetben a hajlítónyomatéki igénybevétel nagyságát 2, illetve 3 síkbeli egyenes gerendaelem alkalmazásával.\n",
    "A tartók két különböző átmérőjű ($d_1 = 2d$, illetve $d_2 = d$) kör keresztmetszetű tartókból\n",
    "vannak összeépítve.\n",
    "A tartók anyaga lineárisan rugalmas, homogén, izotrop. A $d_1$ átmérőjű rész rugalmassági modulusza $E$, míg a $d_2$ átmérővel rendelkező részé $4E$."
   ]
  },
  {
   "cell_type": "code",
   "execution_count": 1,
   "metadata": {
    "collapsed": true
   },
   "outputs": [],
   "source": [
    "import sympy as sp\n",
    "import numpy as np\n",
    "import matplotlib as mpl\n",
    "import matplotlib.pyplot as plt\n",
    "\n",
    "sp.init_printing()"
   ]
  },
  {
   "cell_type": "code",
   "execution_count": 2,
   "metadata": {
    "collapsed": true
   },
   "outputs": [],
   "source": [
    "p, xi, L, I, E = sp.symbols(\"p, xi L I E\")"
   ]
  },
  {
   "cell_type": "code",
   "execution_count": 3,
   "metadata": {},
   "outputs": [
    {
     "data": {
      "image/png": "[encoded data removed]",
      "text/latex": [
       "$$\\left[\\begin{matrix}0.25 \\left(- \\xi + 1\\right)^{2} \\left(\\xi + 2\\right)\\\\0.125 L \\left(- \\xi + 1\\right)^{2} \\left(\\xi + 1\\right)\\\\0.25 \\left(- \\xi + 2\\right) \\left(\\xi + 1\\right)^{2}\\\\0.125 L \\left(\\xi - 1\\right) \\left(\\xi + 1\\right)^{2}\\end{matrix}\\right]$$"
      ],
      "text/plain": [
       "⎡              2          ⎤\n",
       "⎢ 0.25⋅(-ξ + 1) ⋅(ξ + 2)  ⎥\n",
       "⎢                         ⎥\n",
       "⎢                2        ⎥\n",
       "⎢0.125⋅L⋅(-ξ + 1) ⋅(ξ + 1)⎥\n",
       "⎢                         ⎥\n",
       "⎢                      2  ⎥\n",
       "⎢ 0.25⋅(-ξ + 2)⋅(ξ + 1)   ⎥\n",
       "⎢                         ⎥\n",
       "⎢                       2 ⎥\n",
       "⎣0.125⋅L⋅(ξ - 1)⋅(ξ + 1)  ⎦"
      ]
     },
     "execution_count": 3,
     "metadata": {},
     "output_type": "execute_result"
    }
   ],
   "source": [
    "Nv = 1/8*sp.Matrix([2*(1-xi)**2*(2+xi),\n",
    "                 L*(1-xi)**2*(1+xi),\n",
    "                 2*(1+xi)**2*(2-xi),\n",
    "                 L*(1+xi)**2*(xi-1)])\n",
    "Nv"
   ]
  },
  {
   "cell_type": "code",
   "execution_count": 4,
   "metadata": {},
   "outputs": [
    {
     "data": {
      "image/png": "[encoded data removed]",
      "text/latex": [
       "$$\\left[\\begin{matrix}1.5 \\xi^{2} - 1.5\\\\L \\left(0.75 \\xi + 0.25\\right) \\left(\\xi - 1\\right)\\\\- 1.5 \\xi^{2} + 1.5\\\\L \\left(0.75 \\xi - 0.25\\right) \\left(\\xi + 1\\right)\\end{matrix}\\right]$$"
      ],
      "text/plain": [
       "⎡           2             ⎤\n",
       "⎢      1.5⋅ξ  - 1.5       ⎥\n",
       "⎢                         ⎥\n",
       "⎢L⋅(0.75⋅ξ + 0.25)⋅(ξ - 1)⎥\n",
       "⎢                         ⎥\n",
       "⎢            2            ⎥\n",
       "⎢     - 1.5⋅ξ  + 1.5      ⎥\n",
       "⎢                         ⎥\n",
       "⎣L⋅(0.75⋅ξ - 0.25)⋅(ξ + 1)⎦"
      ]
     },
     "execution_count": 4,
     "metadata": {},
     "output_type": "execute_result"
    }
   ],
   "source": [
    "Nfi=sp.diff(Nv,xi)*(2/L)\n",
    "sp.simplify((1/L)**(-1)*Nfi)"
   ]
  },
  {
   "cell_type": "code",
   "execution_count": 5,
   "metadata": {
    "scrolled": false
   },
   "outputs": [
    {
     "data": {
      "image/png": "[encoded data removed]",
      "text/latex": [
       "$$\\left[\\begin{matrix}6.0 \\xi\\\\L \\left(3.0 \\xi - 1.0\\right)\\\\- 6.0 \\xi\\\\L \\left(3.0 \\xi + 1.0\\right)\\end{matrix}\\right]$$"
      ],
      "text/plain": [
       "⎡     6.0⋅ξ     ⎤\n",
       "⎢               ⎥\n",
       "⎢L⋅(3.0⋅ξ - 1.0)⎥\n",
       "⎢               ⎥\n",
       "⎢    -6.0⋅ξ     ⎥\n",
       "⎢               ⎥\n",
       "⎣L⋅(3.0⋅ξ + 1.0)⎦"
      ]
     },
     "execution_count": 5,
     "metadata": {},
     "output_type": "execute_result"
    }
   ],
   "source": [
    "Bv=sp.diff(Nv,xi,2)*(2/L)**2\n",
    "sp.simplify((1/L**2)**(-1)*Bv)"
   ]
  },
  {
   "cell_type": "code",
   "execution_count": 6,
   "metadata": {},
   "outputs": [
    {
     "data": {
      "image/png": "[encoded data removed]",
      "text/latex": [
       "$$\\left[\\begin{matrix}\\frac{12.0}{L^{3}}\\\\\\frac{6.0}{L^{2}}\\\\- \\frac{12.0}{L^{3}}\\\\\\frac{6.0}{L^{2}}\\end{matrix}\\right]$$"
      ],
      "text/plain": [
       "⎡ 12.0 ⎤\n",
       "⎢ ──── ⎥\n",
       "⎢   3  ⎥\n",
       "⎢  L   ⎥\n",
       "⎢      ⎥\n",
       "⎢ 6.0  ⎥\n",
       "⎢ ───  ⎥\n",
       "⎢   2  ⎥\n",
       "⎢  L   ⎥\n",
       "⎢      ⎥\n",
       "⎢-12.0 ⎥\n",
       "⎢──────⎥\n",
       "⎢   3  ⎥\n",
       "⎢  L   ⎥\n",
       "⎢      ⎥\n",
       "⎢ 6.0  ⎥\n",
       "⎢ ───  ⎥\n",
       "⎢   2  ⎥\n",
       "⎣  L   ⎦"
      ]
     },
     "execution_count": 6,
     "metadata": {},
     "output_type": "execute_result"
    }
   ],
   "source": [
    "sp.diff(Bv,xi)*2/L"
   ]
  },
  {
   "cell_type": "code",
   "execution_count": 7,
   "metadata": {},
   "outputs": [
    {
     "data": {
      "image/png": "[encoded data removed]",
      "text/latex": [
       "$$\\left[\\begin{matrix}12.0 & 6.0 L & -12.0 & 6.0 L\\\\6.0 L & 4.0 L^{2} & - 6.0 L & 2.0 L^{2}\\\\-12.0 & - 6.0 L & 12.0 & - 6.0 L\\\\6.0 L & 2.0 L^{2} & - 6.0 L & 4.0 L^{2}\\end{matrix}\\right]$$"
      ],
      "text/plain": [
       "⎡12.0   6.0⋅L   -12.0   6.0⋅L ⎤\n",
       "⎢                             ⎥\n",
       "⎢            2               2⎥\n",
       "⎢6.0⋅L  4.0⋅L   -6.0⋅L  2.0⋅L ⎥\n",
       "⎢                             ⎥\n",
       "⎢-12.0  -6.0⋅L   12.0   -6.0⋅L⎥\n",
       "⎢                             ⎥\n",
       "⎢            2               2⎥\n",
       "⎣6.0⋅L  2.0⋅L   -6.0⋅L  4.0⋅L ⎦"
      ]
     },
     "execution_count": 7,
     "metadata": {},
     "output_type": "execute_result"
    }
   ],
   "source": [
    "KeBEAM1D = I*E*sp.integrate(Bv*(Bv.T),(xi,-1,1))*L/2\n",
    "(I*E/L**3)**(-1)*KeBEAM1D"
   ]
  },
  {
   "cell_type": "code",
   "execution_count": 8,
   "metadata": {},
   "outputs": [
    {
     "data": {
      "image/png": "[encoded data removed]",
      "text/latex": [
       "$$\\left[\\begin{matrix}6.0\\\\1.0 L\\\\6.0\\\\- 1.0 L\\end{matrix}\\right]$$"
      ],
      "text/plain": [
       "⎡ 6.0  ⎤\n",
       "⎢      ⎥\n",
       "⎢1.0⋅L ⎥\n",
       "⎢      ⎥\n",
       "⎢ 6.0  ⎥\n",
       "⎢      ⎥\n",
       "⎣-1.0⋅L⎦"
      ]
     },
     "execution_count": 8,
     "metadata": {},
     "output_type": "execute_result"
    }
   ],
   "source": [
    "Fp = p*sp.integrate(Nv,(xi,-1,1))*L/2\n",
    "(L*p/12)**(-1)*Fp"
   ]
  },
  {
   "cell_type": "code",
   "execution_count": 9,
   "metadata": {
    "collapsed": true
   },
   "outputs": [],
   "source": [
    "def Bvfgv(xi,L):\n",
    "    return np.multiply(1/L**2,np.array([6*xi, L*(3*xi-1),-6*xi,L*(3*xi+1)]))"
   ]
  },
  {
   "cell_type": "code",
   "execution_count": 10,
   "metadata": {
    "collapsed": true
   },
   "outputs": [],
   "source": [
    "def Nvfgv(xi,L):\n",
    "    return np.array([1/4*(1-xi)**2*(2+xi),\n",
    "                 L/8*(1-xi)**2*(1+xi),\n",
    "                 1/4*(1+xi)**2*(2-xi),\n",
    "                 L/8*(1+xi)**2*(xi-1)])"
   ]
  },
  {
   "cell_type": "code",
   "execution_count": 11,
   "metadata": {
    "collapsed": true
   },
   "outputs": [],
   "source": [
    "def dddNvfgv(xi,L):\n",
    "    return np.multiply(1/L**3,np.array([12, 6*L, -12, 6*L]))"
   ]
  },
  {
   "cell_type": "code",
   "execution_count": 12,
   "metadata": {
    "collapsed": true
   },
   "outputs": [],
   "source": [
    "def Nfifgv(xi,L):\n",
    "    return np.multiply(1/L,np.array([1.5*xi**2-1.5,\n",
    "                     L*(0.75*xi+0.25)*(xi-1),\n",
    "                     -1.5*xi**2+1.5,\n",
    "                     L*(0.75*xi-0.25)*(xi+1)]))"
   ]
  },
  {
   "cell_type": "code",
   "execution_count": 13,
   "metadata": {
    "collapsed": true
   },
   "outputs": [],
   "source": [
    "def KeBEAM1D(I,E,L):\n",
    "    return np.multiply(I*E/L**3, np.array([[12,   6*L,    -12,  6*L],\n",
    "                                           [6*L,  4*L**2, -6*L, 2*L**2],\n",
    "                                           [-12,  -6*L,    12,  -6*L],\n",
    "                                           [6*L, 2*L**2, -6*L, 4*L**2]]))"
   ]
  },
  {
   "cell_type": "code",
   "execution_count": 14,
   "metadata": {
    "collapsed": true
   },
   "outputs": [],
   "source": [
    "def Fp(p,L):\n",
    "    return np.multiply(L*p/12,np.array([6,L,6,-L]))"
   ]
  },
  {
   "cell_type": "code",
   "execution_count": 15,
   "metadata": {
    "collapsed": true
   },
   "outputs": [],
   "source": [
    "Ne1 = 2\n",
    "Ne2 = 1\n",
    "a=800e-3\n",
    "b=400e-3\n",
    "d=20e-3\n",
    "E=50e9\n",
    "nu=0.3\n",
    "F1=2500\n",
    "M1=-500\n",
    "p0=-5000"
   ]
  },
  {
   "cell_type": "code",
   "execution_count": 16,
   "metadata": {
    "collapsed": true
   },
   "outputs": [],
   "source": [
    "I1 = (2*d)**4*np.pi/64\n",
    "I2 = (d)**4*np.pi/64\n",
    "E1 = E\n",
    "E2 = 4*E\n",
    "Ke1 = KeBEAM1D(I1,E1,a/Ne1)\n",
    "Ke2 = KeBEAM1D(I2,E2,b/Ne2)"
   ]
  },
  {
   "cell_type": "code",
   "execution_count": 17,
   "metadata": {},
   "outputs": [
    {
     "data": {
      "text/plain": [
       "[array([0, 1, 2, 3]), array([2, 3, 4, 5])]"
      ]
     },
     "execution_count": 17,
     "metadata": {},
     "output_type": "execute_result"
    }
   ],
   "source": [
    "elemSZF1 = [np.arange(2*i,2*(i+2)) for i in np.arange(Ne1)]\n",
    "elemSZF1"
   ]
  },
  {
   "cell_type": "code",
   "execution_count": 18,
   "metadata": {},
   "outputs": [
    {
     "data": {
      "text/plain": [
       "[array([4, 5, 6, 7])]"
      ]
     },
     "execution_count": 18,
     "metadata": {},
     "output_type": "execute_result"
    }
   ],
   "source": [
    "elemSZF2 = [np.arange(2*i,2*(i+2)) for i in np.arange(Ne1,Ne1+Ne2)]\n",
    "elemSZF2"
   ]
  },
  {
   "cell_type": "code",
   "execution_count": 19,
   "metadata": {
    "collapsed": true
   },
   "outputs": [],
   "source": [
    "KG=np.zeros((2*(Ne1+Ne2+1),2*(Ne1+Ne2+1)))\n",
    "\n",
    "for eind in range(Ne1):\n",
    "    KG[np.ix_(elemSZF1[eind],elemSZF1[eind])]+=Ke1\n",
    "\n",
    "for eind in range(Ne2):\n",
    "    KG[np.ix_(elemSZF2[eind],elemSZF2[eind])]+=Ke2"
   ]
  },
  {
   "cell_type": "code",
   "execution_count": 20,
   "metadata": {
    "collapsed": true,
    "scrolled": true
   },
   "outputs": [],
   "source": [
    "FG=np.zeros(2*(Ne1+Ne2+1))\n",
    "for eind in range(Ne1):\n",
    "    FG[elemSZF1[eind]] += Fp(p0,a/Ne1)\n",
    "FG[elemSZF1[-1][2]] += F1\n",
    "FG[elemSZF2[-1][3]] += M1"
   ]
  },
  {
   "cell_type": "code",
   "execution_count": 21,
   "metadata": {
    "collapsed": true
   },
   "outputs": [],
   "source": [
    "fixSZF=np.array([0,1,elemSZF2[-1][2]])"
   ]
  },
  {
   "cell_type": "code",
   "execution_count": 22,
   "metadata": {},
   "outputs": [
    {
     "data": {
      "image/png": "[encoded data removed]",
      "text/latex": [
       "$$\\left [ 2, \\quad 3, \\quad 4, \\quad 5, \\quad 7\\right ]$$"
      ],
      "text/plain": [
       "[2, 3, 4, 5, 7]"
      ]
     },
     "execution_count": 22,
     "metadata": {},
     "output_type": "execute_result"
    }
   ],
   "source": [
    "szabadSZF=[i for i in range(0,2*(Ne1+Ne2+1)) if i not in fixSZF]\n",
    "szabadSZF"
   ]
  },
  {
   "cell_type": "code",
   "execution_count": 23,
   "metadata": {
    "collapsed": true
   },
   "outputs": [],
   "source": [
    "KGkond = KG[np.ix_(szabadSZF,szabadSZF)]"
   ]
  },
  {
   "cell_type": "code",
   "execution_count": 24,
   "metadata": {
    "collapsed": true
   },
   "outputs": [],
   "source": [
    "FGkond = FG[np.ix_(szabadSZF)]"
   ]
  },
  {
   "cell_type": "code",
   "execution_count": 25,
   "metadata": {},
   "outputs": [
    {
     "data": {
      "text/plain": [
       "array([ 0.00381972,  0.02015963,  0.01358122,  0.02122066, -0.0933709 ])"
      ]
     },
     "execution_count": 25,
     "metadata": {},
     "output_type": "execute_result"
    }
   ],
   "source": [
    "Umego = np.linalg.solve(KGkond,FGkond)\n",
    "Umego"
   ]
  },
  {
   "cell_type": "code",
   "execution_count": 26,
   "metadata": {},
   "outputs": [
    {
     "data": {
      "text/plain": [
       "array([ 0.        ,  0.        ,  0.00381972,  0.02015963,  0.01358122,\n",
       "        0.02122066,  0.        , -0.0933709 ])"
      ]
     },
     "execution_count": 26,
     "metadata": {},
     "output_type": "execute_result"
    }
   ],
   "source": [
    "UG = np.zeros(2*(Ne1+Ne2+1))\n",
    "UG[np.ix_(szabadSZF)] += Umego\n",
    "UG"
   ]
  },
  {
   "cell_type": "code",
   "execution_count": 27,
   "metadata": {},
   "outputs": [
    {
     "data": {
      "text/plain": [
       "array([  1.25000000e+03,  -2.00000000e+02,   0.00000000e+00,\n",
       "         9.09494702e-13,   0.00000000e+00,   5.25801624e-13,\n",
       "         2.50000000e+02,   0.00000000e+00])"
      ]
     },
     "execution_count": 27,
     "metadata": {},
     "output_type": "execute_result"
    }
   ],
   "source": [
    "FR = np.dot(KG,UG)-FG\n",
    "FR"
   ]
  },
  {
   "cell_type": "markdown",
   "metadata": {
    "collapsed": true
   },
   "source": [
    "# Eredmények ábrázolása"
   ]
  },
  {
   "cell_type": "code",
   "execution_count": 28,
   "metadata": {
    "collapsed": true
   },
   "outputs": [],
   "source": [
    "xiLista = np.linspace(-1,1,num = 10)\n",
    "cspxKRD1=[[0 + i*a/Ne1,0 + (i+1)*a/Ne1] for i in range(Ne1)]\n",
    "cspxKRD2=[[a + i*b/Ne2,a + (i+1)*b/Ne2] for i in range(Ne2)]"
   ]
  },
  {
   "cell_type": "code",
   "execution_count": 29,
   "metadata": {
    "collapsed": true
   },
   "outputs": [],
   "source": [
    "x1Lista=[(cspxKRD1[eind][1]-cspxKRD1[eind][0])/2*(xi+1) + cspxKRD1[eind][0] for eind in range(Ne1) for xi in xiLista]\n",
    "x2Lista=[(cspxKRD2[eind][1]-cspxKRD2[eind][0])/2*(xi+1) + cspxKRD2[eind][0] for eind in range(Ne2) for xi in xiLista]\n",
    "xLista = np.concatenate((x1Lista,x2Lista))"
   ]
  },
  {
   "cell_type": "code",
   "execution_count": 30,
   "metadata": {
    "collapsed": true
   },
   "outputs": [],
   "source": [
    "v1Lista = [np.dot(Nvfgv(xi,a/Ne1), UG[elemSZF1[eind]]) for eind in range(Ne1) for xi in xiLista]\n",
    "v2Lista = [np.dot(Nvfgv(xi,b/Ne2), UG[elemSZF2[eind]]) for eind in range(Ne2) for xi in xiLista]\n",
    "vLista = np.concatenate((v1Lista,v2Lista))"
   ]
  },
  {
   "cell_type": "code",
   "execution_count": 31,
   "metadata": {},
   "outputs": [
    {
     "data": {
      "image/png": "[encoded data removed]",
      "text/plain": [
       "<matplotlib.figure.Figure at 0x26eb72e98d0>"
      ]
     },
     "metadata": {},
     "output_type": "display_data"
    }
   ],
   "source": [
    "figv = plt.figure(num = 1, figsize=(16/2.54,10/2.54))\n",
    "axv = figv.add_subplot(111)\n",
    "\n",
    "axv.plot(xLista,vLista)\n",
    "\n",
    "plt.xlabel(r\"$x \\, \\left[\\mathrm{m}\\right]$\")\n",
    "plt.ylabel(r\"$v \\, \\left[\\mathrm{m}\\right]$\")\n",
    "\n",
    "plt.grid()\n",
    "plt.legend()\n",
    "plt.show()"
   ]
  },
  {
   "cell_type": "code",
   "execution_count": 32,
   "metadata": {
    "collapsed": true
   },
   "outputs": [],
   "source": [
    "fi1Lista = [np.dot(Nfifgv(xi,a/Ne1),UG[elemSZF1[eind]]) for eind in range(Ne1) for xi in xiLista]\n",
    "fi2Lista = [np.dot(Nfifgv(xi,b/Ne2),UG[elemSZF2[eind]]) for eind in range(Ne2) for xi in xiLista]\n",
    "fiLista = np.concatenate((fi1Lista,fi2Lista))"
   ]
  },
  {
   "cell_type": "code",
   "execution_count": 33,
   "metadata": {},
   "outputs": [
    {
     "data": {
      "image/png": "[encoded data removed]",
      "text/plain": [
       "<matplotlib.figure.Figure at 0x26eba7c0fd0>"
      ]
     },
     "metadata": {},
     "output_type": "display_data"
    }
   ],
   "source": [
    "figfi = plt.figure(num = 2, figsize=(16/2.54,10/2.54))\n",
    "axfi = figfi.add_subplot(111)\n",
    "\n",
    "axfi.plot(xLista,fiLista)\n",
    "\n",
    "plt.xlabel(r\"$x \\, \\left[\\mathrm{m}\\right]$\")\n",
    "plt.ylabel(r\"$\\varphi \\, \\left[\\mathrm{rad}\\right]$\")\n",
    "\n",
    "plt.grid()\n",
    "plt.legend()\n",
    "plt.show()"
   ]
  },
  {
   "cell_type": "code",
   "execution_count": 34,
   "metadata": {
    "collapsed": true
   },
   "outputs": [],
   "source": [
    "Mh1Lista = [-I1*E1*np.dot(Bvfgv(xi,a/Ne1),UG[elemSZF1[eind]]) for eind in range(Ne1) for xi in xiLista]\n",
    "Mh2Lista = [-I2*E2*np.dot(Bvfgv(xi,b/Ne2),UG[elemSZF2[eind]]) for eind in range(Ne2) for xi in xiLista]\n",
    "MhLista = np.concatenate((Mh1Lista,Mh2Lista))"
   ]
  },
  {
   "cell_type": "code",
   "execution_count": 35,
   "metadata": {},
   "outputs": [
    {
     "data": {
      "image/png": "[encoded data removed]",
      "text/plain": [
       "<matplotlib.figure.Figure at 0x26ebab65dd8>"
      ]
     },
     "metadata": {},
     "output_type": "display_data"
    }
   ],
   "source": [
    "figMh = plt.figure(num = 3, figsize=(16/2.54,10/2.54))\n",
    "axMh = figMh.add_subplot(111)\n",
    "\n",
    "axMh.plot(xLista,MhLista)\n",
    "\n",
    "plt.xlabel(r\"$x \\, \\left[\\mathrm{m}\\right]$\")\n",
    "plt.ylabel(r\"$M_h \\, \\left[\\mathrm{Nm}\\right]$\")\n",
    "\n",
    "plt.grid()\n",
    "plt.legend()\n",
    "plt.show()"
   ]
  },
  {
   "cell_type": "code",
   "execution_count": 36,
   "metadata": {
    "collapsed": true
   },
   "outputs": [],
   "source": [
    "V1Lista = [I1*E1*np.dot(dddNvfgv(xi,a/Ne1),UG[elemSZF1[eind]]) for eind in range(Ne1) for xi in xiLista]\n",
    "V2Lista = [I2*E2*np.dot(dddNvfgv(xi,b/Ne2),UG[elemSZF2[eind]]) for eind in range(Ne2) for xi in xiLista]\n",
    "VLista = np.concatenate((V1Lista,V2Lista))"
   ]
  },
  {
   "cell_type": "code",
   "execution_count": 37,
   "metadata": {},
   "outputs": [
    {
     "data": {
      "image/png": "[encoded data removed]",
      "text/plain": [
       "<matplotlib.figure.Figure at 0x26eba5dd3c8>"
      ]
     },
     "metadata": {},
     "output_type": "display_data"
    }
   ],
   "source": [
    "figV = plt.figure(num = 4, figsize=(16/2.54,10/2.54))\n",
    "axV = figV.add_subplot(111)\n",
    "\n",
    "axV.plot(xLista,VLista)\n",
    "\n",
    "plt.xlabel(r\"$x \\, \\left[\\mathrm{m}\\right]$\")\n",
    "plt.ylabel(r\"$V \\, \\left[\\mathrm{N}\\right]$\")\n",
    "\n",
    "plt.grid()\n",
    "plt.legend()\n",
    "plt.show()"
   ]
  }
 ],
 "metadata": {
  "kernelspec": {
   "display_name": "Python 3",
   "language": "python",
   "name": "python3"
  },
  "language_info": {
   "codemirror_mode": {
    "name": "ipython",
    "version": 3
   },
   "file_extension": ".py",
   "mimetype": "text/x-python",
   "name": "python",
   "nbconvert_exporter": "python",
   "pygments_lexer": "ipython3",
   "version": "3.6.3"
  }
 },
 "nbformat": 4,
 "nbformat_minor": 2
}
