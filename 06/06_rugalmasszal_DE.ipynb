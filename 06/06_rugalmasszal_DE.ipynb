{
 "cells": [
  {
   "cell_type": "markdown",
   "metadata": {},
   "source": [
    "Határozzuk meg az alábbi ábrán látható tartó súlypontvonalának eltolódását leíró $v\\left(x\\right)$ függvényt végeselemes módszer használatával, síkbeli egyenes gerendalemek alkalmazásával.\n",
    "Vizsgáljuk meg a végeselemes megoldással kapott hajlítónyomatéki igénybevétel hibáját az egyes szakaszokon.\n",
    "Határozzuk meg az $x = a/2$ keresztmetszetben a hajlítónyomatéki igénybevétel nagyságát 2, illetve 3 síkbeli egyenes gerendaelem alkalmazásával.\n",
    "A tartók két különböző átmérőjű ($d_1 = 2d$, illetve $d_2 = d$) kör keresztmetszetű tartókból\n",
    "vannak összeépítve.\n",
    "A tartók anyaga lineárisan rugalmas, homogén, izotrop. A $d_1$ átmérőjű rész rugalmassági modulusza $E$, míg a $d_2$ átmérővel rendelkező részé $4E$."
   ]
  },
  {
   "cell_type": "markdown",
   "metadata": {},
   "source": [
    "# Analitikus megoldás rugalmasszál DE. alapján"
   ]
  },
  {
   "cell_type": "code",
   "execution_count": 212,
   "metadata": {
    "collapsed": true
   },
   "outputs": [],
   "source": [
    "import sympy as sp\n",
    "import numpy as np\n",
    "import matplotlib as mpl\n",
    "import matplotlib.pyplot as plt\n",
    "\n",
    "sp.init_printing()"
   ]
  },
  {
   "cell_type": "code",
   "execution_count": 2,
   "metadata": {},
   "outputs": [
    {
     "ename": "NameError",
     "evalue": "name 'sp' is not defined",
     "output_type": "error",
     "traceback": [
      "\u001b[1;31m---------------------------------------------------------------------------\u001b[0m",
      "\u001b[1;31mNameError\u001b[0m                                 Traceback (most recent call last)",
      "\u001b[1;32m<ipython-input-2-62be1a7dcc5a>\u001b[0m in \u001b[0;36m<module>\u001b[1;34m()\u001b[0m\n\u001b[1;32m----> 1\u001b[1;33m \u001b[0mMA\u001b[0m\u001b[1;33m,\u001b[0m \u001b[0mAx\u001b[0m\u001b[1;33m,\u001b[0m \u001b[0mAy\u001b[0m\u001b[1;33m,\u001b[0m \u001b[0mBy\u001b[0m \u001b[1;33m=\u001b[0m \u001b[0msp\u001b[0m\u001b[1;33m.\u001b[0m\u001b[0msymbols\u001b[0m\u001b[1;33m(\u001b[0m\u001b[1;34m\"M_A, A_x, A_y, B_y\"\u001b[0m\u001b[1;33m)\u001b[0m\u001b[1;33m\u001b[0m\u001b[0m\n\u001b[0m\u001b[0;32m      2\u001b[0m \u001b[0mp0\u001b[0m\u001b[1;33m,\u001b[0m \u001b[0mF1\u001b[0m\u001b[1;33m,\u001b[0m \u001b[0mM1\u001b[0m\u001b[1;33m,\u001b[0m \u001b[1;33m=\u001b[0m \u001b[0msp\u001b[0m\u001b[1;33m.\u001b[0m\u001b[0msymbols\u001b[0m\u001b[1;33m(\u001b[0m\u001b[1;34m\"p_0, F_1, M_1\"\u001b[0m\u001b[1;33m)\u001b[0m\u001b[1;33m\u001b[0m\u001b[0m\n\u001b[0;32m      3\u001b[0m \u001b[0mI\u001b[0m\u001b[1;33m,\u001b[0m \u001b[0mI1\u001b[0m\u001b[1;33m,\u001b[0m \u001b[0mI2\u001b[0m\u001b[1;33m,\u001b[0m \u001b[0mE\u001b[0m\u001b[1;33m,\u001b[0m \u001b[0mE1\u001b[0m\u001b[1;33m,\u001b[0m \u001b[0mE2\u001b[0m\u001b[1;33m,\u001b[0m \u001b[0ma\u001b[0m\u001b[1;33m,\u001b[0m \u001b[0mb\u001b[0m\u001b[1;33m,\u001b[0m \u001b[0md\u001b[0m\u001b[1;33m,\u001b[0m \u001b[0mx\u001b[0m \u001b[1;33m=\u001b[0m \u001b[0msp\u001b[0m\u001b[1;33m.\u001b[0m\u001b[0msymbols\u001b[0m\u001b[1;33m(\u001b[0m\u001b[1;34m\"I, I_1, I_2, E, E_1, E_2, a, b, d, x\"\u001b[0m\u001b[1;33m)\u001b[0m\u001b[1;33m\u001b[0m\u001b[0m\n\u001b[0;32m      4\u001b[0m \u001b[0ma\u001b[0m\u001b[1;33m,\u001b[0m \u001b[0mb\u001b[0m\u001b[1;33m,\u001b[0m \u001b[0md\u001b[0m\u001b[1;33m,\u001b[0m \u001b[0mx\u001b[0m \u001b[1;33m=\u001b[0m \u001b[0msp\u001b[0m\u001b[1;33m.\u001b[0m\u001b[0msymbols\u001b[0m\u001b[1;33m(\u001b[0m\u001b[1;34m\"a, b, d, x\"\u001b[0m\u001b[1;33m)\u001b[0m\u001b[1;33m\u001b[0m\u001b[0m\n",
      "\u001b[1;31mNameError\u001b[0m: name 'sp' is not defined"
     ]
    }
   ],
   "source": [
    "MA, Ax, Ay, By = sp.symbols(\"M_A, A_x, A_y, B_y\")\n",
    "p0, F1, M1, = sp.symbols(\"p_0, F_1, M_1\")\n",
    "I, I1, I2, E, E1, E2, a, b, d, x = sp.symbols(\"I, I_1, I_2, E, E_1, E_2, a, b, d, x\")\n",
    "a, b, d, x = sp.symbols(\"a, b, d, x\")"
   ]
  },
  {
   "cell_type": "code",
   "execution_count": 214,
   "metadata": {},
   "outputs": [
    {
     "data": {
      "image/png": "[encoded data removed]",
      "text/latex": [
       "$$- A_{y} x + M_{A} - \\frac{p_{0} x^{2}}{2}$$"
      ],
      "text/plain": [
       "                   2\n",
       "               p₀⋅x \n",
       "-A_y⋅x + M_A - ─────\n",
       "                 2  "
      ]
     },
     "execution_count": 214,
     "metadata": {},
     "output_type": "execute_result"
    }
   ],
   "source": [
    "Mh1 = MA - Ay*x - p0*x**2/2\n",
    "Mh1"
   ]
  },
  {
   "cell_type": "code",
   "execution_count": 215,
   "metadata": {},
   "outputs": [
    {
     "data": {
      "image/png": "[encoded data removed]",
      "text/latex": [
       "$$- A_{y} x - F_{1} \\left(- a + x\\right) + M_{A} - a p_{0} \\left(- \\frac{a}{2} + x\\right)$$"
      ],
      "text/plain": [
       "                                  ⎛  a    ⎞\n",
       "-A_y⋅x - F₁⋅(-a + x) + M_A - a⋅p₀⋅⎜- ─ + x⎟\n",
       "                                  ⎝  2    ⎠"
      ]
     },
     "execution_count": 215,
     "metadata": {},
     "output_type": "execute_result"
    }
   ],
   "source": [
    "Mh2 = MA - Ay*x - p0*a*(x-a/2) - F1*(x-a)\n",
    "Mh2"
   ]
  },
  {
   "cell_type": "code",
   "execution_count": 216,
   "metadata": {
    "collapsed": true
   },
   "outputs": [],
   "source": [
    "c1, c2, c3, c4 = sp.symbols(\"c1, c2, c3, c4\")"
   ]
  },
  {
   "cell_type": "code",
   "execution_count": 217,
   "metadata": {
    "collapsed": true
   },
   "outputs": [],
   "source": [
    "fi1 = sp.integrate(-Mh1/(I1*E1),x) + c1\n",
    "v1 = sp.integrate(fi1,x) + c2"
   ]
  },
  {
   "cell_type": "code",
   "execution_count": 218,
   "metadata": {
    "collapsed": true
   },
   "outputs": [],
   "source": [
    "fi2 = sp.integrate(-Mh2/(I2*E2),x) + c3\n",
    "v2 = sp.integrate(fi2,x) + c4"
   ]
  },
  {
   "cell_type": "code",
   "execution_count": 219,
   "metadata": {
    "collapsed": true
   },
   "outputs": [],
   "source": [
    "statFx = Ax\n",
    "statFy = Ay + p0*a + F1 + By\n",
    "statMz = MA + p0*a**2/2 + F1*a + M1 + By*(a+b)"
   ]
  },
  {
   "cell_type": "code",
   "execution_count": 220,
   "metadata": {
    "collapsed": true
   },
   "outputs": [],
   "source": [
    "pf1 = fi1.subs([(x,0)])\n",
    "pf2 = v1.subs([(x,0)])\n",
    "pf3 = v2.subs([(x,a+b)])\n",
    "\n",
    "if1 = (fi1 - fi2).subs([(x,a)])\n",
    "if2 = (v1 - v2).subs([(x,a)])"
   ]
  },
  {
   "cell_type": "code",
   "execution_count": 221,
   "metadata": {
    "collapsed": true
   },
   "outputs": [],
   "source": [
    "mego = sp.solve([statFx,statFy,statMz,pf1,pf2,pf3,if1,if2],[MA,Ax,Ay,By,c1,c2,c3,c4])"
   ]
  },
  {
   "cell_type": "code",
   "execution_count": 222,
   "metadata": {
    "collapsed": true
   },
   "outputs": [],
   "source": [
    "adat=[(a,800e-3),(b,400e-3),(d,20e-3),(E,50e9),(F1,2500),(M1,-500),(p0,-5000)]\n",
    "adat2 = [(E1,E),(E2,4*E),(I1, (2*d)**4*np.pi/64), (I2, (d)**4*np.pi/64)]"
   ]
  },
  {
   "cell_type": "code",
   "execution_count": 223,
   "metadata": {},
   "outputs": [
    {
     "data": {
      "image/png": "[encoded data removed]",
      "text/latex": [
       "$$-200.0$$"
      ],
      "text/plain": [
       "-200.000000000000"
      ]
     },
     "execution_count": 223,
     "metadata": {},
     "output_type": "execute_result"
    }
   ],
   "source": [
    "MA.subs(mego).subs(adat2).subs(adat)"
   ]
  },
  {
   "cell_type": "code",
   "execution_count": 224,
   "metadata": {
    "scrolled": true
   },
   "outputs": [
    {
     "data": {
      "image/png": "[encoded data removed]",
      "text/latex": [
       "$$1250.0$$"
      ],
      "text/plain": [
       "1250.00000000000"
      ]
     },
     "execution_count": 224,
     "metadata": {},
     "output_type": "execute_result"
    }
   ],
   "source": [
    "Ay.subs(mego).subs(adat2).subs(adat)"
   ]
  },
  {
   "cell_type": "code",
   "execution_count": 225,
   "metadata": {},
   "outputs": [
    {
     "data": {
      "image/png": "[encoded data removed]",
      "text/latex": [
       "$$250.0$$"
      ],
      "text/plain": [
       "250.000000000000"
      ]
     },
     "execution_count": 225,
     "metadata": {},
     "output_type": "execute_result"
    }
   ],
   "source": [
    "By.subs(mego).subs(adat2).subs(adat)"
   ]
  },
  {
   "cell_type": "code",
   "execution_count": 226,
   "metadata": {},
   "outputs": [
    {
     "data": {
      "image/png": "[encoded data removed]",
      "text/latex": [
       "$$- 0.0331572798108115 x^{4} + 0.0331572798108115 x^{3} + 0.0159154943091895 x^{2}$$"
      ],
      "text/plain": [
       "                      4                       3                       2\n",
       "- 0.0331572798108115⋅x  + 0.0331572798108115⋅x  + 0.0159154943091895⋅x "
      ]
     },
     "execution_count": 226,
     "metadata": {},
     "output_type": "execute_result"
    }
   ],
   "source": [
    "v1num = sp.lambdify(x,v1.subs(mego).subs(adat2).subs(adat))\n",
    "v1num(x)"
   ]
  },
  {
   "cell_type": "code",
   "execution_count": 227,
   "metadata": {},
   "outputs": [
    {
     "data": {
      "image/png": "[encoded data removed]",
      "text/latex": [
       "$$- 0.0265258238486493 x^{3} - 0.0636619772367581 x^{2} + 0.174009404447139 x - 0.0713014145051691$$"
      ],
      "text/plain": [
       "                      3                       2                               \n",
       "- 0.0265258238486493⋅x  - 0.0636619772367581⋅x  + 0.174009404447139⋅x - 0.0713\n",
       "\n",
       "            \n",
       "014145051691"
      ]
     },
     "execution_count": 227,
     "metadata": {},
     "output_type": "execute_result"
    }
   ],
   "source": [
    "v2num = sp.lambdify(x,v2.subs(mego).subs(adat2).subs(adat))\n",
    "v2num(x)"
   ]
  },
  {
   "cell_type": "code",
   "execution_count": 228,
   "metadata": {},
   "outputs": [
    {
     "data": {
      "image/png": "[encoded data removed]",
      "text/latex": [
       "$$- 0.132629119243246 x^{3} + 0.0994718394324346 x^{2} + 0.031830988618379 x$$"
      ],
      "text/plain": [
       "                     3                       2                      \n",
       "- 0.132629119243246⋅x  + 0.0994718394324346⋅x  + 0.031830988618379⋅x"
      ]
     },
     "execution_count": 228,
     "metadata": {},
     "output_type": "execute_result"
    }
   ],
   "source": [
    "fi1num = sp.lambdify(x,fi1.subs(mego).subs(adat2).subs(adat))\n",
    "fi1num(x)"
   ]
  },
  {
   "cell_type": "code",
   "execution_count": 229,
   "metadata": {},
   "outputs": [
    {
     "data": {
      "image/png": "[encoded data removed]",
      "text/latex": [
       "$$- 0.0795774715459479 x^{2} - 0.127323954473516 x + 0.174009404447139$$"
      ],
      "text/plain": [
       "                      2                                          \n",
       "- 0.0795774715459479⋅x  - 0.127323954473516⋅x + 0.174009404447139"
      ]
     },
     "execution_count": 229,
     "metadata": {},
     "output_type": "execute_result"
    }
   ],
   "source": [
    "fi2num = sp.lambdify(x,fi2.subs(mego).subs(adat2).subs(adat))\n",
    "fi2num(x)"
   ]
  },
  {
   "cell_type": "code",
   "execution_count": 230,
   "metadata": {},
   "outputs": [
    {
     "data": {
      "image/png": "[encoded data removed]",
      "text/latex": [
       "$$2500 x^{2} - 1250.0 x - 200.0$$"
      ],
      "text/plain": [
       "      2                   \n",
       "2500⋅x  - 1250.0⋅x - 200.0"
      ]
     },
     "execution_count": 230,
     "metadata": {},
     "output_type": "execute_result"
    }
   ],
   "source": [
    "Mh1num = sp.lambdify(x,Mh1.subs(mego).subs(adat2).subs(adat))\n",
    "Mh1num(x)"
   ]
  },
  {
   "cell_type": "code",
   "execution_count": 231,
   "metadata": {},
   "outputs": [
    {
     "data": {
      "image/png": "[encoded data removed]",
      "text/latex": [
       "$$250.0 x + 200.0$$"
      ],
      "text/plain": [
       "250.0⋅x + 200.0"
      ]
     },
     "execution_count": 231,
     "metadata": {},
     "output_type": "execute_result"
    }
   ],
   "source": [
    "Mh2num = sp.lambdify(x,Mh2.subs(mego).subs(adat2).subs(adat))\n",
    "Mh2num(x)"
   ]
  },
  {
   "cell_type": "code",
   "execution_count": 232,
   "metadata": {},
   "outputs": [
    {
     "data": {
      "text/plain": [
       "array([ 0.        ,  0.04210526,  0.08421053,  0.12631579,  0.16842105,\n",
       "        0.21052632,  0.25263158,  0.29473684,  0.33684211,  0.37894737,\n",
       "        0.42105263,  0.46315789,  0.50526316,  0.54736842,  0.58947368,\n",
       "        0.63157895,  0.67368421,  0.71578947,  0.75789474,  0.8       ])"
      ]
     },
     "execution_count": 232,
     "metadata": {},
     "output_type": "execute_result"
    }
   ],
   "source": [
    "x1Lista= np.linspace(0,float(a.subs(adat)), num = 20)\n",
    "x1Lista"
   ]
  },
  {
   "cell_type": "code",
   "execution_count": 233,
   "metadata": {},
   "outputs": [
    {
     "data": {
      "text/plain": [
       "array([ 0.8       ,  0.82105263,  0.84210526,  0.86315789,  0.88421053,\n",
       "        0.90526316,  0.92631579,  0.94736842,  0.96842105,  0.98947368,\n",
       "        1.01052632,  1.03157895,  1.05263158,  1.07368421,  1.09473684,\n",
       "        1.11578947,  1.13684211,  1.15789474,  1.17894737,  1.2       ])"
      ]
     },
     "execution_count": 233,
     "metadata": {},
     "output_type": "execute_result"
    }
   ],
   "source": [
    "x2Lista = np.linspace(float(a.subs(adat)),float((a+b).subs(adat)), num = 20)\n",
    "x2Lista"
   ]
  },
  {
   "cell_type": "code",
   "execution_count": 234,
   "metadata": {
    "collapsed": true
   },
   "outputs": [],
   "source": [
    "xLista = np.concatenate((x1Lista,x2Lista))"
   ]
  },
  {
   "cell_type": "code",
   "execution_count": 235,
   "metadata": {
    "collapsed": true,
    "scrolled": true
   },
   "outputs": [],
   "source": [
    "vLista = np.concatenate(([v1num(x) for x in x1Lista],[v2num(x) for x in x2Lista]))"
   ]
  },
  {
   "cell_type": "code",
   "execution_count": 236,
   "metadata": {},
   "outputs": [
    {
     "data": {
      "image/png": "[encoded data removed]",
      "text/plain": [
       "<matplotlib.figure.Figure at 0x1da60f52438>"
      ]
     },
     "metadata": {},
     "output_type": "display_data"
    }
   ],
   "source": [
    "figv = plt.figure(num = 1, figsize=(16/2.54,10/2.54))\n",
    "axv = figv.add_subplot(111)\n",
    "\n",
    "axv.plot(xLista,vLista)\n",
    "\n",
    "plt.xlabel(r\"$x \\, \\left[\\mathrm{m}\\right]$\")\n",
    "plt.ylabel(r\"$v \\, \\left[\\mathrm{m}\\right]$\")\n",
    "\n",
    "plt.grid()\n",
    "plt.legend()\n",
    "plt.show()"
   ]
  },
  {
   "cell_type": "code",
   "execution_count": 237,
   "metadata": {
    "collapsed": true
   },
   "outputs": [],
   "source": [
    "fiLista = np.concatenate(([fi1num(x) for x in x1Lista],[fi2num(x) for x in x2Lista]))"
   ]
  },
  {
   "cell_type": "code",
   "execution_count": 238,
   "metadata": {},
   "outputs": [
    {
     "data": {
      "image/png": "[encoded data removed]",
      "text/plain": [
       "<matplotlib.figure.Figure at 0x1da60f2fd30>"
      ]
     },
     "metadata": {},
     "output_type": "display_data"
    }
   ],
   "source": [
    "figfi = plt.figure(num = 2, figsize=(16/2.54,10/2.54))\n",
    "axfi = figfi.add_subplot(111)\n",
    "\n",
    "axfi.plot(xLista,fiLista)\n",
    "\n",
    "plt.xlabel(r\"$x \\, \\left[\\mathrm{m}\\right]$\")\n",
    "plt.ylabel(r\"$\\varphi \\, \\left[\\mathrm{rad}\\right]$\")\n",
    "\n",
    "plt.grid()\n",
    "plt.legend()\n",
    "plt.show()"
   ]
  },
  {
   "cell_type": "code",
   "execution_count": 239,
   "metadata": {
    "collapsed": true
   },
   "outputs": [],
   "source": [
    "MhLista = np.concatenate(([Mh1num(x) for x in x1Lista],[Mh2num(x) for x in x2Lista]))"
   ]
  },
  {
   "cell_type": "code",
   "execution_count": 240,
   "metadata": {},
   "outputs": [
    {
     "data": {
      "image/png": "[encoded data removed]",
      "text/plain": [
       "<matplotlib.figure.Figure at 0x1da60dd1e80>"
      ]
     },
     "metadata": {},
     "output_type": "display_data"
    }
   ],
   "source": [
    "figMh = plt.figure(num = 3, figsize=(16/2.54,10/2.54))\n",
    "axMh = figMh.add_subplot(111)\n",
    "\n",
    "axMh.plot(xLista,MhLista)\n",
    "\n",
    "plt.xlabel(r\"$x \\, \\left[\\mathrm{m}\\right]$\")\n",
    "plt.ylabel(r\"$M_h \\, \\left[\\mathrm{Nm}\\right]$\")\n",
    "\n",
    "plt.grid()\n",
    "plt.legend()\n",
    "plt.show()"
   ]
  },
  {
   "cell_type": "code",
   "execution_count": 241,
   "metadata": {
    "collapsed": true
   },
   "outputs": [],
   "source": [
    "V1 = sp.diff(-Mh1,x)\n",
    "V1num = sp.lambdify(x,V1.subs(mego).subs(adat2).subs(adat))\n",
    "V2 = sp.diff(-Mh2,x)\n",
    "V2num = sp.lambdify(x,V2.subs(mego).subs(adat2).subs(adat))"
   ]
  },
  {
   "cell_type": "code",
   "execution_count": 242,
   "metadata": {
    "collapsed": true
   },
   "outputs": [],
   "source": [
    "VLista = np.concatenate(([V1num(x) for x in x1Lista],[V2num(x) for x in x2Lista]))"
   ]
  },
  {
   "cell_type": "code",
   "execution_count": 243,
   "metadata": {},
   "outputs": [
    {
     "data": {
      "image/png": "[encoded data removed]",
      "text/plain": [
       "<matplotlib.figure.Figure at 0x1da60bda940>"
      ]
     },
     "metadata": {},
     "output_type": "display_data"
    }
   ],
   "source": [
    "figV = plt.figure(num = 4, figsize=(16/2.54,10/2.54))\n",
    "axV = figV.add_subplot(111)\n",
    "\n",
    "axV.plot(xLista,VLista)\n",
    "\n",
    "plt.xlabel(r\"$x \\, \\left[\\mathrm{m}\\right]$\")\n",
    "plt.ylabel(r\"$V \\, \\left[\\mathrm{N}\\right]$\")\n",
    "\n",
    "plt.grid()\n",
    "plt.legend()\n",
    "plt.show()"
   ]
  }
 ],
 "metadata": {
  "kernelspec": {
   "display_name": "Python 3",
   "language": "python",
   "name": "python3"
  },
  "language_info": {
   "codemirror_mode": {
    "name": "ipython",
    "version": 3
   },
   "file_extension": ".py",
   "mimetype": "text/x-python",
   "name": "python",
   "nbconvert_exporter": "python",
   "pygments_lexer": "ipython3",
   "version": "3.6.3"
  }
 },
 "nbformat": 4,
 "nbformat_minor": 2
}
