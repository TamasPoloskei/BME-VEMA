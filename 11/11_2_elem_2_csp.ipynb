{
 "cells": [
  {
   "cell_type": "markdown",
   "metadata": {},
   "source": [
    "Határozzuk meg az alábbi ábrán látható tartó súlypontvonalának eltolódását leíró $v\\left(x\\right)$ függvényt végeselemes módszer használatával, síkbeli egyenes gerendalemek alkalmazásával.\n",
    "Vizsgáljuk meg a végeselemes megoldással kapott hajlítónyomatéki igénybevétel hibáját az egyes szakaszokon.\n",
    "Határozzuk meg az $x = a/2$ keresztmetszetben a hajlítónyomatéki igénybevétel nagyságát 2, illetve 3 síkbeli egyenes gerendaelem alkalmazásával.\n",
    "A tartók két különböző átmérőjű ($d_1 = 2d$, illetve $d_2 = d$) kör keresztmetszetű tartókból\n",
    "vannak összeépítve.\n",
    "A tartók anyaga lineárisan rugalmas, homogén, izotrop. A $d_1$ átmérőjű rész rugalmassági modulusza $E$, míg a $d_2$ átmérővel rendelkező részé $4E$."
   ]
  },
  {
   "cell_type": "code",
   "execution_count": 142,
   "metadata": {
    "collapsed": true
   },
   "outputs": [],
   "source": [
    "import sympy as sp\n",
    "import numpy as np\n",
    "import matplotlib as mpl\n",
    "import matplotlib.pyplot as plt\n",
    "\n",
    "sp.init_printing()"
   ]
  },
  {
   "cell_type": "code",
   "execution_count": 143,
   "metadata": {},
   "outputs": [],
   "source": [
    "ro, xi, L, A, I, E = sp.symbols(\"rho, xi L A I E\")"
   ]
  },
  {
   "cell_type": "code",
   "execution_count": 144,
   "metadata": {},
   "outputs": [
    {
     "data": {
      "image/png": "[encoded data removed]",
      "text/latex": [
       "$$\\left[\\begin{matrix}0.25 \\left(- \\xi + 1\\right)^{2} \\left(\\xi + 2\\right)\\\\0.125 L \\left(- \\xi + 1\\right)^{2} \\left(\\xi + 1\\right)\\\\0.25 \\left(- \\xi + 2\\right) \\left(\\xi + 1\\right)^{2}\\\\0.125 L \\left(\\xi - 1\\right) \\left(\\xi + 1\\right)^{2}\\end{matrix}\\right]$$"
      ],
      "text/plain": [
       "⎡              2          ⎤\n",
       "⎢ 0.25⋅(-ξ + 1) ⋅(ξ + 2)  ⎥\n",
       "⎢                         ⎥\n",
       "⎢                2        ⎥\n",
       "⎢0.125⋅L⋅(-ξ + 1) ⋅(ξ + 1)⎥\n",
       "⎢                         ⎥\n",
       "⎢                      2  ⎥\n",
       "⎢ 0.25⋅(-ξ + 2)⋅(ξ + 1)   ⎥\n",
       "⎢                         ⎥\n",
       "⎢                       2 ⎥\n",
       "⎣0.125⋅L⋅(ξ - 1)⋅(ξ + 1)  ⎦"
      ]
     },
     "execution_count": 144,
     "metadata": {},
     "output_type": "execute_result"
    }
   ],
   "source": [
    "Nv = 1/8*sp.Matrix([2*(1-xi)**2*(2+xi),\n",
    "                 L*(1-xi)**2*(1+xi),\n",
    "                 2*(1+xi)**2*(2-xi),\n",
    "                 L*(1+xi)**2*(xi-1)])\n",
    "Nv"
   ]
  },
  {
   "cell_type": "code",
   "execution_count": 145,
   "metadata": {},
   "outputs": [
    {
     "data": {
      "image/png": "[encoded data removed]",
      "text/latex": [
       "$$\\left[\\begin{matrix}1.5 \\xi^{2} - 1.5\\\\L \\left(0.75 \\xi + 0.25\\right) \\left(\\xi - 1\\right)\\\\- 1.5 \\xi^{2} + 1.5\\\\L \\left(0.75 \\xi - 0.25\\right) \\left(\\xi + 1\\right)\\end{matrix}\\right]$$"
      ],
      "text/plain": [
       "⎡           2             ⎤\n",
       "⎢      1.5⋅ξ  - 1.5       ⎥\n",
       "⎢                         ⎥\n",
       "⎢L⋅(0.75⋅ξ + 0.25)⋅(ξ - 1)⎥\n",
       "⎢                         ⎥\n",
       "⎢            2            ⎥\n",
       "⎢     - 1.5⋅ξ  + 1.5      ⎥\n",
       "⎢                         ⎥\n",
       "⎣L⋅(0.75⋅ξ - 0.25)⋅(ξ + 1)⎦"
      ]
     },
     "execution_count": 145,
     "metadata": {},
     "output_type": "execute_result"
    }
   ],
   "source": [
    "Nfi=sp.diff(Nv,xi)*(2/L)\n",
    "sp.simplify((1/L)**(-1)*Nfi)"
   ]
  },
  {
   "cell_type": "code",
   "execution_count": 146,
   "metadata": {
    "scrolled": false
   },
   "outputs": [
    {
     "data": {
      "image/png": "[encoded data removed]",
      "text/latex": [
       "$$\\left[\\begin{matrix}6.0 \\xi\\\\L \\left(3.0 \\xi - 1.0\\right)\\\\- 6.0 \\xi\\\\L \\left(3.0 \\xi + 1.0\\right)\\end{matrix}\\right]$$"
      ],
      "text/plain": [
       "⎡     6.0⋅ξ     ⎤\n",
       "⎢               ⎥\n",
       "⎢L⋅(3.0⋅ξ - 1.0)⎥\n",
       "⎢               ⎥\n",
       "⎢    -6.0⋅ξ     ⎥\n",
       "⎢               ⎥\n",
       "⎣L⋅(3.0⋅ξ + 1.0)⎦"
      ]
     },
     "execution_count": 146,
     "metadata": {},
     "output_type": "execute_result"
    }
   ],
   "source": [
    "Bv=sp.diff(Nv,xi,2)*(2/L)**2\n",
    "sp.simplify((1/L**2)**(-1)*Bv)"
   ]
  },
  {
   "cell_type": "code",
   "execution_count": 147,
   "metadata": {
    "scrolled": false
   },
   "outputs": [
    {
     "data": {
      "image/png": "[encoded data removed]",
      "text/latex": [
       "$$\\left[\\begin{matrix}12.0 & 6.0 L & -12.0 & 6.0 L\\\\6.0 L & 4.0 L^{2} & - 6.0 L & 2.0 L^{2}\\\\-12.0 & - 6.0 L & 12.0 & - 6.0 L\\\\6.0 L & 2.0 L^{2} & - 6.0 L & 4.0 L^{2}\\end{matrix}\\right]$$"
      ],
      "text/plain": [
       "⎡12.0   6.0⋅L   -12.0   6.0⋅L ⎤\n",
       "⎢                             ⎥\n",
       "⎢            2               2⎥\n",
       "⎢6.0⋅L  4.0⋅L   -6.0⋅L  2.0⋅L ⎥\n",
       "⎢                             ⎥\n",
       "⎢-12.0  -6.0⋅L   12.0   -6.0⋅L⎥\n",
       "⎢                             ⎥\n",
       "⎢            2               2⎥\n",
       "⎣6.0⋅L  2.0⋅L   -6.0⋅L  4.0⋅L ⎦"
      ]
     },
     "execution_count": 147,
     "metadata": {},
     "output_type": "execute_result"
    }
   ],
   "source": [
    "KeBEAM1D = I*E*sp.integrate(Bv*(Bv.T),(xi,-1,1))*L/2\n",
    "(I*E/L**3)**(-1)*KeBEAM1D"
   ]
  },
  {
   "cell_type": "code",
   "execution_count": 148,
   "metadata": {},
   "outputs": [
    {
     "name": "stdout",
     "output_type": "stream",
     "text": [
      "Matrix([[156.000000000000, 22.0*L, 54.0000000000000, -13.0*L], [22.0*L, 4.0*L**2, 13.0*L, -3.0*L**2], [54.0000000000000, 13.0*L, 156.000000000000, -22.0*L], [-13.0*L, -3.0*L**2, -22.0*L, 4.0*L**2]])\n"
     ]
    }
   ],
   "source": [
    "MeBEAM1D = A*ro*sp.integrate(Nv*(Nv.T),(xi,-1,1))*L/2\n",
    "print((A*ro*L/420)**(-1)*MeBEAM1D)"
   ]
  },
  {
   "cell_type": "code",
   "execution_count": 149,
   "metadata": {
    "collapsed": true
   },
   "outputs": [],
   "source": [
    "def Nvfgv(xi,L):\n",
    "    return np.array([1/4*(1-xi)**2*(2+xi),\n",
    "                 L/8*(1-xi)**2*(1+xi),\n",
    "                 1/4*(1+xi)**2*(2-xi),\n",
    "                 L/8*(1+xi)**2*(xi-1)])"
   ]
  },
  {
   "cell_type": "code",
   "execution_count": 150,
   "metadata": {
    "collapsed": true
   },
   "outputs": [],
   "source": [
    "def Nfifgv(xi,L):\n",
    "    return np.multiply(1/L,np.array([1.5*xi**2-1.5,\n",
    "                     L*(0.75*xi+0.25)*(xi-1),\n",
    "                     -1.5*xi**2+1.5,\n",
    "                     L*(0.75*xi-0.25)*(xi+1)]))"
   ]
  },
  {
   "cell_type": "code",
   "execution_count": 151,
   "metadata": {
    "collapsed": true
   },
   "outputs": [],
   "source": [
    "def KeBEAM1D(I,E,L):\n",
    "    return np.multiply(I*E/L**3, np.array([[12,   6*L,    -12,  6*L],\n",
    "                                           [6*L,  4*L**2, -6*L, 2*L**2],\n",
    "                                           [-12,  -6*L,    12,  -6*L],\n",
    "                                           [6*L, 2*L**2, -6*L, 4*L**2]]))"
   ]
  },
  {
   "cell_type": "code",
   "execution_count": 152,
   "metadata": {
    "collapsed": true
   },
   "outputs": [],
   "source": [
    "def MeBEAM1D(A,ro,L):\n",
    "    return np.multiply(A*ro*L/420, np.array([\n",
    "        [156, 22*L, 54, -13*L],\n",
    "        [22*L, 4*L**2, 13*L, -3*L**2],\n",
    "        [54, 13*L, 156, -22*L],\n",
    "        [-13*L, -3*L**2, -22*L, 4*L**2]]))"
   ]
  },
  {
   "cell_type": "code",
   "execution_count": 153,
   "metadata": {
    "collapsed": true
   },
   "outputs": [],
   "source": [
    "L1 = 200e-3\n",
    "L2 = 600e-3\n",
    "L3 = 300e-3\n",
    "\n",
    "d1 = 20e-3\n",
    "d2 = 30e-3\n",
    "d3 = 20e-3\n",
    "d4 = 300e-3\n",
    "\n",
    "s1 = 10e3\n",
    "s2 = 1000e3\n",
    "s3 = 2500e3\n",
    "\n",
    "m = 0.5\n",
    "E = 200e9\n",
    "ro = 7850"
   ]
  },
  {
   "cell_type": "code",
   "execution_count": 154,
   "metadata": {},
   "outputs": [],
   "source": [
    "I1 = (d1)**4*np.pi/64\n",
    "I2 = (d2)**4*np.pi/64\n",
    "I3 = (d3)**4*np.pi/64\n",
    "\n",
    "A1 = (d1)**2*np.pi/4\n",
    "A2 = (d2)**2*np.pi/4\n",
    "A3 = (d3)**2*np.pi/4\n",
    "\n",
    "Ke1 = KeBEAM1D(I1,E,L1)\n",
    "Ke2 = KeBEAM1D(I2,E,L2)\n",
    "Ke3 = KeBEAM1D(I3,E,L3)\n",
    "\n",
    "Me1 = MeBEAM1D(A1,ro,L1)\n",
    "Me2 = MeBEAM1D(A2,ro,L2)\n",
    "Me3 = MeBEAM1D(A3,ro,L3)\n",
    "\n",
    "thetaz = 1/4*m*(d4/2)**2"
   ]
  },
  {
   "cell_type": "code",
   "execution_count": 155,
   "metadata": {
    "collapsed": true
   },
   "outputs": [],
   "source": [
    "elemSZF = np.array([[1,2,3,4],[3,4,5,6],[5,6,7,8]]) - 1"
   ]
  },
  {
   "cell_type": "code",
   "execution_count": 156,
   "metadata": {
    "collapsed": true
   },
   "outputs": [],
   "source": [
    "KG=np.zeros((8,8))\n",
    "MG=np.zeros((8,8))"
   ]
  },
  {
   "cell_type": "code",
   "execution_count": 157,
   "metadata": {
    "collapsed": true
   },
   "outputs": [],
   "source": [
    "eind=0\n",
    "KG[np.ix_(elemSZF[eind],elemSZF[eind])]+=Ke1\n",
    "MG[np.ix_(elemSZF[eind],elemSZF[eind])]+=Me1"
   ]
  },
  {
   "cell_type": "code",
   "execution_count": 158,
   "metadata": {
    "collapsed": true
   },
   "outputs": [],
   "source": [
    "eind=1\n",
    "KG[np.ix_(elemSZF[eind],elemSZF[eind])]+=Ke2\n",
    "MG[np.ix_(elemSZF[eind],elemSZF[eind])]+=Me2"
   ]
  },
  {
   "cell_type": "code",
   "execution_count": 159,
   "metadata": {
    "collapsed": true
   },
   "outputs": [],
   "source": [
    "eind=2\n",
    "KG[np.ix_(elemSZF[eind],elemSZF[eind])]+=Ke3\n",
    "MG[np.ix_(elemSZF[eind],elemSZF[eind])]+=Me3"
   ]
  },
  {
   "cell_type": "code",
   "execution_count": 160,
   "metadata": {
    "collapsed": true
   },
   "outputs": [],
   "source": [
    "KG[elemSZF[0][0],elemSZF[0][0]]+=s1\n",
    "KG[elemSZF[0][2],elemSZF[0][2]]+=s2\n",
    "KG[elemSZF[1][2],elemSZF[1][2]]+=s3"
   ]
  },
  {
   "cell_type": "code",
   "execution_count": 161,
   "metadata": {
    "collapsed": true
   },
   "outputs": [],
   "source": [
    "MG[elemSZF[2][2],elemSZF[2][2]] += m\n",
    "MG[elemSZF[2][3],elemSZF[2][3]] += thetaz"
   ]
  },
  {
   "cell_type": "code",
   "execution_count": 162,
   "metadata": {
    "collapsed": true
   },
   "outputs": [],
   "source": [
    "fixSZF=np.array([])"
   ]
  },
  {
   "cell_type": "code",
   "execution_count": 163,
   "metadata": {},
   "outputs": [
    {
     "data": {
      "image/png": "[encoded data removed]",
      "text/latex": [
       "$$\\left [ 0, \\quad 1, \\quad 2, \\quad 3, \\quad 4, \\quad 5, \\quad 6, \\quad 7\\right ]$$"
      ],
      "text/plain": [
       "[0, 1, 2, 3, 4, 5, 6, 7]"
      ]
     },
     "execution_count": 163,
     "metadata": {},
     "output_type": "execute_result"
    }
   ],
   "source": [
    "szabadSZF=[i for i in range(0,8) if i not in fixSZF]\n",
    "szabadSZF"
   ]
  },
  {
   "cell_type": "code",
   "execution_count": 164,
   "metadata": {
    "collapsed": true
   },
   "outputs": [],
   "source": [
    "KK = KG[np.ix_(szabadSZF,szabadSZF)]\n",
    "MK = MG[np.ix_(szabadSZF,szabadSZF)]"
   ]
  },
  {
   "cell_type": "code",
   "execution_count": 165,
   "metadata": {},
   "outputs": [
    {
     "data": {
      "text/plain": [
       "array([ 26458.01845952,   7429.77280567,   4367.3802812 ,   2525.46582768,\n",
       "         1682.73657981,   1012.43565175,    715.60241866,    374.06415577])"
      ]
     },
     "execution_count": 165,
     "metadata": {},
     "output_type": "execute_result"
    }
   ],
   "source": [
    "sajatErtek, sajatVektor = np.linalg.eig(np.linalg.solve(MK,KK))\n",
    "np.sqrt(sajatErtek)"
   ]
  },
  {
   "cell_type": "code",
   "execution_count": 166,
   "metadata": {},
   "outputs": [],
   "source": [
    "UG1 = np.zeros(8)\n",
    "UG1[np.ix_(szabadSZF)] = sajatVektor[:,-1]\n",
    "\n",
    "UG2 = np.zeros(8)\n",
    "UG2[np.ix_(szabadSZF)] = sajatVektor[:,-2]\n",
    "\n",
    "UG3 = np.zeros(8)\n",
    "UG3[np.ix_(szabadSZF)] = sajatVektor[:,-3]"
   ]
  },
  {
   "cell_type": "markdown",
   "metadata": {
    "collapsed": true
   },
   "source": [
    "# Eredmények ábrázolása"
   ]
  },
  {
   "cell_type": "code",
   "execution_count": 167,
   "metadata": {},
   "outputs": [
    {
     "data": {
      "image/png": "[encoded data removed]",
      "text/latex": [
       "$$\\left [ \\left [ 0, \\quad 0.2\\right ], \\quad \\left [ 0.2, \\quad 0.8\\right ], \\quad \\left [ 0.8, \\quad 1.1\\right ]\\right ]$$"
      ],
      "text/plain": [
       "[[0, 0.2], [0.2, 0.8], [0.8, 1.1]]"
      ]
     },
     "execution_count": 167,
     "metadata": {},
     "output_type": "execute_result"
    }
   ],
   "source": [
    "xiLista = np.linspace(-1,1,num = 10)\n",
    "cspxKRD=[[0,L1],[L1,L1+L2],[L1+L2,L1+L2+L3]]\n",
    "cspxKRD"
   ]
  },
  {
   "cell_type": "code",
   "execution_count": 168,
   "metadata": {},
   "outputs": [],
   "source": [
    "x1Lista=[(cspxKRD[0][1]-cspxKRD[0][0])/2*(xi+1) + cspxKRD[0][0] for xi in xiLista]\n",
    "x2Lista=[(cspxKRD[1][1]-cspxKRD[1][0])/2*(xi+1) + cspxKRD[1][0] for xi in xiLista]\n",
    "x3Lista=[(cspxKRD[2][1]-cspxKRD[2][0])/2*(xi+1) + cspxKRD[2][0] for xi in xiLista]\n",
    "xLista = np.concatenate((x1Lista,x2Lista,x3Lista))"
   ]
  },
  {
   "cell_type": "code",
   "execution_count": 169,
   "metadata": {},
   "outputs": [],
   "source": [
    "v1Lista = [np.dot(Nvfgv(xi,L1),UG1[elemSZF[0]]) for xi in xiLista]\n",
    "v2Lista = [np.dot(Nvfgv(xi,L2),UG1[elemSZF[1]]) for xi in xiLista]\n",
    "v3Lista = [np.dot(Nvfgv(xi,L3),UG1[elemSZF[2]]) for xi in xiLista]\n",
    "vLista = np.concatenate((v1Lista,v2Lista,v3Lista))"
   ]
  },
  {
   "cell_type": "code",
   "execution_count": 170,
   "metadata": {
    "scrolled": true
   },
   "outputs": [
    {
     "data": {
      "image/png": "[encoded data removed]",
      "text/plain": [
       "<matplotlib.figure.Figure at 0x19501532470>"
      ]
     },
     "metadata": {},
     "output_type": "display_data"
    }
   ],
   "source": [
    "figv = plt.figure(num = 1, figsize=(16/2.54,10/2.54))\n",
    "axv = figv.add_subplot(111)\n",
    "\n",
    "axv.plot(xLista,vLista)\n",
    "\n",
    "plt.xlabel(r\"$x \\, \\left[\\mathrm{m}\\right]$\")\n",
    "plt.ylabel(r\"$v \\, \\left[\\mathrm{m}\\right]$\")\n",
    "\n",
    "plt.grid()\n",
    "plt.legend()\n",
    "plt.show()"
   ]
  },
  {
   "cell_type": "code",
   "execution_count": 171,
   "metadata": {
    "collapsed": true
   },
   "outputs": [],
   "source": [
    "v1Lista = [np.dot(Nvfgv(xi,L1),UG2[elemSZF[0]]) for xi in xiLista]\n",
    "v2Lista = [np.dot(Nvfgv(xi,L2),UG2[elemSZF[1]]) for xi in xiLista]\n",
    "v3Lista = [np.dot(Nvfgv(xi,L3),UG2[elemSZF[2]]) for xi in xiLista]\n",
    "vLista = np.concatenate((v1Lista,v2Lista,v3Lista))"
   ]
  },
  {
   "cell_type": "code",
   "execution_count": 172,
   "metadata": {
    "scrolled": true
   },
   "outputs": [
    {
     "data": {
      "image/png": "[encoded data removed]",
      "text/plain": [
       "<matplotlib.figure.Figure at 0x195015329b0>"
      ]
     },
     "metadata": {},
     "output_type": "display_data"
    }
   ],
   "source": [
    "figv = plt.figure(num = 2, figsize=(16/2.54,10/2.54))\n",
    "axv = figv.add_subplot(111)\n",
    "\n",
    "axv.plot(xLista,vLista)\n",
    "\n",
    "plt.xlabel(r\"$x \\, \\left[\\mathrm{m}\\right]$\")\n",
    "plt.ylabel(r\"$v \\, \\left[\\mathrm{m}\\right]$\")\n",
    "\n",
    "plt.grid()\n",
    "plt.legend()\n",
    "plt.show()"
   ]
  },
  {
   "cell_type": "code",
   "execution_count": 173,
   "metadata": {
    "collapsed": true
   },
   "outputs": [],
   "source": [
    "v1Lista = [np.dot(Nvfgv(xi,L1),UG3[elemSZF[0]]) for xi in xiLista]\n",
    "v2Lista = [np.dot(Nvfgv(xi,L2),UG3[elemSZF[1]]) for xi in xiLista]\n",
    "v3Lista = [np.dot(Nvfgv(xi,L3),UG3[elemSZF[2]]) for xi in xiLista]\n",
    "vLista = np.concatenate((v1Lista,v2Lista,v3Lista))"
   ]
  },
  {
   "cell_type": "code",
   "execution_count": 174,
   "metadata": {},
   "outputs": [
    {
     "data": {
      "image/png": "[encoded data removed]",
      "text/plain": [
       "<matplotlib.figure.Figure at 0x19501164be0>"
      ]
     },
     "metadata": {},
     "output_type": "display_data"
    }
   ],
   "source": [
    "figv = plt.figure(num = 3, figsize=(16/2.54,10/2.54))\n",
    "axv = figv.add_subplot(111)\n",
    "\n",
    "axv.plot(xLista,vLista)\n",
    "\n",
    "plt.xlabel(r\"$x \\, \\left[\\mathrm{m}\\right]$\")\n",
    "plt.ylabel(r\"$v \\, \\left[\\mathrm{m}\\right]$\")\n",
    "\n",
    "plt.grid()\n",
    "plt.legend()\n",
    "plt.show()"
   ]
  }
 ],
 "metadata": {
  "kernelspec": {
   "display_name": "Python 3",
   "language": "python",
   "name": "python3"
  },
  "language_info": {
   "codemirror_mode": {
    "name": "ipython",
    "version": 3
   },
   "file_extension": ".py",
   "mimetype": "text/x-python",
   "name": "python",
   "nbconvert_exporter": "python",
   "pygments_lexer": "ipython3",
   "version": "3.6.3"
  }
 },
 "nbformat": 4,
 "nbformat_minor": 2
}
