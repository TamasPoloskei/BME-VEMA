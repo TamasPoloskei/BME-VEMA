{
 "cells": [
  {
   "cell_type": "markdown",
   "metadata": {},
   "source": [
    "# Bevezetés\n",
    "\n",
    "### Python programozási nyelv\n",
    "\n",
    "A Python egy open-source (OS), interpretált, általános célú programozási nyelv (vagy script-nyelv).\n",
    "\n",
    "**Tulajdonságai:**\n",
    "- Objektum orientált\n",
    "- Interpretált\n",
    "    - Nem szükséges fordítani (mint a pl a *C++*-t), elég csak beírni a parancsot, és már futtatható is a kód\n",
    "    - Alkalmas teszi számítások gyors-prototipizálására\n",
    "    - Cserébe lassú\n",
    "- Open-source:\n",
    "    - Ingyenes\n",
    "    - Folyamatosan karban tartott \n",
    "    - Széles körben felhasznált iparban és akadémiában is\n",
    "    - Nagy \"Community\", sok segédlettel, fórummal (pl.: [stackoverflow](https://stackoverflow.com/questions/tagged/python)) \n",
    "- Moduláris:\n",
    "    - Rengetek feladatra létezik \"*package*\" (pl.: numerikus számításokra *numpy*/*scipy*, szimbolikus számításokra *sympy*, táblázatfájl-kezelésre *CSV*)\n",
    "    - Csak azt kell behívni, amire szükségünk van\n",
    "    - Ismerni kell a *package* ekoszisztémát, mik léteznek, mi mire jó, stb...\n",
    "- Sok IDE (*Integrated Development Environment*) létezik:\n",
    "    - Alapvetően shell (terminál) alapú\n",
    "    - Notebook: **_jupyter notebook_**, *jupyter lab*\n",
    "    - Szövegszerkesztő: *Spyder*, *VS Code* (ingyenes/open source - ezek tartalmaznak *Debugger*-t is)\n",
    "    - Fizetős szövegszerkeszők (lista nem teljes): *Visual Studio*, *PyCharm*, stb...\n",
    "    \n",
    "### Jupyter notebook működése (+ Python kernel):\n",
    "\n",
    "Legfontosabb tudnivalók:\n",
    "\n",
    "- Csak egy *front-end*, ami kommunikál egy *kernel*-lel (ez a kernel menüben választható).\n",
    "- Két mód létezik:\n",
    "    - Command mode (cellaműveleteket lehet végezni)\n",
    "    - Edit mode (szövegbevitel cellába)\n",
    "- Command mode (`ESC` billentyű lenyomásával érhető el, kék csík a cella kijelölése esetén):\n",
    "    - Notebook mentése: `s`\n",
    "    - Cellák hozzáadása: `b` az aktuális cella alá, `a` az aktuális cella fölé\n",
    "    - Cella törlése: kétszer egymás után a `d` billentyű lenyomása\n",
    "    - Cella törlésének visszavonása: `z`\n",
    "    - Cella másolás: `c`, kivágás: `x`, beillesztés az aktuális cella alá: `v`\n",
    "    - Számozás bekapcsolása a cella soraira: `l` (kis L), vagy `Shift + l` az összes cellára\n",
    "    - Cellamódok: futtatandó kód: `y`, nyers kód (nem futtatható): `r`, markdown (formázott szöveg): `m` \n",
    "- Edit mode (`Enter` billenytű lenyomásával érhető el, zöld szín):\n",
    "    - Sor \"kikommentelése\"/\"visszaállítása\": `Ctrl + /`\n",
    "    - Több kurzor lehelyezése: `Ctrl + Bal egérgomb` \n",
    "    - Téglalap-szerű kijelölés (rectangular selection): `Alt + Bal egérgomb` \"húzása\" (dragging)\n",
    "- Közös\n",
    "    - Cella futtatása, majd cellaléptetés: `Shift + Enter` (ez létrehoz egy új cellát, ha nincs hova lépnie)\n",
    "    - Cella futtatása cellaléptetés nélkül: `Ctrl + Enter` \n",
    "\n",
    "**Jupyter notebook help-jének előhozása**: *Edit mode*-ban `h` lenyomásával  \n",
    "**Python help**: Kurzorral a függvény nevén állva `Shift + Tab` vagy egy cellába `?\"fv_név\"` beírása és futtatása\n",
    "\n",
    "### A bevezető felépítése:\n",
    "- [Alapműveletek](#Alapmuveletek)\n",
    "- [Összetett függvények](#Osszetettfuggvenyek)\n",
    "- [Saját függvények](#Sajatfuggvenyek)\n",
    "- [Osztályok](#Osztalyok)\n",
    "- [Vezérlési szerkezetek](#Vezerlesiszerkezetek)\n",
    "- [Külső függvénykönyvtárak](#Kulsofuggvenykonyvtarak)\n",
    "    - [Szimbolikus matematikai műveletek](#Szimbolikus)\n",
    "    - [Deriválás/Integrálás](#DerivalIntegral)\n",
    "    - [Vektor és mátrixszámítások Sympy-ban](#SzimVektorMatrix)\n",
    "    - [Vektor és mátrixszámítások Scipy-ban](#NumVektorMatrix)\n",
    "    - [Egyenletek megoldása Scipy-ban](#Egyenletek)\n",
    "    - [Szimbolikus függvényekből numerikus függvények](#SymToNum)\n",
    "- [Egyszerű ábrák készítése](#Egyszeruabrak)"
   ]
  },
  {
   "cell_type": "markdown",
   "metadata": {},
   "source": [
    "# Python bevezető "
   ]
  },
  {
   "cell_type": "markdown",
   "metadata": {},
   "source": [
    "## Alapműveletek (Shift/Ctrl + Enter-rel futtassuk)<a id='Alapmuveletek'></a>"
   ]
  },
  {
   "cell_type": "code",
   "execution_count": 1,
   "metadata": {},
   "outputs": [
    {
     "data": {
      "text/plain": [
       "24"
      ]
     },
     "execution_count": 1,
     "metadata": {},
     "output_type": "execute_result"
    }
   ],
   "source": [
    "17 + 7 #Összeadás"
   ]
  },
  {
   "cell_type": "code",
   "execution_count": 2,
   "metadata": {},
   "outputs": [
    {
     "data": {
      "text/plain": [
       "326"
      ]
     },
     "execution_count": 2,
     "metadata": {},
     "output_type": "execute_result"
    }
   ],
   "source": [
    "333 - 7 #Kivonás"
   ]
  },
  {
   "cell_type": "code",
   "execution_count": 3,
   "metadata": {
    "scrolled": false
   },
   "outputs": [
    {
     "data": {
      "text/plain": [
       "242"
      ]
     },
     "execution_count": 3,
     "metadata": {},
     "output_type": "execute_result"
    }
   ],
   "source": [
    "11 * 22 #Szorzás"
   ]
  },
  {
   "cell_type": "code",
   "execution_count": 4,
   "metadata": {},
   "outputs": [
    {
     "data": {
      "text/plain": [
       "0.7777777777777778"
      ]
     },
     "execution_count": 4,
     "metadata": {},
     "output_type": "execute_result"
    }
   ],
   "source": [
    "7/9 #Osztás (ez nem egész (int) lesz: külön típus float)"
   ]
  },
  {
   "cell_type": "code",
   "execution_count": 5,
   "metadata": {
    "scrolled": true
   },
   "outputs": [
    {
     "data": {
      "text/plain": [
       "-2.7755575615628914e-17"
      ]
     },
     "execution_count": 5,
     "metadata": {},
     "output_type": "execute_result"
    }
   ],
   "source": [
    "0.3-0.1-0.2 # float: számábrázolási hiba lehet!!"
   ]
  },
  {
   "cell_type": "code",
   "execution_count": 6,
   "metadata": {},
   "outputs": [
    {
     "data": {
      "text/plain": [
       "8"
      ]
     },
     "execution_count": 6,
     "metadata": {},
     "output_type": "execute_result"
    }
   ],
   "source": [
    "2**3 # Hatványozás (** és NEM ^!)"
   ]
  },
  {
   "cell_type": "code",
   "execution_count": 7,
   "metadata": {},
   "outputs": [
    {
     "data": {
      "text/plain": [
       "1.4142135623730951"
      ]
     },
     "execution_count": 7,
     "metadata": {},
     "output_type": "execute_result"
    }
   ],
   "source": [
    "2**(0.5) # Gyökvönás hatványozás segítségével"
   ]
  },
  {
   "cell_type": "code",
   "execution_count": 8,
   "metadata": {},
   "outputs": [
    {
     "data": {
      "text/plain": [
       "0.005"
      ]
     },
     "execution_count": 8,
     "metadata": {},
     "output_type": "execute_result"
    }
   ],
   "source": [
    "5e-3 #normálalak e segítségével (vagy 5E-3)"
   ]
  },
  {
   "cell_type": "markdown",
   "metadata": {},
   "source": [
    "Néhány alapművelet működik szövegre is"
   ]
  },
  {
   "cell_type": "code",
   "execution_count": 9,
   "metadata": {},
   "outputs": [
    {
     "data": {
      "text/plain": [
       "'str1_str2_'"
      ]
     },
     "execution_count": 9,
     "metadata": {},
     "output_type": "execute_result"
    }
   ],
   "source": [
    "'str1_' + 'str2_' #Összeadás"
   ]
  },
  {
   "cell_type": "code",
   "execution_count": 10,
   "metadata": {},
   "outputs": [
    {
     "data": {
      "text/plain": [
       "'str2_str2_'"
      ]
     },
     "execution_count": 10,
     "metadata": {},
     "output_type": "execute_result"
    }
   ],
   "source": [
    "2 * 'str2_' #Szorzás"
   ]
  },
  {
   "cell_type": "markdown",
   "metadata": {},
   "source": [
    "## Összetettebb függvények <a id='Osszetettfuggvenyek'></a>"
   ]
  },
  {
   "cell_type": "code",
   "execution_count": 11,
   "metadata": {},
   "outputs": [
    {
     "ename": "NameError",
     "evalue": "name 'sin' is not defined",
     "output_type": "error",
     "traceback": [
      "\u001b[0;31m---------------------------------------------------------------------------\u001b[0m",
      "\u001b[0;31mNameError\u001b[0m                                 Traceback (most recent call last)",
      "\u001b[0;32m<ipython-input-11-f662c61863ec>\u001b[0m in \u001b[0;36m<module>\u001b[0;34m\u001b[0m\n\u001b[0;32m----> 1\u001b[0;31m \u001b[0msin\u001b[0m\u001b[0;34m(\u001b[0m\u001b[0;36m2\u001b[0m\u001b[0;34m)\u001b[0m \u001b[0;31m#szinusz\u001b[0m\u001b[0;34m\u001b[0m\u001b[0;34m\u001b[0m\u001b[0m\n\u001b[0m",
      "\u001b[0;31mNameError\u001b[0m: name 'sin' is not defined"
     ]
    }
   ],
   "source": [
    "sin(2) #szinusz"
   ]
  },
  {
   "cell_type": "markdown",
   "metadata": {},
   "source": [
    "Összetettebb függvények már nincsenek a python alapnyelvben - ilyenkor szükséges behívni külső csomagokat, pl a **math** csomagot"
   ]
  },
  {
   "cell_type": "code",
   "execution_count": 12,
   "metadata": {},
   "outputs": [],
   "source": [
    "import math"
   ]
  },
  {
   "cell_type": "code",
   "execution_count": 13,
   "metadata": {},
   "outputs": [
    {
     "ename": "NameError",
     "evalue": "name 'sin' is not defined",
     "output_type": "error",
     "traceback": [
      "\u001b[0;31m---------------------------------------------------------------------------\u001b[0m",
      "\u001b[0;31mNameError\u001b[0m                                 Traceback (most recent call last)",
      "\u001b[0;32m<ipython-input-13-a0912eaca942>\u001b[0m in \u001b[0;36m<module>\u001b[0;34m\u001b[0m\n\u001b[0;32m----> 1\u001b[0;31m \u001b[0msin\u001b[0m\u001b[0;34m(\u001b[0m\u001b[0;36m2\u001b[0m\u001b[0;34m)\u001b[0m \u001b[0;31m# ez így továbbra sem létezik\u001b[0m\u001b[0;34m\u001b[0m\u001b[0;34m\u001b[0m\u001b[0m\n\u001b[0m",
      "\u001b[0;31mNameError\u001b[0m: name 'sin' is not defined"
     ]
    }
   ],
   "source": [
    "sin(2) # ez így továbbra sem létezik"
   ]
  },
  {
   "cell_type": "code",
   "execution_count": 14,
   "metadata": {},
   "outputs": [
    {
     "data": {
      "text/plain": [
       "0.9092974268256817"
      ]
     },
     "execution_count": 14,
     "metadata": {},
     "output_type": "execute_result"
    }
   ],
   "source": [
    "math.sin(2)"
   ]
  },
  {
   "cell_type": "code",
   "execution_count": 15,
   "metadata": {},
   "outputs": [
    {
     "name": "stdout",
     "output_type": "stream",
     "text": [
      "1.4142135623730951\n",
      "-2.185039863261519\n",
      "1.1071487177940904\n"
     ]
    }
   ],
   "source": [
    "# Több parancs együttes beírásakor nem látszik, csak az utolsó sor kimenete: print függvény alkalmazása!\n",
    "print(math.sqrt(2))\n",
    "print(math.tan(2))\n",
    "print(math.atan(2))"
   ]
  },
  {
   "cell_type": "code",
   "execution_count": 16,
   "metadata": {},
   "outputs": [],
   "source": [
    "# Kimenet el is rejthető a ; segítségével (\"suppress output\")\n",
    "1+1;"
   ]
  },
  {
   "cell_type": "markdown",
   "metadata": {},
   "source": [
    "Amennyiben szükséges, definiálhatunk mi is saját változókat az `=` jellel.  \n",
    "Megjegyzés: a `=` értékadó függvénynek nincs kimenete"
   ]
  },
  {
   "cell_type": "code",
   "execution_count": 17,
   "metadata": {},
   "outputs": [],
   "source": [
    "a=2\n",
    "b=3\n",
    "c=4.0 # automatikus típusadás"
   ]
  },
  {
   "cell_type": "code",
   "execution_count": 18,
   "metadata": {
    "scrolled": true
   },
   "outputs": [
    {
     "data": {
      "text/plain": [
       "196.0"
      ]
     },
     "execution_count": 18,
     "metadata": {},
     "output_type": "execute_result"
    }
   ],
   "source": [
    "(a+b*c)**a # a legáltalánosabb típus lesz a kimenet (int < float)"
   ]
  },
  {
   "cell_type": "code",
   "execution_count": 19,
   "metadata": {},
   "outputs": [
    {
     "ename": "TypeError",
     "evalue": "'int' object is not callable",
     "output_type": "error",
     "traceback": [
      "\u001b[0;31m---------------------------------------------------------------------------\u001b[0m",
      "\u001b[0;31mTypeError\u001b[0m                                 Traceback (most recent call last)",
      "\u001b[0;32m<ipython-input-19-e5b8c501aae6>\u001b[0m in \u001b[0;36m<module>\u001b[0;34m\u001b[0m\n\u001b[1;32m      1\u001b[0m \u001b[0;31m# Fontos, hogy igyekezzük kerülni védett változó neveket! ILYET NE!\u001b[0m\u001b[0;34m\u001b[0m\u001b[0;34m\u001b[0m\u001b[0;34m\u001b[0m\u001b[0m\n\u001b[1;32m      2\u001b[0m \u001b[0mmath\u001b[0m\u001b[0;34m.\u001b[0m\u001b[0msqrt\u001b[0m \u001b[0;34m=\u001b[0m \u001b[0;36m1\u001b[0m\u001b[0;34m\u001b[0m\u001b[0;34m\u001b[0m\u001b[0m\n\u001b[0;32m----> 3\u001b[0;31m \u001b[0mmath\u001b[0m\u001b[0;34m.\u001b[0m\u001b[0msqrt\u001b[0m\u001b[0;34m(\u001b[0m\u001b[0;36m2\u001b[0m\u001b[0;34m)\u001b[0m\u001b[0;34m\u001b[0m\u001b[0;34m\u001b[0m\u001b[0m\n\u001b[0m\u001b[1;32m      4\u001b[0m \u001b[0;34m\u001b[0m\u001b[0m\n\u001b[1;32m      5\u001b[0m \u001b[0;31m# KERNEL RESTART SZÜKSÉGES\u001b[0m\u001b[0;34m\u001b[0m\u001b[0;34m\u001b[0m\u001b[0;34m\u001b[0m\u001b[0m\n",
      "\u001b[0;31mTypeError\u001b[0m: 'int' object is not callable"
     ]
    }
   ],
   "source": [
    "# Fontos, hogy igyekezzük kerülni védett változó neveket! ILYET NE!\n",
    "math.sqrt = 1\n",
    "math.sqrt(2)\n",
    "\n",
    "# KERNEL RESTART SZÜKSÉGES"
   ]
  },
  {
   "cell_type": "markdown",
   "metadata": {},
   "source": [
    "**Ha véletlenül ilyet teszünk, akkor érdemes újraindítani a *kernel* a fent látható körkörös nyíllal, vagy a *Kernel* $\\rightarrow$ *Restart* segítségével**"
   ]
  },
  {
   "cell_type": "markdown",
   "metadata": {},
   "source": [
    "## Saját függvények <a id='Sajatfuggvenyek'></a>\n",
    "\n",
    "Szerkezet:\n",
    "```python\n",
    "def function(*arguments):\n",
    "    instruction1\n",
    "    instruction2\n",
    "    ...\n",
    "    return result\n",
    "```\n",
    "\n",
    "A függvény alá tartozó utasításokat tabulátoros behúzással (indent) kell beírni (nincs `{}` zárójel, vagy `end`). A függvény neve után jönnek az argumentumok majd kettősponttal `:` jelezzük, hogy hol kezdődik a függvény."
   ]
  },
  {
   "cell_type": "code",
   "execution_count": 1,
   "metadata": {},
   "outputs": [],
   "source": [
    "def foo(x):\n",
    "    return 3*x\n",
    "\n",
    "def bar(x,y):\n",
    "    a = x+y**2\n",
    "    return 2*a + 4"
   ]
  },
  {
   "cell_type": "code",
   "execution_count": 2,
   "metadata": {},
   "outputs": [
    {
     "name": "stdout",
     "output_type": "stream",
     "text": [
      "9\n",
      "9.0\n",
      "szöveg_szöveg_szöveg_\n",
      "42.0\n"
     ]
    }
   ],
   "source": [
    "print(foo(3))\n",
    "print(foo(3.))\n",
    "print(foo('szöveg_'))\n",
    "\n",
    "print(bar(3,4.))"
   ]
  },
  {
   "cell_type": "markdown",
   "metadata": {},
   "source": [
    "Lehetséges úgynevezett anonim függvényeket (*anonymous function* vagy *lambda function*) is létrehozni, amely gyors módja az egyszerű, egysoros függvények létrehozására:\n",
    "\n",
    "```python\n",
    "lambda arguments: instruction\n",
    "```\n",
    "\n",
    "Ez akár egy változóhoz is hozzárendelhető, mint egy szám vagy string."
   ]
  },
  {
   "cell_type": "code",
   "execution_count": 3,
   "metadata": {},
   "outputs": [],
   "source": [
    "double = lambda x : x*2\n",
    "multiply = lambda x,y : x*y"
   ]
  },
  {
   "cell_type": "code",
   "execution_count": 4,
   "metadata": {},
   "outputs": [
    {
     "name": "stdout",
     "output_type": "stream",
     "text": [
      "6\n",
      "30\n"
     ]
    }
   ],
   "source": [
    "print(double(3))\n",
    "print(multiply(10,3))"
   ]
  },
  {
   "cell_type": "markdown",
   "metadata": {},
   "source": [
    "## Osztályok <a id='Osztalyok'></a>"
   ]
  },
  {
   "cell_type": "code",
   "execution_count": 5,
   "metadata": {},
   "outputs": [],
   "source": [
    "def foo(x):\n",
    "    return x**2\n",
    "\n",
    "class MyClass:\n",
    "    def __init__(self,x,y,z):\n",
    "        self.square = foo(x)-z\n",
    "        self.cubic = y**3+foo(y)\n",
    "\n",
    "    @classmethod\n",
    "    def createfrom_x(cls,x):\n",
    "        return MyClass(x,x,x)\n",
    "    \n",
    "    def return_stuff(self):\n",
    "        return self.square+3*self.cubic"
   ]
  },
  {
   "cell_type": "code",
   "execution_count": 6,
   "metadata": {},
   "outputs": [],
   "source": [
    "mcl=MyClass.createfrom_x(2)"
   ]
  },
  {
   "cell_type": "code",
   "execution_count": 7,
   "metadata": {
    "scrolled": true
   },
   "outputs": [
    {
     "data": {
      "text/plain": [
       "38"
      ]
     },
     "execution_count": 7,
     "metadata": {},
     "output_type": "execute_result"
    }
   ],
   "source": [
    "mcl.return_stuff()"
   ]
  },
  {
   "cell_type": "code",
   "execution_count": 8,
   "metadata": {},
   "outputs": [],
   "source": [
    "def foo(x):\n",
    "    return x**2\n",
    "\n",
    "class MyClass:\n",
    "    def __init__(self,x,y,z):\n",
    "        self.square = foo(x)-z\n",
    "        self.cubic = y**3+foo(y)\n",
    "\n",
    "    @classmethod\n",
    "    def createfrom_x(cls,x):\n",
    "        return MyClass(x,x,x)\n",
    "    \n",
    "    def return_stuff(self):\n",
    "        return self.square+3*self.cubic"
   ]
  },
  {
   "cell_type": "code",
   "execution_count": 9,
   "metadata": {},
   "outputs": [],
   "source": [
    "mcl=MyClass.createfrom_x(2)"
   ]
  },
  {
   "cell_type": "code",
   "execution_count": 10,
   "metadata": {
    "scrolled": true
   },
   "outputs": [
    {
     "data": {
      "text/plain": [
       "38"
      ]
     },
     "execution_count": 10,
     "metadata": {},
     "output_type": "execute_result"
    }
   ],
   "source": [
    "mcl.return_stuff()"
   ]
  },
  {
   "cell_type": "markdown",
   "metadata": {},
   "source": [
    "## Vezérlési szerkezetek (Control Flow) - csak a legfontosabbak <a id='Vezerlesiszerkezetek'></a>"
   ]
  },
  {
   "cell_type": "markdown",
   "metadata": {},
   "source": [
    "### Listák"
   ]
  },
  {
   "cell_type": "code",
   "execution_count": 11,
   "metadata": {},
   "outputs": [],
   "source": [
    "lista = [1,2,3,4,\"valami\",[1.0,4]]"
   ]
  },
  {
   "cell_type": "code",
   "execution_count": 12,
   "metadata": {},
   "outputs": [
    {
     "name": "stdout",
     "output_type": "stream",
     "text": [
      "1\n",
      "4\n",
      "[1.0, 4]\n",
      "valami\n"
     ]
    }
   ],
   "source": [
    "print(lista[0]) # lista 1. eleme\n",
    "print(lista[3]) # lista 4. eleme\n",
    "print(lista[-1]) # negatív számokkal hátulról indexeljük a listát, és (-1)-től indul\n",
    "print(lista[-2]) # lista utolsó előtti eleme"
   ]
  },
  {
   "cell_type": "code",
   "execution_count": 13,
   "metadata": {},
   "outputs": [
    {
     "name": "stdout",
     "output_type": "stream",
     "text": [
      "[2, 3, 4, 'valami']\n",
      "[2]\n",
      "[3, 4, 'valami', [1.0, 4]]\n"
     ]
    }
   ],
   "source": [
    "print(lista[1:-1]) # egyszerre több elem [inkluzív:exklúzív módon]\n",
    "print(lista[1:2]) # egyszerre több elem [inkluzív:exklúzív módon]\n",
    "print(lista[2:]) # lista utolsó elemét is figyelembe vesszük"
   ]
  },
  {
   "cell_type": "code",
   "execution_count": 14,
   "metadata": {},
   "outputs": [
    {
     "data": {
      "text/plain": [
       "[0, 1, 1, 2, 3, 4, 9, 64, 89]"
      ]
     },
     "execution_count": 14,
     "metadata": {},
     "output_type": "execute_result"
    }
   ],
   "source": [
    "lista = [2,3,64,89,1,4,9,0,1]\n",
    "\n",
    "lista.sort()\n",
    "lista"
   ]
  },
  {
   "cell_type": "markdown",
   "metadata": {},
   "source": [
    "### if-then-else\n",
    "\n",
    "```python\n",
    "if condition:\n",
    "    instruction1\n",
    "elif condition2:\n",
    "    instruction2\n",
    "else:\n",
    "    intsturction3\n",
    "```"
   ]
  },
  {
   "cell_type": "code",
   "execution_count": 15,
   "metadata": {},
   "outputs": [
    {
     "name": "stdout",
     "output_type": "stream",
     "text": [
      "\"a\" nagyobb mint 3, de kisebb mint 10\n"
     ]
    }
   ],
   "source": [
    "a=4\n",
    "if a<=3:\n",
    "    print('\"a\" nem nagyobb, mint 3')\n",
    "elif a>=10:\n",
    "    print('\"a\" nem kisebb, mint 10')\n",
    "else:\n",
    "    print('\"a\" nagyobb mint 3, de kisebb mint 10')"
   ]
  },
  {
   "cell_type": "markdown",
   "metadata": {},
   "source": [
    "### for ciklus (for loop)\n",
    "```python\n",
    "for i in array:\n",
    "    instruction\n",
    "```"
   ]
  },
  {
   "cell_type": "code",
   "execution_count": 16,
   "metadata": {},
   "outputs": [
    {
     "name": "stdout",
     "output_type": "stream",
     "text": [
      "0\n",
      "1\n",
      "2\n",
      "\n",
      "lista 0. eleme: 0\n",
      "lista 1. eleme: 1\n",
      "lista 2. eleme: 1\n",
      "lista 3. eleme: 2\n",
      "lista 4. eleme: 3\n",
      "lista 5. eleme: 4\n",
      "lista 6. eleme: 9\n",
      "lista 7. eleme: 64\n",
      "lista 8. eleme: 89\n"
     ]
    }
   ],
   "source": [
    "for i in range(3):\n",
    "    print(i)\n",
    "    \n",
    "print()\n",
    "\n",
    "for (i,elem) in enumerate(lista):\n",
    "    print('lista ',i,'. eleme: ',elem,sep='') # több elem printelése egyszerr, szeparátor = ''\n"
   ]
  },
  {
   "cell_type": "markdown",
   "metadata": {},
   "source": [
    "## Listák gyors létrehozása (List comprehension)"
   ]
  },
  {
   "cell_type": "code",
   "execution_count": 17,
   "metadata": {},
   "outputs": [
    {
     "data": {
      "text/plain": [
       "[12, 27, 48]"
      ]
     },
     "execution_count": 17,
     "metadata": {},
     "output_type": "execute_result"
    }
   ],
   "source": [
    "lista2 = [3*i**2 for i in range(2,5)] # range: 2,3,4\n",
    "lista2"
   ]
  },
  {
   "cell_type": "code",
   "execution_count": 18,
   "metadata": {},
   "outputs": [
    {
     "data": {
      "text/plain": [
       "[0, 1, 2, 3, 4, 5, 6, 7, 8, 9]"
      ]
     },
     "execution_count": 18,
     "metadata": {},
     "output_type": "execute_result"
    }
   ],
   "source": [
    "lista3 = list(range(10))\n",
    "lista3"
   ]
  },
  {
   "cell_type": "code",
   "execution_count": 19,
   "metadata": {},
   "outputs": [
    {
     "data": {
      "text/plain": [
       "[12, 48, 75, 147, 192]"
      ]
     },
     "execution_count": 19,
     "metadata": {},
     "output_type": "execute_result"
    }
   ],
   "source": [
    "myfun = lambda x: 3*x**2\n",
    "\n",
    "lista4 = [myfun(i) for i in range(2,10) if i%3 != 0] # ha i nem osztható 3-al\n",
    "lista4"
   ]
  },
  {
   "cell_type": "markdown",
   "metadata": {},
   "source": [
    "# Külső függvénykönyvtárak: <a id='Kulsofuggvenykonyvtarak'></a>"
   ]
  },
  {
   "cell_type": "markdown",
   "metadata": {},
   "source": [
    "A mérnöki gyakorlatban előforduló alapszámításokhoz 2 fő csomag importálása ajánlott:\n",
    "- `sympy`: szimbolikus számításokhoz\n",
    "- `scipy`/`numpy`: numerikus számításokhoz (pl mátrix algebra)\n",
    "- `matplotlib.pyplot`: Függvények ábrázolása\n",
    "A `module`-ok hívása az alábbi módokon történhet\n",
    "- `import` *`modulename`* : importálja az adott `module`-t. Ekkor a `module`-ban lévő függvények hívása a `module.functionname(arguments)` segítségével történik (Az *1_Alapok.ipynb*-ben láthattunk erre példát a `math` `module` esetében).  \n",
    "- `import` *`modulename`* `as` *`alias`* : hasonló az előzőhöz, de megválasztjuk, hogy milyen *alias*-ként hivatkozunk a `module`-unkra\n",
    "- `from` *`modulename`* ` import` *`function1, function2, ...`* : csak bizonyos függvények importálása (nem szükséges a `module`-ra hivatkozni a függvények hívása során)\n",
    "- `from` *`modulename`* ` import *` : a `module` összes függvényének importálása (nem szükséges a `module`-ra hivatkozni a függvények hívása során)\n"
   ]
  },
  {
   "cell_type": "markdown",
   "metadata": {},
   "source": [
    "## Szimbolikus matematikai műveletek <a id='Szimbolikus'></a>"
   ]
  },
  {
   "cell_type": "code",
   "execution_count": 20,
   "metadata": {},
   "outputs": [],
   "source": [
    "import math\n",
    "import sympy as sp\n",
    "import scipy as sc\n",
    "sp.init_printing()"
   ]
  },
  {
   "cell_type": "code",
   "execution_count": 21,
   "metadata": {},
   "outputs": [],
   "source": [
    "F, m, a, b, c, x = sp.symbols(\"F m a b c x\")"
   ]
  },
  {
   "cell_type": "code",
   "execution_count": 22,
   "metadata": {},
   "outputs": [],
   "source": [
    "F=m*a"
   ]
  },
  {
   "cell_type": "code",
   "execution_count": 23,
   "metadata": {},
   "outputs": [
    {
     "data": {
      "image/png": "[encoded data removed]",
      "text/latex": [
       "$$7 m$$"
      ],
      "text/plain": [
       "7⋅m"
      ]
     },
     "execution_count": 23,
     "metadata": {},
     "output_type": "execute_result"
    }
   ],
   "source": [
    "F.subs([(a,7)])"
   ]
  },
  {
   "cell_type": "code",
   "execution_count": 24,
   "metadata": {},
   "outputs": [
    {
     "data": {
      "image/png": "[encoded data removed]",
      "text/latex": [
       "$$7.7$$"
      ],
      "text/plain": [
       "7.70000000000000"
      ]
     },
     "execution_count": 24,
     "metadata": {},
     "output_type": "execute_result"
    }
   ],
   "source": [
    "F.subs([(a,7),(m,1.1)])"
   ]
  },
  {
   "cell_type": "code",
   "execution_count": 25,
   "metadata": {},
   "outputs": [
    {
     "data": {
      "image/png": "[encoded data removed]",
      "text/latex": [
       "$$a^{3} + 3 a^{2} b + 3 a b^{2} + b^{3}$$"
      ],
      "text/plain": [
       " 3      2          2    3\n",
       "a  + 3⋅a ⋅b + 3⋅a⋅b  + b "
      ]
     },
     "execution_count": 25,
     "metadata": {},
     "output_type": "execute_result"
    }
   ],
   "source": [
    "((a+b)**3).expand()"
   ]
  },
  {
   "cell_type": "code",
   "execution_count": 26,
   "metadata": {},
   "outputs": [
    {
     "data": {
      "image/png": "[encoded data removed]",
      "text/latex": [
       "$$a^{7} + 7 a^{6} b + 21 a^{5} b^{2} + 35 a^{4} b^{3} + 35 a^{3} b^{4} - 8 a^{3} + 21 a^{2} b^{5} - 12 a^{2} b + 7 a b^{6} - 6 a b^{2} + b^{7} - b^{3}$$"
      ],
      "text/plain": [
       " 7      6         5  2       4  3       3  4      3       2  5       2        \n",
       "a  + 7⋅a ⋅b + 21⋅a ⋅b  + 35⋅a ⋅b  + 35⋅a ⋅b  - 8⋅a  + 21⋅a ⋅b  - 12⋅a ⋅b + 7⋅a\n",
       "\n",
       "  6        2    7    3\n",
       "⋅b  - 6⋅a⋅b  + b  - b "
      ]
     },
     "execution_count": 26,
     "metadata": {},
     "output_type": "execute_result"
    }
   ],
   "source": [
    "((a+b)**7 - (b+2*a)**3).expand()"
   ]
  },
  {
   "cell_type": "code",
   "execution_count": 27,
   "metadata": {},
   "outputs": [
    {
     "data": {
      "image/png": "[encoded data removed]",
      "text/latex": [
       "$$\\left(a + b\\right)^{2}$$"
      ],
      "text/plain": [
       "       2\n",
       "(a + b) "
      ]
     },
     "execution_count": 27,
     "metadata": {},
     "output_type": "execute_result"
    }
   ],
   "source": [
    "(a**2+b**2+2*a*b).factor()"
   ]
  },
  {
   "cell_type": "code",
   "execution_count": 28,
   "metadata": {},
   "outputs": [
    {
     "data": {
      "image/png": "[encoded data removed]",
      "text/latex": [
       "$$\\left(a + b\\right)^{2}$$"
      ],
      "text/plain": [
       "       2\n",
       "(a + b) "
      ]
     },
     "execution_count": 28,
     "metadata": {},
     "output_type": "execute_result"
    }
   ],
   "source": [
    "sp.factor(a**2+b**2+2*a*b)"
   ]
  },
  {
   "cell_type": "code",
   "execution_count": 29,
   "metadata": {},
   "outputs": [
    {
     "data": {
      "image/png": "[encoded data removed]",
      "text/latex": [
       "$$\\left(a + b\\right)^{3}$$"
      ],
      "text/plain": [
       "       3\n",
       "(a + b) "
      ]
     },
     "execution_count": 29,
     "metadata": {},
     "output_type": "execute_result"
    }
   ],
   "source": [
    "sp.factor(b**3 + 3*a*b**2 + 3*a**2*b + a**3)"
   ]
  },
  {
   "cell_type": "code",
   "execution_count": 30,
   "metadata": {},
   "outputs": [
    {
     "data": {
      "image/png": "[encoded data removed]",
      "text/latex": [
       "$$\\frac{a}{b} + \\frac{c}{b} + \\frac{7}{b}$$"
      ],
      "text/plain": [
       "a   c   7\n",
       "─ + ─ + ─\n",
       "b   b   b"
      ]
     },
     "execution_count": 30,
     "metadata": {},
     "output_type": "execute_result"
    }
   ],
   "source": [
    "a/b+c/b+7/b"
   ]
  },
  {
   "cell_type": "code",
   "execution_count": 31,
   "metadata": {},
   "outputs": [
    {
     "data": {
      "image/png": "[encoded data removed]",
      "text/latex": [
       "$$\\frac{a + c + 7}{b}$$"
      ],
      "text/plain": [
       "a + c + 7\n",
       "─────────\n",
       "    b    "
      ]
     },
     "execution_count": 31,
     "metadata": {},
     "output_type": "execute_result"
    }
   ],
   "source": [
    "sp.ratsimp(a/b+c/b+7/b)"
   ]
  },
  {
   "cell_type": "code",
   "execution_count": 32,
   "metadata": {},
   "outputs": [
    {
     "data": {
      "image/png": "[encoded data removed]",
      "text/latex": [
       "$$\\frac{a + c + 7}{b}$$"
      ],
      "text/plain": [
       "a + c + 7\n",
       "─────────\n",
       "    b    "
      ]
     },
     "execution_count": 32,
     "metadata": {},
     "output_type": "execute_result"
    }
   ],
   "source": [
    "(a/b+c/b+7/b).ratsimp()"
   ]
  },
  {
   "cell_type": "code",
   "execution_count": 33,
   "metadata": {},
   "outputs": [
    {
     "data": {
      "image/png": "[encoded data removed]",
      "text/latex": [
       "$$1$$"
      ],
      "text/plain": [
       "1"
      ]
     },
     "execution_count": 33,
     "metadata": {},
     "output_type": "execute_result"
    }
   ],
   "source": [
    "(sp.sin(x)**2 + sp.cos(x)**2).simplify()"
   ]
  },
  {
   "cell_type": "code",
   "execution_count": 34,
   "metadata": {},
   "outputs": [
    {
     "data": {
      "image/png": "[encoded data removed]",
      "text/latex": [
       "$$\\cos{\\left (2 x \\right )}$$"
      ],
      "text/plain": [
       "cos(2⋅x)"
      ]
     },
     "execution_count": 34,
     "metadata": {},
     "output_type": "execute_result"
    }
   ],
   "source": [
    "(sp.cos(2*x)).expand()"
   ]
  },
  {
   "cell_type": "code",
   "execution_count": 35,
   "metadata": {},
   "outputs": [
    {
     "data": {
      "image/png": "[encoded data removed]",
      "text/latex": [
       "$$2 \\cos^{2}{\\left (x \\right )} - 1$$"
      ],
      "text/plain": [
       "     2       \n",
       "2⋅cos (x) - 1"
      ]
     },
     "execution_count": 35,
     "metadata": {},
     "output_type": "execute_result"
    }
   ],
   "source": [
    "sp.expand_trig(sp.cos(2*x))"
   ]
  },
  {
   "cell_type": "code",
   "execution_count": 36,
   "metadata": {},
   "outputs": [],
   "source": [
    "import scipy.constants"
   ]
  },
  {
   "cell_type": "code",
   "execution_count": 37,
   "metadata": {},
   "outputs": [
    {
     "data": {
      "image/png": "[encoded data removed]",
      "text/latex": [
       "$$1.618033988749895$$"
      ],
      "text/plain": [
       "1.618033988749895"
      ]
     },
     "execution_count": 37,
     "metadata": {},
     "output_type": "execute_result"
    }
   ],
   "source": [
    "sc.constants.golden"
   ]
  },
  {
   "cell_type": "code",
   "execution_count": 38,
   "metadata": {},
   "outputs": [
    {
     "ename": "TypeError",
     "evalue": "can't convert complex to float",
     "output_type": "error",
     "traceback": [
      "\u001b[0;31m---------------------------------------------------------------------------\u001b[0m",
      "\u001b[0;31mTypeError\u001b[0m                                 Traceback (most recent call last)",
      "\u001b[0;32m<ipython-input-38-2f48549c8254>\u001b[0m in \u001b[0;36m<module>\u001b[0;34m\u001b[0m\n\u001b[0;32m----> 1\u001b[0;31m \u001b[0mmath\u001b[0m\u001b[0;34m.\u001b[0m\u001b[0msqrt\u001b[0m\u001b[0;34m(\u001b[0m\u001b[0;34m-\u001b[0m\u001b[0;36m1\u001b[0m\u001b[0;34m+\u001b[0m\u001b[0;36m0j\u001b[0m\u001b[0;34m)\u001b[0m\u001b[0;34m\u001b[0m\u001b[0;34m\u001b[0m\u001b[0m\n\u001b[0m",
      "\u001b[0;31mTypeError\u001b[0m: can't convert complex to float"
     ]
    }
   ],
   "source": [
    "math.sqrt(-1+0j)"
   ]
  },
  {
   "cell_type": "code",
   "execution_count": null,
   "metadata": {},
   "outputs": [],
   "source": [
    "sc.sqrt(-1+0j)"
   ]
  },
  {
   "cell_type": "code",
   "execution_count": null,
   "metadata": {},
   "outputs": [],
   "source": [
    "sp.limit(sp.sin(x)/x,x,0)"
   ]
  },
  {
   "cell_type": "markdown",
   "metadata": {},
   "source": [
    "\n",
    "Taylor-sor megadása. Első paraméter a függvény, második a változó, harmadik az érték ami körül akarjuk a sort kifejteni, negyedik pedig a fokszám:\n",
    "\n",
    "$$f\\left(x\\right) \\approx \\sum\\limits_{i=0}^{N} \\dfrac{\\left(x - x_0\\right)^i}{i!} \\left.\\dfrac{\\mathrm{d}^i f}{\\mathrm{d} x^i}\\right|_{x = x_0}$$"
   ]
  },
  {
   "cell_type": "code",
   "execution_count": null,
   "metadata": {},
   "outputs": [],
   "source": [
    "sp.series(sp.sin(x),x,0,20)"
   ]
  },
  {
   "cell_type": "markdown",
   "metadata": {},
   "source": [
    "### Deriválás/Integrálás <a id='DerivalIntegral'></a>"
   ]
  },
  {
   "cell_type": "code",
   "execution_count": null,
   "metadata": {},
   "outputs": [],
   "source": [
    "a,Δt,x = sp.symbols('a,Δt,x')"
   ]
  },
  {
   "cell_type": "markdown",
   "metadata": {},
   "source": [
    "Deriválás"
   ]
  },
  {
   "cell_type": "code",
   "execution_count": 39,
   "metadata": {},
   "outputs": [
    {
     "data": {
      "image/png": "[encoded data removed]",
      "text/latex": [
       "$$3 x^{2} \\cos{\\left (x^{3} \\right )}$$"
      ],
      "text/plain": [
       "   2    ⎛ 3⎞\n",
       "3⋅x ⋅cos⎝x ⎠"
      ]
     },
     "execution_count": 39,
     "metadata": {},
     "output_type": "execute_result"
    }
   ],
   "source": [
    "sp.diff(sp.sin(x**3),x)"
   ]
  },
  {
   "cell_type": "markdown",
   "metadata": {},
   "source": [
    "Többszöri deriválás"
   ]
  },
  {
   "cell_type": "code",
   "execution_count": 40,
   "metadata": {},
   "outputs": [
    {
     "data": {
      "image/png": "[encoded data removed]",
      "text/latex": [
       "$$3 \\left(- 9 x^{6} \\cos{\\left (x^{3} \\right )} - 18 x^{3} \\sin{\\left (x^{3} \\right )} + 2 \\cos{\\left (x^{3} \\right )}\\right)$$"
      ],
      "text/plain": [
       "  ⎛     6    ⎛ 3⎞       3    ⎛ 3⎞        ⎛ 3⎞⎞\n",
       "3⋅⎝- 9⋅x ⋅cos⎝x ⎠ - 18⋅x ⋅sin⎝x ⎠ + 2⋅cos⎝x ⎠⎠"
      ]
     },
     "execution_count": 40,
     "metadata": {},
     "output_type": "execute_result"
    }
   ],
   "source": [
    "sp.diff(sp.sin(x**3),x,3)"
   ]
  },
  {
   "cell_type": "markdown",
   "metadata": {},
   "source": [
    "Integrálás"
   ]
  },
  {
   "cell_type": "code",
   "execution_count": 41,
   "metadata": {},
   "outputs": [
    {
     "data": {
      "image/png": "[encoded data removed]",
      "text/latex": [
       "$$\\log{\\left (x + 1 \\right )}$$"
      ],
      "text/plain": [
       "log(x + 1)"
      ]
     },
     "execution_count": 41,
     "metadata": {},
     "output_type": "execute_result"
    }
   ],
   "source": [
    "sp.integrate(1/(1+x),x)"
   ]
  },
  {
   "cell_type": "markdown",
   "metadata": {},
   "source": [
    "Határozott integrál"
   ]
  },
  {
   "cell_type": "code",
   "execution_count": 42,
   "metadata": {},
   "outputs": [
    {
     "data": {
      "image/png": "[encoded data removed]",
      "text/latex": [
       "$$- \\log{\\left (2 \\right )} + \\log{\\left (3 \\right )}$$"
      ],
      "text/plain": [
       "-log(2) + log(3)"
      ]
     },
     "execution_count": 42,
     "metadata": {},
     "output_type": "execute_result"
    }
   ],
   "source": [
    "sp.integrate(1/(1+x),(x,1,2))"
   ]
  },
  {
   "cell_type": "code",
   "execution_count": 43,
   "metadata": {},
   "outputs": [],
   "source": [
    "a = sp.Symbol('a')"
   ]
  },
  {
   "cell_type": "code",
   "execution_count": 44,
   "metadata": {},
   "outputs": [
    {
     "data": {
      "image/png": "[encoded data removed]",
      "text/latex": [
       "$$- \\frac{\\sqrt{- \\frac{1}{a}} \\log{\\left (- a \\sqrt{- \\frac{1}{a}} + x \\right )}}{2} + \\frac{\\sqrt{- \\frac{1}{a}} \\log{\\left (a \\sqrt{- \\frac{1}{a}} + x \\right )}}{2}$$"
      ],
      "text/plain": [
       "      _____    ⎛        _____    ⎞       _____    ⎛      _____    ⎞\n",
       "     ╱ -1      ⎜       ╱ -1      ⎟      ╱ -1      ⎜     ╱ -1      ⎟\n",
       "    ╱  ─── ⋅log⎜- a⋅  ╱  ───  + x⎟     ╱  ─── ⋅log⎜a⋅  ╱  ───  + x⎟\n",
       "  ╲╱    a      ⎝    ╲╱    a      ⎠   ╲╱    a      ⎝  ╲╱    a      ⎠\n",
       "- ──────────────────────────────── + ──────────────────────────────\n",
       "                 2                                 2               "
      ]
     },
     "execution_count": 44,
     "metadata": {},
     "output_type": "execute_result"
    }
   ],
   "source": [
    "sp.integrate(1/(x**2 + a),x)"
   ]
  },
  {
   "cell_type": "markdown",
   "metadata": {},
   "source": [
    "Láncszabályt is ismeri a szoftver"
   ]
  },
  {
   "cell_type": "code",
   "execution_count": 45,
   "metadata": {},
   "outputs": [],
   "source": [
    "y = sp.Symbol('y')\n",
    "def f(x):\n",
    "    return x**2\n",
    "def g(y):\n",
    "    return sp.sin(y)"
   ]
  },
  {
   "cell_type": "code",
   "execution_count": 46,
   "metadata": {},
   "outputs": [
    {
     "data": {
      "image/png": "[encoded data removed]",
      "text/latex": [
       "$$\\sin^{2}{\\left (y \\right )}$$"
      ],
      "text/plain": [
       "   2   \n",
       "sin (y)"
      ]
     },
     "execution_count": 46,
     "metadata": {},
     "output_type": "execute_result"
    }
   ],
   "source": [
    "f(g(y))"
   ]
  },
  {
   "cell_type": "code",
   "execution_count": 47,
   "metadata": {},
   "outputs": [
    {
     "data": {
      "image/png": "[encoded data removed]",
      "text/latex": [
       "$$2 \\sin{\\left (y \\right )} \\cos{\\left (y \\right )}$$"
      ],
      "text/plain": [
       "2⋅sin(y)⋅cos(y)"
      ]
     },
     "execution_count": 47,
     "metadata": {},
     "output_type": "execute_result"
    }
   ],
   "source": [
    "sp.diff(f(g(y)),y)"
   ]
  },
  {
   "cell_type": "code",
   "execution_count": 48,
   "metadata": {},
   "outputs": [
    {
     "data": {
      "image/png": "[encoded data removed]",
      "text/latex": [
       "$$2 x \\cos{\\left (x^{2} \\right )}$$"
      ],
      "text/plain": [
       "       ⎛ 2⎞\n",
       "2⋅x⋅cos⎝x ⎠"
      ]
     },
     "execution_count": 48,
     "metadata": {},
     "output_type": "execute_result"
    }
   ],
   "source": [
    "sp.diff(g(f(x)),x)"
   ]
  },
  {
   "cell_type": "markdown",
   "metadata": {},
   "source": [
    "Sok esetben nem létezik zárt alakú kifejezés a határozatlan integrálhoz. Ebben az esetben használhatjuk a [numerikus integrálást](https://en.wikipedia.org/wiki/Numerical_integration) a határozott integrál számításához:"
   ]
  },
  {
   "cell_type": "code",
   "execution_count": 49,
   "metadata": {},
   "outputs": [
    {
     "data": {
      "image/png": "[encoded data removed]",
      "text/latex": [
       "$$\\int \\sin{\\left (\\cos{\\left (x \\right )} \\right )}\\, dx$$"
      ],
      "text/plain": [
       "⌠               \n",
       "⎮ sin(cos(x)) dx\n",
       "⌡               "
      ]
     },
     "execution_count": 49,
     "metadata": {},
     "output_type": "execute_result"
    }
   ],
   "source": [
    "sp.integrate(sp.sin(sp.cos(x)),x)"
   ]
  },
  {
   "cell_type": "markdown",
   "metadata": {},
   "source": [
    "[numerikus intágráls SymPy-vel](https://docs.sympy.org/latest/modules/integrals/integrals.html#numeric-integrals)\n",
    "\n",
    "nem triviális"
   ]
  },
  {
   "cell_type": "markdown",
   "metadata": {},
   "source": [
    "## Vektor- és mátrixszámítások *sympy*-ban <a id='SzimVektorMatrix'></a>\n",
    "Kisebb méretek esetén, amelyek akár szimbolikus számokat is tartalmaznak"
   ]
  },
  {
   "cell_type": "code",
   "execution_count": 50,
   "metadata": {},
   "outputs": [],
   "source": [
    "v1= sp.Matrix([2.,3.,4.]) # oszlopvektor\n",
    "v2= sp.Matrix([[3.,-2.,-7.]]) # sorvektor (még 1 szögletes zárójel)\n",
    "mx1 = sp.Matrix([[1.,2.,3.],[2.,0.,4.],[3.,4.,1.]])\n",
    "mx2 = sp.Matrix([[1.,2.,3.],[4.,5.,6.],[7.,8.,9.]])\n",
    "EM = sp.eye(3) # egységmátrix"
   ]
  },
  {
   "cell_type": "code",
   "execution_count": 51,
   "metadata": {},
   "outputs": [
    {
     "data": {
      "image/png": "[encoded data removed]",
      "text/latex": [
       "$$\\left[\\begin{matrix}2.0\\\\3.0\\\\4.0\\end{matrix}\\right]$$"
      ],
      "text/plain": [
       "⎡2.0⎤\n",
       "⎢   ⎥\n",
       "⎢3.0⎥\n",
       "⎢   ⎥\n",
       "⎣4.0⎦"
      ]
     },
     "execution_count": 51,
     "metadata": {},
     "output_type": "execute_result"
    }
   ],
   "source": [
    "v1"
   ]
  },
  {
   "cell_type": "code",
   "execution_count": 52,
   "metadata": {},
   "outputs": [
    {
     "data": {
      "image/png": "[encoded data removed]",
      "text/latex": [
       "$$\\left[\\begin{matrix}3.0 & -2.0 & -7.0\\end{matrix}\\right]$$"
      ],
      "text/plain": [
       "[3.0  -2.0  -7.0]"
      ]
     },
     "execution_count": 52,
     "metadata": {},
     "output_type": "execute_result"
    }
   ],
   "source": [
    "v2"
   ]
  },
  {
   "cell_type": "code",
   "execution_count": 53,
   "metadata": {},
   "outputs": [
    {
     "data": {
      "image/png": "[encoded data removed]",
      "text/latex": [
       "$$\\left[\\begin{matrix}-28.0\\end{matrix}\\right]$$"
      ],
      "text/plain": [
       "[-28.0]"
      ]
     },
     "execution_count": 53,
     "metadata": {},
     "output_type": "execute_result"
    }
   ],
   "source": [
    "v2.multiply(v1)"
   ]
  },
  {
   "cell_type": "code",
   "execution_count": 54,
   "metadata": {},
   "outputs": [
    {
     "data": {
      "image/png": "[encoded data removed]",
      "text/latex": [
       "$$\\left[\\begin{matrix}20.0\\\\47.0\\\\74.0\\end{matrix}\\right]$$"
      ],
      "text/plain": [
       "⎡20.0⎤\n",
       "⎢    ⎥\n",
       "⎢47.0⎥\n",
       "⎢    ⎥\n",
       "⎣74.0⎦"
      ]
     },
     "execution_count": 54,
     "metadata": {},
     "output_type": "execute_result"
    }
   ],
   "source": [
    "mx2.multiply(v1)"
   ]
  },
  {
   "cell_type": "code",
   "execution_count": 55,
   "metadata": {},
   "outputs": [
    {
     "data": {
      "image/png": "[encoded data removed]",
      "text/latex": [
       "$$\\left[\\begin{matrix}-54.0 & -60.0 & -66.0\\end{matrix}\\right]$$"
      ],
      "text/plain": [
       "[-54.0  -60.0  -66.0]"
      ]
     },
     "execution_count": 55,
     "metadata": {},
     "output_type": "execute_result"
    }
   ],
   "source": [
    "v2.multiply(mx2)"
   ]
  },
  {
   "cell_type": "code",
   "execution_count": 56,
   "metadata": {},
   "outputs": [
    {
     "data": {
      "image/png": "[encoded data removed]",
      "text/latex": [
       "$$\\left[\\begin{matrix}1 & 0 & 0\\\\0 & 1 & 0\\\\0 & 0 & 1\\end{matrix}\\right]$$"
      ],
      "text/plain": [
       "⎡1  0  0⎤\n",
       "⎢       ⎥\n",
       "⎢0  1  0⎥\n",
       "⎢       ⎥\n",
       "⎣0  0  1⎦"
      ]
     },
     "execution_count": 56,
     "metadata": {},
     "output_type": "execute_result"
    }
   ],
   "source": [
    "EM"
   ]
  },
  {
   "cell_type": "code",
   "execution_count": 57,
   "metadata": {},
   "outputs": [
    {
     "data": {
      "image/png": "[encoded data removed]",
      "text/latex": [
       "$$\\left \\{ \\frac{2}{3} + \\left(- \\frac{1}{2} - \\frac{\\sqrt{3} i}{2}\\right) \\sqrt[3]{\\frac{638}{27} + \\frac{22 \\sqrt{7} i}{3}} + \\frac{88}{9 \\left(- \\frac{1}{2} - \\frac{\\sqrt{3} i}{2}\\right) \\sqrt[3]{\\frac{638}{27} + \\frac{22 \\sqrt{7} i}{3}}} : 1, \\quad \\frac{2}{3} + \\frac{88}{9 \\left(- \\frac{1}{2} + \\frac{\\sqrt{3} i}{2}\\right) \\sqrt[3]{\\frac{638}{27} + \\frac{22 \\sqrt{7} i}{3}}} + \\left(- \\frac{1}{2} + \\frac{\\sqrt{3} i}{2}\\right) \\sqrt[3]{\\frac{638}{27} + \\frac{22 \\sqrt{7} i}{3}} : 1, \\quad \\frac{2}{3} + \\frac{88}{9 \\sqrt[3]{\\frac{638}{27} + \\frac{22 \\sqrt{7} i}{3}}} + \\sqrt[3]{\\frac{638}{27} + \\frac{22 \\sqrt{7} i}{3}} : 1\\right \\}$$"
      ],
      "text/plain": [
       "⎧                     _______________                                         \n",
       "⎪2   ⎛  1   √3⋅ⅈ⎞    ╱ 638   22⋅√7⋅ⅈ                    88                    \n",
       "⎪─ + ⎜- ─ - ────⎟⋅3 ╱  ─── + ───────  + ──────────────────────────────────: 1,\n",
       "⎨3   ⎝  2    2  ⎠ ╲╱    27      3                          _______________    \n",
       "⎪                                         ⎛  1   √3⋅ⅈ⎞    ╱ 638   22⋅√7⋅ⅈ     \n",
       "⎪                                       9⋅⎜- ─ - ────⎟⋅3 ╱  ─── + ───────     \n",
       "⎩                                         ⎝  2    2  ⎠ ╲╱    27      3        \n",
       "\n",
       "                                                           _______________    \n",
       " 2                   88                   ⎛  1   √3⋅ⅈ⎞    ╱ 638   22⋅√7⋅ⅈ     \n",
       " ─ + ────────────────────────────────── + ⎜- ─ + ────⎟⋅3 ╱  ─── + ─────── : 1,\n",
       " 3                      _______________   ⎝  2    2  ⎠ ╲╱    27      3        \n",
       "       ⎛  1   √3⋅ⅈ⎞    ╱ 638   22⋅√7⋅ⅈ                                        \n",
       "     9⋅⎜- ─ + ────⎟⋅3 ╱  ─── + ───────                                        \n",
       "       ⎝  2    2  ⎠ ╲╱    27      3                                           \n",
       "\n",
       "                                 _______________   ⎫\n",
       " 2             88               ╱ 638   22⋅√7⋅ⅈ    ⎪\n",
       " ─ + ───────────────────── + 3 ╱  ─── + ─────── : 1⎪\n",
       " 3         _______________   ╲╱    27      3       ⎬\n",
       "          ╱ 638   22⋅√7⋅ⅈ                          ⎪\n",
       "     9⋅3 ╱  ─── + ───────                          ⎪\n",
       "       ╲╱    27      3                             ⎭"
      ]
     },
     "execution_count": 57,
     "metadata": {},
     "output_type": "execute_result"
    }
   ],
   "source": [
    "mx1.eigenvals() # sajátértékek és multiplicitásuk (racionális számokkal)"
   ]
  },
  {
   "cell_type": "code",
   "execution_count": 58,
   "metadata": {},
   "outputs": [
    {
     "data": {
      "image/png": "[encoded data removed]",
      "text/latex": [
       "$$\\left \\{ -3.6088213318864 : 1, \\quad -1.14824478501694 : 1, \\quad 6.75706611690333 : 1\\right \\}$$"
      ],
      "text/plain": [
       "{-3.6088213318864: 1, -1.14824478501694: 1, 6.75706611690333: 1}"
      ]
     },
     "execution_count": 58,
     "metadata": {},
     "output_type": "execute_result"
    }
   ],
   "source": [
    "mx1.eigenvals(rational=False) # sajátértékek numerikusan"
   ]
  },
  {
   "cell_type": "code",
   "execution_count": 59,
   "metadata": {},
   "outputs": [
    {
     "data": {
      "image/png": "[encoded data removed]",
      "text/latex": [
       "$$\\left [ \\left ( -1.14824478501694 - 4.0 \\cdot 10^{-22} i, \\quad 1, \\quad \\left [ \\left[\\begin{matrix}-2.97091106940601 + 8.63097165400352 \\cdot 10^{-30} i\\\\1.69112210580027 + 2.15792503714448 \\cdot 10^{-24} i\\\\1.0\\end{matrix}\\right]\\right ]\\right ), \\quad \\left ( -3.6088213318864 + 2.0 \\cdot 10^{-22} i, \\quad 1, \\quad \\left [ \\left[\\begin{matrix}-0.223746963816259 + 3.60331665052925 \\cdot 10^{-31} i\\\\-0.984395110109405 + 1.30961555945332 \\cdot 10^{-25} i\\\\1.0\\end{matrix}\\right]\\right ]\\right ), \\quad \\left ( 6.75706611690333 - 7.0 \\cdot 10^{-21} i, \\quad 1, \\quad \\left [ \\left[\\begin{matrix}0.810042648606886 + 4.63282092154982 \\cdot 10^{-32} i\\\\0.831734542770669 + 4.74016880491627 \\cdot 10^{-26} i\\\\1.0\\end{matrix}\\right]\\right ]\\right )\\right ]$$"
      ],
      "text/plain": [
       "⎡⎛                                 ⎡⎡-2.97091106940601 + 8.63097165400352e-30⋅\n",
       "⎢⎜                                 ⎢⎢                                         \n",
       "⎢⎜-1.14824478501694 - 0.e-22⋅ⅈ, 1, ⎢⎢1.69112210580027 + 2.15792503714448e-24⋅ⅈ\n",
       "⎢⎜                                 ⎢⎢                                         \n",
       "⎣⎝                                 ⎣⎣                   1.0                   \n",
       "\n",
       "ⅈ⎤⎤⎞  ⎛                                ⎡⎡-0.223746963816259 + 3.60331665052925\n",
       " ⎥⎥⎟  ⎜                                ⎢⎢                                     \n",
       " ⎥⎥⎟, ⎜-3.6088213318864 + 0.e-22⋅ⅈ, 1, ⎢⎢-0.984395110109405 + 1.30961555945332\n",
       " ⎥⎥⎟  ⎜                                ⎢⎢                                     \n",
       " ⎦⎦⎠  ⎝                                ⎣⎣                    1.0              \n",
       "\n",
       "e-31⋅ⅈ⎤⎤⎞  ⎛                                ⎡⎡0.810042648606886 + 4.6328209215\n",
       "      ⎥⎥⎟  ⎜                                ⎢⎢                                \n",
       "e-25⋅ⅈ⎥⎥⎟, ⎜6.75706611690333 - 0.e-20⋅ⅈ, 1, ⎢⎢0.831734542770669 + 4.7401688049\n",
       "      ⎥⎥⎟  ⎜                                ⎢⎢                                \n",
       "      ⎦⎦⎠  ⎝                                ⎣⎣                   1.0          \n",
       "\n",
       "4982e-32⋅ⅈ⎤⎤⎞⎤\n",
       "          ⎥⎥⎟⎥\n",
       "1627e-26⋅ⅈ⎥⎥⎟⎥\n",
       "          ⎥⎥⎟⎥\n",
       "          ⎦⎦⎠⎦"
      ]
     },
     "execution_count": 59,
     "metadata": {},
     "output_type": "execute_result"
    }
   ],
   "source": [
    "mx1.eigenvects() # sajátvektorok numerikusan"
   ]
  },
  {
   "cell_type": "code",
   "execution_count": 60,
   "metadata": {},
   "outputs": [
    {
     "data": {
      "image/png": "[encoded data removed]",
      "text/latex": [
       "$$28.0$$"
      ],
      "text/plain": [
       "28.0000000000000"
      ]
     },
     "execution_count": 60,
     "metadata": {},
     "output_type": "execute_result"
    }
   ],
   "source": [
    "mx1.det() # mx1 determinánsa"
   ]
  },
  {
   "cell_type": "code",
   "execution_count": 61,
   "metadata": {},
   "outputs": [
    {
     "data": {
      "image/png": "[encoded data removed]",
      "text/latex": [
       "$$\\left[\\begin{matrix}Ix & - Ixy\\\\- Ixy & Iy\\end{matrix}\\right]$$"
      ],
      "text/plain": [
       "⎡ Ix   -Ixy⎤\n",
       "⎢          ⎥\n",
       "⎣-Ixy   Iy ⎦"
      ]
     },
     "metadata": {},
     "output_type": "display_data"
    },
    {
     "name": "stdout",
     "output_type": "stream",
     "text": [
      "\n",
      " Sajátértékek, vektorok: \n",
      "\n"
     ]
    },
    {
     "data": {
      "image/png": "[encoded data removed]",
      "text/latex": [
       "$$\\left [ \\left ( \\frac{Ix}{2} + \\frac{Iy}{2} - \\frac{\\sqrt{Ix^{2} - 2 Ix Iy + 4 Ixy^{2} + Iy^{2}}}{2}, \\quad 1, \\quad \\left [ \\left[\\begin{matrix}\\frac{Ixy}{\\frac{Ix}{2} - \\frac{Iy}{2} + \\frac{\\sqrt{Ix^{2} - 2 Ix Iy + 4 Ixy^{2} + Iy^{2}}}{2}}\\\\1\\end{matrix}\\right]\\right ]\\right ), \\quad \\left ( \\frac{Ix}{2} + \\frac{Iy}{2} + \\frac{\\sqrt{Ix^{2} - 2 Ix Iy + 4 Ixy^{2} + Iy^{2}}}{2}, \\quad 1, \\quad \\left [ \\left[\\begin{matrix}\\frac{Ixy}{\\frac{Ix}{2} - \\frac{Iy}{2} - \\frac{\\sqrt{Ix^{2} - 2 Ix Iy + 4 Ixy^{2} + Iy^{2}}}{2}}\\\\1\\end{matrix}\\right]\\right ]\\right )\\right ]$$"
      ],
      "text/plain": [
       "⎡⎛                                                ⎡⎡                    Ixy   \n",
       "⎢⎜             ______________________________     ⎢⎢──────────────────────────\n",
       "⎢⎜            ╱   2                  2     2      ⎢⎢             _____________\n",
       "⎢⎜Ix   Iy   ╲╱  Ix  - 2⋅Ix⋅Iy + 4⋅Ixy  + Iy       ⎢⎢            ╱   2         \n",
       "⎢⎜── + ── - ─────────────────────────────────, 1, ⎢⎢Ix   Iy   ╲╱  Ix  - 2⋅Ix⋅I\n",
       "⎢⎜2    2                    2                     ⎢⎢── - ── + ────────────────\n",
       "⎢⎜                                                ⎢⎢2    2                    \n",
       "⎢⎜                                                ⎢⎢                          \n",
       "⎣⎝                                                ⎣⎣                     1    \n",
       "\n",
       "                 ⎤⎤⎞  ⎛                                                ⎡⎡     \n",
       "─────────────────⎥⎥⎟  ⎜             ______________________________     ⎢⎢─────\n",
       "_________________⎥⎥⎟  ⎜            ╱   2                  2     2      ⎢⎢     \n",
       "         2     2 ⎥⎥⎟  ⎜Ix   Iy   ╲╱  Ix  - 2⋅Ix⋅Iy + 4⋅Ixy  + Iy       ⎢⎢     \n",
       "y + 4⋅Ixy  + Iy  ⎥⎥⎟, ⎜── + ── + ─────────────────────────────────, 1, ⎢⎢Ix   \n",
       "─────────────────⎥⎥⎟  ⎜2    2                    2                     ⎢⎢── - \n",
       "2                ⎥⎥⎟  ⎜                                                ⎢⎢2    \n",
       "                 ⎥⎥⎟  ⎜                                                ⎢⎢     \n",
       "                 ⎦⎦⎠  ⎝                                                ⎣⎣     \n",
       "\n",
       "               Ixy                    ⎤⎤⎞⎤\n",
       "──────────────────────────────────────⎥⎥⎟⎥\n",
       "        ______________________________⎥⎥⎟⎥\n",
       "       ╱   2                  2     2 ⎥⎥⎟⎥\n",
       "Iy   ╲╱  Ix  - 2⋅Ix⋅Iy + 4⋅Ixy  + Iy  ⎥⎥⎟⎥\n",
       "── - ─────────────────────────────────⎥⎥⎟⎥\n",
       "2                    2                ⎥⎥⎟⎥\n",
       "                                      ⎥⎥⎟⎥\n",
       "                1                     ⎦⎦⎠⎦"
      ]
     },
     "execution_count": 61,
     "metadata": {},
     "output_type": "execute_result"
    }
   ],
   "source": [
    "Ix,Iy,Ixy = sp.symbols('Ix,Iy,Ixy')\n",
    "mxSP=sp.Matrix([[Ix,-Ixy],[-Ixy,Iy]])\n",
    "display(mxSP)\n",
    "\n",
    "print('\\n Sajátértékek, vektorok: \\n')\n",
    "mxSP.eigenvects()"
   ]
  },
  {
   "cell_type": "code",
   "execution_count": 62,
   "metadata": {},
   "outputs": [
    {
     "data": {
      "image/png": "[encoded data removed]",
      "text/latex": [
       "$$\\left[\\begin{matrix}Ix & 0\\\\0 & Iy\\end{matrix}\\right]$$"
      ],
      "text/plain": [
       "⎡Ix  0 ⎤\n",
       "⎢      ⎥\n",
       "⎣0   Iy⎦"
      ]
     },
     "metadata": {},
     "output_type": "display_data"
    },
    {
     "name": "stdout",
     "output_type": "stream",
     "text": [
      "\n",
      " Sajátértékek, vektorok: \n",
      "\n"
     ]
    },
    {
     "data": {
      "image/png": "[encoded data removed]",
      "text/latex": [
       "$$\\left [ \\left ( Ix, \\quad 1, \\quad \\left [ \\left[\\begin{matrix}1\\\\0\\end{matrix}\\right]\\right ]\\right ), \\quad \\left ( Iy, \\quad 1, \\quad \\left [ \\left[\\begin{matrix}0\\\\1\\end{matrix}\\right]\\right ]\\right )\\right ]$$"
      ],
      "text/plain": [
       "⎡⎛       ⎡⎡1⎤⎤⎞  ⎛       ⎡⎡0⎤⎤⎞⎤\n",
       "⎢⎜Ix, 1, ⎢⎢ ⎥⎥⎟, ⎜Iy, 1, ⎢⎢ ⎥⎥⎟⎥\n",
       "⎣⎝       ⎣⎣0⎦⎦⎠  ⎝       ⎣⎣1⎦⎦⎠⎦"
      ]
     },
     "execution_count": 62,
     "metadata": {},
     "output_type": "execute_result"
    }
   ],
   "source": [
    "mxSP=sp.Matrix([[Ix,0],[0,Iy]])\n",
    "display(mxSP)\n",
    "\n",
    "print('\\n Sajátértékek, vektorok: \\n')\n",
    "mxSP.eigenvects()"
   ]
  },
  {
   "cell_type": "markdown",
   "metadata": {},
   "source": [
    "## Vektor- és mátrixszámítások *scipy*-ban  <a id='NumVektorMatrix'></a>\n",
    "Nagy mátrixok és vektorok esetén érdemes ezt használni, vagy ha sok numerikus adattal dolgozik az ember. Továbbá a sajátérték-sajátvektor számítások is jobban megoldott ebben a csomagban"
   ]
  },
  {
   "cell_type": "code",
   "execution_count": 63,
   "metadata": {},
   "outputs": [],
   "source": [
    "import sympy as sp\n",
    "import scipy as sc\n",
    "import scipy.linalg"
   ]
  },
  {
   "cell_type": "code",
   "execution_count": 64,
   "metadata": {},
   "outputs": [],
   "source": [
    "v1= sc.array([2.,3.,4.])\n",
    "v2= sc.array([3.,-2.,-7.])\n",
    "mx1 = sc.array([[1.,2.,3.],[2.,0.,4.],[3.,4.,1.]])\n",
    "mx2 = sc.array([[1.,2.,3.],[4.,5.,6.],[7.,8.,9.]])"
   ]
  },
  {
   "cell_type": "code",
   "execution_count": 65,
   "metadata": {},
   "outputs": [
    {
     "name": "stdout",
     "output_type": "stream",
     "text": [
      "[20. 47. 74.]\n",
      "[42. 51. 60.]\n",
      "[-13.  26. -13.]\n"
     ]
    }
   ],
   "source": [
    "print( sc.dot(mx2,v1) )  # skalár szorat mx2*v1\n",
    "print( sc.dot(v1,mx2) )  # skalár szorat transpose(v1)*mx2\n",
    "print( sc.cross(v1,v2) ) # keresztszorzat v1×v2"
   ]
  },
  {
   "cell_type": "code",
   "execution_count": 66,
   "metadata": {},
   "outputs": [
    {
     "name": "stdout",
     "output_type": "stream",
     "text": [
      "1. sajátérték és -vektor:\n",
      "λ = 6.76; v = [0.529, 0.834, -0.157]\n",
      "\n",
      "2. sajátérték és -vektor:\n",
      "λ = -1.15; v = [0.543, -0.475, -0.693]\n",
      "\n",
      "3. sajátérték és -vektor:\n",
      "λ = -3.61; v = [0.653, -0.281, 0.704]\n",
      "\n"
     ]
    }
   ],
   "source": [
    "(λ,V) = sc.linalg.eig(mx1) # Mátrix sajátértékei, sajátvektorai a λ és a V változókban\n",
    "\n",
    "# kiíratás 2 értékes tizedes jeggyel és for ciklusra példa\n",
    "for (i,v) in enumerate(V):\n",
    "    print(i+1, '. sajátérték és -vektor:',sep='')\n",
    "    print('λ = ', sp.N(λ[i],3), '; v = ', [sp.N(e,3) for e in v], sep='', end='\\n\\n')"
   ]
  },
  {
   "cell_type": "markdown",
   "metadata": {},
   "source": [
    "Figyeljük meg, hogy míg a sympy a sajátvektor utolsó koordinátáját 1-nek választja, addig a scipy a sajátvektorokat 1-re normálja!"
   ]
  },
  {
   "cell_type": "markdown",
   "metadata": {},
   "source": [
    "## Egyenletek megoldása  <a id='Egyenletek'></a>"
   ]
  },
  {
   "cell_type": "code",
   "execution_count": 67,
   "metadata": {},
   "outputs": [],
   "source": [
    "x, y, z = sp.symbols(\"x y z\")"
   ]
  },
  {
   "cell_type": "code",
   "execution_count": 68,
   "metadata": {},
   "outputs": [],
   "source": [
    "egy1=77*x+6 - 160"
   ]
  },
  {
   "cell_type": "code",
   "execution_count": 69,
   "metadata": {},
   "outputs": [
    {
     "data": {
      "image/png": "[encoded data removed]",
      "text/latex": [
       "$$\\left [ 2\\right ]$$"
      ],
      "text/plain": [
       "[2]"
      ]
     },
     "execution_count": 69,
     "metadata": {},
     "output_type": "execute_result"
    }
   ],
   "source": [
    "sp.solve(egy1,x)"
   ]
  },
  {
   "cell_type": "code",
   "execution_count": 70,
   "metadata": {},
   "outputs": [
    {
     "data": {
      "image/png": "[encoded data removed]",
      "text/latex": [
       "$$\\left [ - \\sqrt{5}, \\quad \\sqrt{5}\\right ]$$"
      ],
      "text/plain": [
       "[-√5, √5]"
      ]
     },
     "execution_count": 70,
     "metadata": {},
     "output_type": "execute_result"
    }
   ],
   "source": [
    "sp.solve(x**2 - 5, x)"
   ]
  },
  {
   "cell_type": "code",
   "execution_count": 71,
   "metadata": {},
   "outputs": [
    {
     "data": {
      "image/png": "[encoded data removed]",
      "text/latex": [
       "$$x$$"
      ],
      "text/plain": [
       "x"
      ]
     },
     "execution_count": 71,
     "metadata": {},
     "output_type": "execute_result"
    }
   ],
   "source": [
    "x"
   ]
  },
  {
   "cell_type": "code",
   "execution_count": 72,
   "metadata": {},
   "outputs": [],
   "source": [
    "e1 = 3*z + 2*y + 1*x - 7\n",
    "e2 = 4*z + 0*y + 2*x - 8\n",
    "e3 = 1*z + 4*y + 3*x - 9"
   ]
  },
  {
   "cell_type": "code",
   "execution_count": 73,
   "metadata": {},
   "outputs": [
    {
     "data": {
      "image/png": "[encoded data removed]",
      "text/latex": [
       "$$\\left \\{ x : \\frac{10}{7}, \\quad y : \\frac{6}{7}, \\quad z : \\frac{9}{7}\\right \\}$$"
      ],
      "text/plain": [
       "{x: 10/7, y: 6/7, z: 9/7}"
      ]
     },
     "execution_count": 73,
     "metadata": {},
     "output_type": "execute_result"
    }
   ],
   "source": [
    "sp.solve([e1,e2,e3],[x,y,z])"
   ]
  },
  {
   "cell_type": "code",
   "execution_count": 74,
   "metadata": {},
   "outputs": [],
   "source": [
    "def f(x):\n",
    "    return x**2 - 4"
   ]
  },
  {
   "cell_type": "code",
   "execution_count": 75,
   "metadata": {},
   "outputs": [
    {
     "name": "stdout",
     "output_type": "stream",
     "text": [
      "2.0\n"
     ]
    }
   ],
   "source": [
    "# Numerikus gyökkereséssel\n",
    "import scipy.optimize\n",
    "\n",
    "gyok = scipy.optimize.brentq(f,0,10)\n",
    "print(gyok)"
   ]
  },
  {
   "cell_type": "markdown",
   "metadata": {},
   "source": [
    "### Szimbolikus függvényekből numerikus függvények <a id='SymToNum'></a>\n",
    "\n",
    "Ezt a legegyszerűbben [*lambda function*](#Sajatfuggvenyek)-ök segítségével tehetjük meg"
   ]
  },
  {
   "cell_type": "code",
   "execution_count": 76,
   "metadata": {},
   "outputs": [
    {
     "data": {
      "image/png": "[encoded data removed]",
      "text/latex": [
       "$$a x^{2} + b x + c$$"
      ],
      "text/plain": [
       "   2          \n",
       "a⋅x  + b⋅x + c"
      ]
     },
     "execution_count": 76,
     "metadata": {},
     "output_type": "execute_result"
    }
   ],
   "source": [
    "a,b,c,x = sp.symbols('a,b,c,x')\n",
    "adat = [(a, 3.0), (b,-2.), (c,1.0)]\n",
    "\n",
    "masodfoku_x = a*x**2 + b*x + c\n",
    "\n",
    "masodfoku_x"
   ]
  },
  {
   "cell_type": "code",
   "execution_count": 77,
   "metadata": {},
   "outputs": [
    {
     "data": {
      "image/png": "[encoded data removed]",
      "text/latex": [
       "$$2.0$$"
      ],
      "text/plain": [
       "2.0"
      ]
     },
     "execution_count": 77,
     "metadata": {},
     "output_type": "execute_result"
    }
   ],
   "source": [
    "masodfoku_num = sp.lambdify(x,masodfoku_x.subs(adat))\n",
    "masodfoku_num(1.)"
   ]
  },
  {
   "cell_type": "markdown",
   "metadata": {},
   "source": [
    "# Egyszerű ábrák készítése  <a id='Egyszeruabrak'></a>"
   ]
  },
  {
   "cell_type": "code",
   "execution_count": 78,
   "metadata": {},
   "outputs": [],
   "source": [
    "import scipy as sc # Ez egyszerűsíti a sok függvénnyel való munkát\n",
    "import matplotlib.pyplot as plt # matplotlib csomag python rajzolójának behívása"
   ]
  },
  {
   "cell_type": "markdown",
   "metadata": {},
   "source": [
    "## Függvények ábrázolása egyszerű diagramokon"
   ]
  },
  {
   "cell_type": "code",
   "execution_count": 79,
   "metadata": {},
   "outputs": [],
   "source": [
    "def f(x):\n",
    "    return sc.sin(x)*(1-4*sc.exp(0.7*x)/(x**3))\n",
    "\n",
    "x1 = sc.linspace(2,10,30)\n",
    "y1 = f(x1)"
   ]
  },
  {
   "cell_type": "code",
   "execution_count": 81,
   "metadata": {
    "scrolled": true
   },
   "outputs": [
    {
     "data": {
      "image/png": "[encoded data removed]",
      "text/plain": [
       "<Figure size 566.929x340.157 with 1 Axes>"
      ]
     },
     "metadata": {
      "needs_background": "light"
     },
     "output_type": "display_data"
    },
    {
     "data": {
      "text/plain": [
       "<Figure size 432x288 with 0 Axes>"
      ]
     },
     "metadata": {},
     "output_type": "display_data"
    }
   ],
   "source": [
    "plt.figure(figsize=(20/2.54,12/2.54)) #inch-ben lehet megadni az ábra méretét - nem kötelező de érdemes, ha dokumentációba szánjuk\n",
    "\n",
    "#plot objektum létrehozása\n",
    "plt.plot(x1,y1)\n",
    "\n",
    "# tengelyfeliratok\n",
    "plt.xlabel('x',fontsize=12)\n",
    "plt.ylabel('f(x)',fontsize=12)\n",
    "\n",
    "# rácsozás\n",
    "plt.grid()\n",
    "\n",
    "# ábra mentés (még azelőtt kell, mielőtt kirajzolunk)\n",
    "# plt.savefig(\"abra1.png\", bbox_inches=\"tight\") \n",
    "# plt.savefig(\"abra1.pdf\", bbox_inches=\"tight\")\n",
    "\n",
    "# plot kirajzolása\n",
    "plt.show()\n",
    "\n",
    "# plot mentése\n",
    "plt.savefig('abra1.png')  # lehet .pdf, .svg formátumokban is menteni"
   ]
  },
  {
   "cell_type": "code",
   "execution_count": 82,
   "metadata": {},
   "outputs": [
    {
     "data": {
      "image/png": "[encoded data removed]",
      "text/plain": [
       "<Figure size 432x288 with 1 Axes>"
      ]
     },
     "metadata": {
      "needs_background": "light"
     },
     "output_type": "display_data"
    }
   ],
   "source": [
    "plt.plot(x1,y1,linewidth=3,color='k',linestyle='-.') # vonalvastagság, -szín, és -stílus módosítása\n",
    "plt.xlabel('x')\n",
    "plt.ylabel('f(x)')\n",
    "# megjelenítési határ\n",
    "plt.ylim(-0.5,0.5) #-0.5...0.5\n",
    "plt.xlim(None,8) # xmin...8\n",
    "plt.grid()\n",
    " \n",
    "plt.show()"
   ]
  },
  {
   "cell_type": "code",
   "execution_count": 83,
   "metadata": {},
   "outputs": [
    {
     "data": {
      "image/png": "[encoded data removed]",
      "text/plain": [
       "<Figure size 432x288 with 1 Axes>"
      ]
     },
     "metadata": {
      "needs_background": "light"
     },
     "output_type": "display_data"
    }
   ],
   "source": [
    "def g(x):\n",
    "    return sc.sqrt(x)\n",
    "def h(x):\n",
    "    return x**2\n",
    "\n",
    "x2 = sc.linspace(0.,1.,100) \n",
    "\n",
    "plt.plot(x2,g(x2))\n",
    "plt.plot(x2,h(x2))\n",
    "\n",
    "plt.xlabel('x',fontsize=12)\n",
    "# felirat\n",
    "plt.legend((r'$\\sqrt{x}$',r'$x^2$'), fontsize=12, loc = 5) # loc: 1:jobbfenn, 2: balfent, 3:ballent,...10\n",
    "plt.grid()\n",
    "\n",
    "\n",
    "plt.show()"
   ]
  },
  {
   "cell_type": "code",
   "execution_count": 84,
   "metadata": {},
   "outputs": [
    {
     "data": {
      "image/png": "[encoded data removed]",
      "text/plain": [
       "<Figure size 432x288 with 1 Axes>"
      ]
     },
     "metadata": {
      "needs_background": "light"
     },
     "output_type": "display_data"
    }
   ],
   "source": [
    "x3 = sc.arange(1,14+1)\n",
    "y3 = sc.exp(x3)/(1.4e4)\n",
    "plt.plot(x3, y3, linestyle = '', marker = 'o')\n",
    "plt.xlabel('szorgalmi hét sorszáma')\n",
    "plt.ylabel('hallgatók terheltsége [%]-ban')\n",
    "plt.grid()\n",
    "plt.show()"
   ]
  },
  {
   "cell_type": "code",
   "execution_count": 85,
   "metadata": {},
   "outputs": [
    {
     "data": {
      "image/png": "[encoded data removed]",
      "text/plain": [
       "<Figure size 432x288 with 1 Axes>"
      ]
     },
     "metadata": {
      "needs_background": "light"
     },
     "output_type": "display_data"
    }
   ],
   "source": [
    "plt.plot(x3, y3, linestyle = '-', marker = 'o')\n",
    "plt.yscale('log')\n",
    "plt.xlabel('szorgalmi hét sorszáma')\n",
    "plt.ylabel(r'hallgatók terheltsége [%]-ban')\n",
    "plt.grid()\n",
    "plt.show()"
   ]
  },
  {
   "cell_type": "markdown",
   "metadata": {},
   "source": [
    "## Parametrikus függvényábrázolás:"
   ]
  },
  {
   "cell_type": "code",
   "execution_count": 86,
   "metadata": {},
   "outputs": [
    {
     "data": {
      "image/png": "[encoded data removed]",
      "text/plain": [
       "<Figure size 432x288 with 1 Axes>"
      ]
     },
     "metadata": {
      "needs_background": "light"
     },
     "output_type": "display_data"
    }
   ],
   "source": [
    "t = sc.linspace(0,2*sc.pi,100)\n",
    "x = sc.sin(t)\n",
    "y = sc.cos(t)\n",
    "\n",
    "plt.plot(x, y, linestyle = '--')\n",
    "plt.grid()\n",
    "plt.axis('equal')\n",
    "plt.show()"
   ]
  },
  {
   "cell_type": "markdown",
   "metadata": {},
   "source": [
    "## 3D függvényábrázolás"
   ]
  },
  {
   "cell_type": "code",
   "execution_count": 87,
   "metadata": {},
   "outputs": [],
   "source": [
    "from mpl_toolkits.mplot3d import Axes3D"
   ]
  },
  {
   "cell_type": "code",
   "execution_count": 88,
   "metadata": {},
   "outputs": [],
   "source": [
    "def f(x, y):\n",
    "    return sc.sin(sc.exp( - x ** 2 - y ** 2))\n",
    "\n",
    "x = sc.linspace(-2, 2, 30)\n",
    "y = sc.linspace(-2, 2, 30)\n",
    "\n",
    "X, Y = sc.meshgrid(x, y)\n",
    "Z = f(X, Y)"
   ]
  },
  {
   "cell_type": "code",
   "execution_count": 89,
   "metadata": {
    "scrolled": true
   },
   "outputs": [
    {
     "data": {
      "image/png": "[encoded data removed]",
      "text/plain": [
       "<Figure size 453.543x283.465 with 1 Axes>"
      ]
     },
     "metadata": {
      "needs_background": "light"
     },
     "output_type": "display_data"
    }
   ],
   "source": [
    "fig = plt.figure(figsize=(16/2.54,10/2.54)) # itt manuálisan létre kell hozni a plot (figure) objektumot\n",
    "ax = fig.add_subplot(111, projection='3d')\n",
    "ax.plot_surface(X, Y, Z, cmap='viridis')\n",
    "plt.show()"
   ]
  }
 ],
 "metadata": {
  "kernelspec": {
   "display_name": "Python 3",
   "language": "python",
   "name": "python3"
  },
  "language_info": {
   "codemirror_mode": {
    "name": "ipython",
    "version": 3
   },
   "file_extension": ".py",
   "mimetype": "text/x-python",
   "name": "python",
   "nbconvert_exporter": "python",
   "pygments_lexer": "ipython3",
   "version": "3.6.8"
  }
 },
 "nbformat": 4,
 "nbformat_minor": 2
}
